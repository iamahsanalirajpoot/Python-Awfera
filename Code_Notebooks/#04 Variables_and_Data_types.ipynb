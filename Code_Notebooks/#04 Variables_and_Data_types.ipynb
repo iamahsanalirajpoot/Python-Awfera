{
 "cells": [
  {
   "cell_type": "markdown",
   "id": "026c202d",
   "metadata": {
    "id": "026c202d"
   },
   "source": [
    "# **Lecture 4: Variables and Data Types**"
   ]
  },
  {
   "cell_type": "markdown",
   "id": "6cf1ce2e",
   "metadata": {
    "id": "6cf1ce2e"
   },
   "source": [
    "**Author Name :** Ahsan Ali Rajpoot\n",
    "- **Linkedin :** [linkedin.com/in/iamahsanalirajpoot](linkedin.com/in/iamahsanalirajpoot)\n",
    "- **Facebook :** [facebook.com/iamahsanalirajpoot](facebook.com/iamahsanalirajpoot)\n",
    "- **GitHub :** [github.com/iamahsanalirajpoot](github.com/iamahsanalirajpoot)\n",
    "- **Kaggle :** [kaggle.com/ahsanalirajpoot](kaggle.com/ahsanalirajpoot)"
   ]
  },
  {
   "cell_type": "markdown",
   "id": "d4574dbd",
   "metadata": {
    "id": "d4574dbd"
   },
   "source": [
    "## **Variables In Python**"
   ]
  },
  {
   "cell_type": "markdown",
   "id": "42ad9ad6",
   "metadata": {
    "id": "42ad9ad6"
   },
   "source": [
    "### **What Are Variables?**\n",
    "- A variable is a container that temporarily stores data during the execution of a program.\n",
    "- The value stored in a variable can change during the program's execution, which is why it is called a \"variable.\"\n"
   ]
  },
  {
   "cell_type": "markdown",
   "id": "6fab1c3d",
   "metadata": {
    "id": "6fab1c3d"
   },
   "source": [
    "### **Rules for Naming Variables:**\n",
    "**Key Rules:**\n",
    "- **Start with a Letter or Underscore:** Variable names must begin with a letter (a-z, A-Z) or an underscore (_).\\\n",
    " `Example:` username, _firstname\n",
    "\n",
    "- **Cannot start with a Number:** Variable names cannot begin with a digit.\\\n",
    " `Example:` 1user is invalid, but user1 is valid.\n",
    "\n",
    "- **Use Only Letters, Numbers, and Underscores:** Variable names can only contain letters, numbers, and underscores.\\\n",
    " `Example:` user_name, age1\n",
    "\n",
    "- **Case-Sensitive:** Variable names are case-sensitive.\\\n",
    " `Example:` FirstName and firstname are considered two different variables.\n",
    "\n",
    "- **Avoid Reserved Words:** Do not use Python’s reserved keywords (e.g., print, if, for) as variable names.\\\n",
    " `Example:` print = 10 is invalid because print is a reserved word.\n",
    "\n",
    "- **Meaningful Names:** Use meaningful and descriptive names for variables to improve code readability.\\\n",
    " `Example:` Use student_name instead of sn."
   ]
  },
  {
   "cell_type": "markdown",
   "id": "427d703a",
   "metadata": {
    "id": "427d703a"
   },
   "source": [
    "### **Initializing Variables**\n",
    "**Syntax:**\n",
    "To create a variable, you need three things:\n",
    "- **Variable Name:** The name of the variable (e.g., name).\n",
    "- **Assignment Operator:** The equal sign (=) is used to assign a value to the variable.\n",
    "- **Value:** The data you want to store in the variable (e.g., Ahsan).\n",
    "\n",
    "**Example:**"
   ]
  },
  {
   "cell_type": "markdown",
   "id": "75d70c85",
   "metadata": {
    "id": "75d70c85"
   },
   "source": [
    "Assigning a string value to a variable:"
   ]
  },
  {
   "cell_type": "code",
   "execution_count": 2,
   "id": "c8293178",
   "metadata": {
    "executionInfo": {
     "elapsed": 139,
     "status": "ok",
     "timestamp": 1749053674023,
     "user": {
      "displayName": "Ahsan Rajpoot",
      "userId": "07291457265130406735"
     },
     "user_tz": -300
    },
    "id": "c8293178"
   },
   "outputs": [],
   "source": [
    "name = \"Ahsan\"  # -> Here, 'name' is the variable name, and \"Ahsan\" is the value assigned to it"
   ]
  },
  {
   "cell_type": "markdown",
   "id": "834c5a2a",
   "metadata": {
    "id": "834c5a2a"
   },
   "source": [
    "Assigning an integer value to a variable:"
   ]
  },
  {
   "cell_type": "code",
   "execution_count": 3,
   "id": "75872dbd",
   "metadata": {
    "executionInfo": {
     "elapsed": 3,
     "status": "ok",
     "timestamp": 1749053674033,
     "user": {
      "displayName": "Ahsan Rajpoot",
      "userId": "07291457265130406735"
     },
     "user_tz": -300
    },
    "id": "75872dbd"
   },
   "outputs": [],
   "source": [
    "age = 18  # -> Here, 'age' is the variable name, and \"18\" is the value assigned to it"
   ]
  },
  {
   "cell_type": "markdown",
   "id": "4fd7c8d1",
   "metadata": {
    "id": "4fd7c8d1"
   },
   "source": [
    "## **Data Types in Python**"
   ]
  },
  {
   "cell_type": "markdown",
   "id": "bc9d1cf9",
   "metadata": {
    "id": "bc9d1cf9"
   },
   "source": [
    "### **What is Datatype**\n",
    "A **data type** is a classification that specifies the type of data a variable can hold. In Python, the main data types are:\n",
    "\n",
    "1. **Numeric Types**: These include integers `(int)`, floating-point numbers `(float)`, and complex numbers `(complex)`.\n",
    "\n",
    "2. **Text Type**: This includes strings `(str)`.\n",
    "\n",
    "3. **Sequence Types**: These include lists `(list)`, and tuples `(tuple)`.\n",
    "\n",
    "4. **Mapping Type**: This includes dictionaries `(dict)`.\n",
    "\n",
    "5. **Set Types**: These include sets `(set)` and frozensets `(frozenset)`.\n",
    "\n",
    "6. **Boolean Type**: This includes boolean values `(bool)`, which can be either True or False.\n",
    "\n",
    "7. **None Type**: This includes the NoneType, which has a single value, None."
   ]
  },
  {
   "cell_type": "markdown",
   "id": "87aca872",
   "metadata": {
    "id": "87aca872"
   },
   "source": [
    "### **1. Numeric Data Types**\n",
    "Numeric data types represent numbers and can be used for mathematical operations."
   ]
  },
  {
   "cell_type": "markdown",
   "id": "599f3800",
   "metadata": {
    "id": "599f3800"
   },
   "source": [
    "#### **Integer `(int)`**\n",
    "- Represents whole numbers, both positive and negative.\n",
    "\n",
    "**Example:**"
   ]
  },
  {
   "cell_type": "code",
   "execution_count": 4,
   "id": "8aa64c34",
   "metadata": {
    "colab": {
     "base_uri": "https://localhost:8080/"
    },
    "executionInfo": {
     "elapsed": 21,
     "status": "ok",
     "timestamp": 1749053674057,
     "user": {
      "displayName": "Ahsan Rajpoot",
      "userId": "07291457265130406735"
     },
     "user_tz": -300
    },
    "id": "8aa64c34",
    "outputId": "9fbe39a9-c0db-4222-f0ae-7649a53d13d6"
   },
   "outputs": [
    {
     "name": "stdout",
     "output_type": "stream",
     "text": [
      "<class 'int'>\n",
      "<class 'int'>\n",
      "<class 'int'>\n",
      "<class 'int'>\n"
     ]
    }
   ],
   "source": [
    "age = 18\n",
    "salary = 189000\n",
    "temperature_celsius = -15\n",
    "bank_balance = -200\n",
    "\n",
    "print(type(age))  # -> type function will return type of data stored in variable\n",
    "print(type(salary))\n",
    "print(type(temperature_celsius))\n",
    "print(type(bank_balance))"
   ]
  },
  {
   "cell_type": "markdown",
   "id": "35cc1530",
   "metadata": {
    "id": "35cc1530"
   },
   "source": [
    "#### **float `(float)`**\n",
    "- Represents real numbers with decimal points.\n",
    "\n",
    "**Example:**"
   ]
  },
  {
   "cell_type": "code",
   "execution_count": 1,
   "id": "84ffe3e6",
   "metadata": {
    "colab": {
     "base_uri": "https://localhost:8080/"
    },
    "executionInfo": {
     "elapsed": 20,
     "status": "ok",
     "timestamp": 1749053674076,
     "user": {
      "displayName": "Ahsan Rajpoot",
      "userId": "07291457265130406735"
     },
     "user_tz": -300
    },
    "id": "84ffe3e6",
    "outputId": "16eb6254-da26-425e-f8ec-77668841e0fc"
   },
   "outputs": [
    {
     "name": "stdout",
     "output_type": "stream",
     "text": [
      "<class 'float'>\n",
      "<class 'float'>\n",
      "<class 'float'>\n"
     ]
    }
   ],
   "source": [
    "percentage_marks = 96.98\n",
    "price = 799.99\n",
    "net_profit = -434.67\n",
    "\n",
    "\n",
    "print(type(percentage_marks))\n",
    "print(type(price))\n",
    "print(type(net_profit))"
   ]
  },
  {
   "cell_type": "markdown",
   "id": "e2e3aa28",
   "metadata": {
    "id": "e2e3aa28"
   },
   "source": [
    "#### **Complex Numbers `(complex)`**\n",
    "- Represents numbers with a real and imaginary part.\n",
    "\n",
    "**Example:**"
   ]
  },
  {
   "cell_type": "code",
   "execution_count": 6,
   "id": "b0c41510",
   "metadata": {
    "colab": {
     "base_uri": "https://localhost:8080/"
    },
    "executionInfo": {
     "elapsed": 37,
     "status": "ok",
     "timestamp": 1749053674109,
     "user": {
      "displayName": "Ahsan Rajpoot",
      "userId": "07291457265130406735"
     },
     "user_tz": -300
    },
    "id": "b0c41510",
    "outputId": "685469c4-cdcf-4c8e-a317-281ddb47b55d"
   },
   "outputs": [
    {
     "name": "stdout",
     "output_type": "stream",
     "text": [
      "<class 'complex'>\n"
     ]
    }
   ],
   "source": [
    "complex_number = 4 + 6j\n",
    "\n",
    "print(type(complex_number))"
   ]
  },
  {
   "cell_type": "markdown",
   "id": "2d278d2b",
   "metadata": {
    "id": "2d278d2b"
   },
   "source": [
    "### **2. Text Data Type**"
   ]
  },
  {
   "cell_type": "markdown",
   "id": "6427deaa",
   "metadata": {
    "id": "6427deaa"
   },
   "source": [
    "#### **String `(str)`**\n",
    "- Represents a sequence of characters enclosed in single or double quotes."
   ]
  },
  {
   "cell_type": "code",
   "execution_count": 7,
   "id": "9631cac5",
   "metadata": {
    "colab": {
     "base_uri": "https://localhost:8080/"
    },
    "executionInfo": {
     "elapsed": 25,
     "status": "ok",
     "timestamp": 1749053674111,
     "user": {
      "displayName": "Ahsan Rajpoot",
      "userId": "07291457265130406735"
     },
     "user_tz": -300
    },
    "id": "9631cac5",
    "outputId": "edba526e-97d5-4636-fe72-0e8dc3e9e9e2"
   },
   "outputs": [
    {
     "name": "stdout",
     "output_type": "stream",
     "text": [
      "<class 'str'>\n",
      "<class 'str'>\n"
     ]
    }
   ],
   "source": [
    "name = \"Ahsan\"\n",
    "full_name = 'Ahsan Ali Rajpoot'\n",
    "\n",
    "print(type(name))\n",
    "print(type(full_name))"
   ]
  },
  {
   "cell_type": "markdown",
   "id": "b83b9a8d",
   "metadata": {
    "id": "b83b9a8d"
   },
   "source": [
    "##### **Multiline strings:**\n",
    "\n",
    "Multiline strings can be created using triple quotes"
   ]
  },
  {
   "cell_type": "code",
   "execution_count": 8,
   "id": "34a5b0e5",
   "metadata": {
    "colab": {
     "base_uri": "https://localhost:8080/"
    },
    "executionInfo": {
     "elapsed": 71,
     "status": "ok",
     "timestamp": 1749053674183,
     "user": {
      "displayName": "Ahsan Rajpoot",
      "userId": "07291457265130406735"
     },
     "user_tz": -300
    },
    "id": "34a5b0e5",
    "outputId": "97e9e498-6476-4052-82a1-661c628666aa"
   },
   "outputs": [
    {
     "name": "stdout",
     "output_type": "stream",
     "text": [
      "<class 'str'>\n"
     ]
    }
   ],
   "source": [
    "# creating meaningful multiline string\n",
    "\n",
    "multiline_str = \"\"\"\n",
    "Life is full of surprises,\n",
    "Sometimes sunshine, sometimes rain.\n",
    "Code runs perfectly at night,\n",
    "But crashes during the day again.\n",
    "\n",
    "Tea fuels the dreamers,\n",
    "Errors teach us to grow.\n",
    "Keep learning, keep building,\n",
    "That's the developer's flow.\n",
    "\"\"\"\n",
    "\n",
    "print(type(multiline_str))"
   ]
  },
  {
   "cell_type": "markdown",
   "id": "ddf80696",
   "metadata": {
    "id": "ddf80696"
   },
   "source": [
    "##### **String Operations:**"
   ]
  },
  {
   "cell_type": "markdown",
   "id": "55230f44",
   "metadata": {
    "id": "55230f44"
   },
   "source": [
    "**Concatenation:** Joining two or more strings together using the `+` operator."
   ]
  },
  {
   "cell_type": "code",
   "execution_count": 9,
   "id": "909daa59",
   "metadata": {
    "colab": {
     "base_uri": "https://localhost:8080/"
    },
    "executionInfo": {
     "elapsed": 28,
     "status": "ok",
     "timestamp": 1749053674215,
     "user": {
      "displayName": "Ahsan Rajpoot",
      "userId": "07291457265130406735"
     },
     "user_tz": -300
    },
    "id": "909daa59",
    "outputId": "8a16c241-7e1e-4afa-eb85-9ff3c220e226"
   },
   "outputs": [
    {
     "name": "stdout",
     "output_type": "stream",
     "text": [
      "Ahsan Rajpoot\n"
     ]
    }
   ],
   "source": [
    "# string oncatenation\n",
    "first_name = \"Ahsan\"\n",
    "last_name = \"Rajpoot\"\n",
    "full_name = first_name + \" \" + last_name\n",
    "\n",
    "print(full_name)"
   ]
  },
  {
   "cell_type": "markdown",
   "id": "4d17ea20",
   "metadata": {
    "id": "4d17ea20"
   },
   "source": [
    "**Repetition:** Repeating a string multiple times using the `*` operator."
   ]
  },
  {
   "cell_type": "code",
   "execution_count": 10,
   "id": "29ac0643",
   "metadata": {
    "colab": {
     "base_uri": "https://localhost:8080/"
    },
    "executionInfo": {
     "elapsed": 66,
     "status": "ok",
     "timestamp": 1749053674267,
     "user": {
      "displayName": "Ahsan Rajpoot",
      "userId": "07291457265130406735"
     },
     "user_tz": -300
    },
    "id": "29ac0643",
    "outputId": "fb88b8db-340d-40bb-f27c-fb94fdec7f93"
   },
   "outputs": [
    {
     "name": "stdout",
     "output_type": "stream",
     "text": [
      "hahahahaha\n"
     ]
    }
   ],
   "source": [
    "# string repetition\n",
    "laugh = \"ha\" * 5\n",
    "print(laugh)"
   ]
  },
  {
   "cell_type": "markdown",
   "id": "9543d9d4",
   "metadata": {
    "id": "9543d9d4"
   },
   "source": [
    "**Indexing:** Accessing individual characters in a string using square brackets `[]` and passing the index of the character."
   ]
  },
  {
   "cell_type": "code",
   "execution_count": 11,
   "id": "e6179ee8",
   "metadata": {
    "colab": {
     "base_uri": "https://localhost:8080/"
    },
    "executionInfo": {
     "elapsed": 52,
     "status": "ok",
     "timestamp": 1749053674269,
     "user": {
      "displayName": "Ahsan Rajpoot",
      "userId": "07291457265130406735"
     },
     "user_tz": -300
    },
    "id": "e6179ee8",
    "outputId": "fab0c70d-d96b-469d-c82a-f71d5c9bcd4a"
   },
   "outputs": [
    {
     "name": "stdout",
     "output_type": "stream",
     "text": [
      "A\n",
      "s\n"
     ]
    }
   ],
   "source": [
    "# string indexing\n",
    "name = \"Ahsan Rajpoot\"\n",
    "first_char = name[0]  # -> 'A'\n",
    "third_char = name[2]  # -> 's'\n",
    "\n",
    "print(first_char)\n",
    "print(third_char)"
   ]
  },
  {
   "cell_type": "markdown",
   "id": "fe699a8e",
   "metadata": {
    "id": "fe699a8e"
   },
   "source": [
    "##### **String Slicing:**\n",
    "\n",
    "Extracting a substring from a string using the colon `:` operator within square brackets `[]` and specifying the start and end indices."
   ]
  },
  {
   "cell_type": "code",
   "execution_count": 12,
   "id": "57c9e018",
   "metadata": {
    "colab": {
     "base_uri": "https://localhost:8080/"
    },
    "executionInfo": {
     "elapsed": 14,
     "status": "ok",
     "timestamp": 1749053674280,
     "user": {
      "displayName": "Ahsan Rajpoot",
      "userId": "07291457265130406735"
     },
     "user_tz": -300
    },
    "id": "57c9e018",
    "outputId": "033a66f8-22a5-461a-f63a-6d1d44fac630"
   },
   "outputs": [
    {
     "name": "stdout",
     "output_type": "stream",
     "text": [
      "Ahsan\n",
      "Ali\n",
      "Rajpoot\n"
     ]
    }
   ],
   "source": [
    "# string slicing\n",
    "name = \"Ahsan Ali Rajpoot\"\n",
    "first_name = name[0:5]  # -> end index is exclusive and start index is inclusive\n",
    "mid_name = name[6:9]\n",
    "lst_name = name[10:18]\n",
    "\n",
    "print(first_name)  # -> 'Ahsan'\n",
    "print(mid_name)    # -> 'Ali'\n",
    "print(lst_name)    # -> 'Rajpoot'"
   ]
  },
  {
   "cell_type": "markdown",
   "id": "c3b501f1",
   "metadata": {
    "id": "c3b501f1"
   },
   "source": [
    "##### **f-string:**\n",
    "\n",
    "A way to format strings in Python by adding expressions/variables inside curly braces `{}` within a string prefixed with `f`."
   ]
  },
  {
   "cell_type": "code",
   "execution_count": 13,
   "id": "4ce07c7d",
   "metadata": {
    "colab": {
     "base_uri": "https://localhost:8080/"
    },
    "executionInfo": {
     "elapsed": 9,
     "status": "ok",
     "timestamp": 1749053674349,
     "user": {
      "displayName": "Ahsan Rajpoot",
      "userId": "07291457265130406735"
     },
     "user_tz": -300
    },
    "id": "4ce07c7d",
    "outputId": "5aec44dd-6917-4aca-86a9-3cdd222c3156"
   },
   "outputs": [
    {
     "name": "stdout",
     "output_type": "stream",
     "text": [
      "Hello, my name is Ahsan and I am 18 years old.\n"
     ]
    }
   ],
   "source": [
    "name = \"Ahsan\"\n",
    "age = 18\n",
    "\n",
    "# creating f-string\n",
    "greeting = f\"Hello, my name is {name} and I am {age} years old.\"\n",
    "\n",
    "print(greeting)"
   ]
  },
  {
   "cell_type": "markdown",
   "id": "254584d0",
   "metadata": {
    "id": "254584d0"
   },
   "source": [
    "### **3. Sequence Types**\n",
    "- Sequence types are ordered collections of items."
   ]
  },
  {
   "cell_type": "markdown",
   "id": "45056ba4",
   "metadata": {
    "id": "45056ba4"
   },
   "source": [
    "Before Jumping into the Sequence Types, let's understand the following concepts:\n",
    "\n",
    "**What is meant by Ordered?**\n",
    "- Ordered means that the items in the sequence have a defined order, and you can access them using their index.\n",
    "\n",
    "**What is difference between mutable and immutable?**\n",
    "- **Mutable:** Can be changed after creation (e.g., lists).\n",
    "- **Immutable:** Cannot be changed after creation (e.g., tuples, strings)."
   ]
  },
  {
   "cell_type": "markdown",
   "id": "138ca2ae",
   "metadata": {
    "id": "138ca2ae"
   },
   "source": [
    "#### **List**\n",
    "- Represents an ordered, mutable collection of items."
   ]
  },
  {
   "cell_type": "markdown",
   "id": "35c82364",
   "metadata": {
    "id": "35c82364"
   },
   "source": [
    "##### **Creating a List:**\n",
    "\n",
    "We use square brackets `[]` to create a list"
   ]
  },
  {
   "cell_type": "code",
   "execution_count": 14,
   "id": "2faa9b2b",
   "metadata": {
    "colab": {
     "base_uri": "https://localhost:8080/"
    },
    "executionInfo": {
     "elapsed": 38,
     "status": "ok",
     "timestamp": 1749053674389,
     "user": {
      "displayName": "Ahsan Rajpoot",
      "userId": "07291457265130406735"
     },
     "user_tz": -300
    },
    "id": "2faa9b2b",
    "outputId": "d0a9df45-d2c5-49fa-f78f-785c4c37656c"
   },
   "outputs": [
    {
     "name": "stdout",
     "output_type": "stream",
     "text": [
      "[1, 3, 5, 6, 7, 8, 9, 10]\n",
      "<class 'list'>\n"
     ]
    }
   ],
   "source": [
    "list_of_numbers = [1, 3, 5, 6, 7, 8, 9, 10]\n",
    "\n",
    "print(list_of_numbers)\n",
    "print(type(list_of_numbers))"
   ]
  },
  {
   "cell_type": "code",
   "execution_count": 15,
   "id": "cb7ac861",
   "metadata": {
    "colab": {
     "base_uri": "https://localhost:8080/"
    },
    "executionInfo": {
     "elapsed": 80,
     "status": "ok",
     "timestamp": 1749053674471,
     "user": {
      "displayName": "Ahsan Rajpoot",
      "userId": "07291457265130406735"
     },
     "user_tz": -300
    },
    "id": "cb7ac861",
    "outputId": "5c5d8022-4ad7-4b4b-c3b8-b902347c61dc"
   },
   "outputs": [
    {
     "name": "stdout",
     "output_type": "stream",
     "text": [
      "[1, 'Ahsan', 3.14, True, None]\n"
     ]
    }
   ],
   "source": [
    "# Creating a list with mixed data types\n",
    "mixed_list = [1, \"Ahsan\", 3.14, True, None]\n",
    "\n",
    "print(mixed_list)"
   ]
  },
  {
   "cell_type": "markdown",
   "id": "b50fa1ac",
   "metadata": {
    "id": "b50fa1ac"
   },
   "source": [
    "##### **Accessing List Elements:**\n",
    "\n",
    "We can access the list element by their index number, Each element in a list has an index, starting from 0\n"
   ]
  },
  {
   "cell_type": "code",
   "execution_count": 16,
   "id": "44745a34",
   "metadata": {
    "colab": {
     "base_uri": "https://localhost:8080/"
    },
    "executionInfo": {
     "elapsed": 70,
     "status": "ok",
     "timestamp": 1749053674473,
     "user": {
      "displayName": "Ahsan Rajpoot",
      "userId": "07291457265130406735"
     },
     "user_tz": -300
    },
    "id": "44745a34",
    "outputId": "fe22186c-5963-459e-e603-b06d82c5c8d8"
   },
   "outputs": [
    {
     "name": "stdout",
     "output_type": "stream",
     "text": [
      "1\n",
      "2\n",
      "5\n",
      "4\n"
     ]
    }
   ],
   "source": [
    "list_of_numbers = [1, 2, 3, 4, 5]\n",
    "\n",
    "print(list_of_numbers[0])  # -> Accessing the first element of the list\n",
    "print(list_of_numbers[1])  # -> Accessing the second element of the list\n",
    "print(list_of_numbers[-1]) # -> Accessing the last element of the list\n",
    "print(list_of_numbers[-2]) # -> Accessing the 2nd last element of the list"
   ]
  },
  {
   "cell_type": "markdown",
   "id": "62d5aa80",
   "metadata": {
    "id": "62d5aa80"
   },
   "source": [
    "##### **Slicing Lists:**\n",
    "\n",
    "We can extract a portion of the list using slicing, which allows us to specify a start and end index.\n",
    "\n"
   ]
  },
  {
   "cell_type": "code",
   "execution_count": 17,
   "id": "b97f584e",
   "metadata": {
    "colab": {
     "base_uri": "https://localhost:8080/"
    },
    "executionInfo": {
     "elapsed": 11,
     "status": "ok",
     "timestamp": 1749053674503,
     "user": {
      "displayName": "Ahsan Rajpoot",
      "userId": "07291457265130406735"
     },
     "user_tz": -300
    },
    "id": "b97f584e",
    "outputId": "ba281b20-3b40-4ffa-8411-70d561f1af0b"
   },
   "outputs": [
    {
     "name": "stdout",
     "output_type": "stream",
     "text": [
      "['Orange', 'Strawbarry', 'Mango']\n"
     ]
    }
   ],
   "source": [
    "items = [\"Apple\", \"Banana\", \"Orange\", \"Strawbarry\", \"Mango\"]\n",
    "\n",
    "print(items[2:5])  # -> Slicing the list to get elements from index 2 to 4 (5 is exclusive)"
   ]
  },
  {
   "cell_type": "markdown",
   "id": "09a0551e",
   "metadata": {
    "id": "09a0551e"
   },
   "source": [
    "##### **Adding List Element:**"
   ]
  },
  {
   "cell_type": "markdown",
   "id": "1c80eeb4",
   "metadata": {
    "id": "1c80eeb4"
   },
   "source": [
    "- Using `append()` (Adds one item to the end)"
   ]
  },
  {
   "cell_type": "code",
   "execution_count": 18,
   "id": "1a3bfc92",
   "metadata": {
    "colab": {
     "base_uri": "https://localhost:8080/"
    },
    "executionInfo": {
     "elapsed": 10,
     "status": "ok",
     "timestamp": 1749053674515,
     "user": {
      "displayName": "Ahsan Rajpoot",
      "userId": "07291457265130406735"
     },
     "user_tz": -300
    },
    "id": "1a3bfc92",
    "outputId": "d59fda3b-adcc-4d40-a1e1-3c22127ede23"
   },
   "outputs": [
    {
     "name": "stdout",
     "output_type": "stream",
     "text": [
      "[10, 20, 30, 40]\n"
     ]
    }
   ],
   "source": [
    "items = [10, 20, 30]\n",
    "items.append(40)  # -> adds 40 at the end\n",
    "print(items)"
   ]
  },
  {
   "cell_type": "markdown",
   "id": "36e7468b",
   "metadata": {
    "id": "36e7468b"
   },
   "source": [
    "- Using `insert(index, value)` (Adds item at specific position)"
   ]
  },
  {
   "cell_type": "code",
   "execution_count": 19,
   "id": "0591a78a",
   "metadata": {
    "colab": {
     "base_uri": "https://localhost:8080/"
    },
    "executionInfo": {
     "elapsed": 15,
     "status": "ok",
     "timestamp": 1749053674532,
     "user": {
      "displayName": "Ahsan Rajpoot",
      "userId": "07291457265130406735"
     },
     "user_tz": -300
    },
    "id": "0591a78a",
    "outputId": "356f6f70-e32e-430a-c576-43de3a462bb7"
   },
   "outputs": [
    {
     "name": "stdout",
     "output_type": "stream",
     "text": [
      "[10, 20, 30, 40]\n"
     ]
    }
   ],
   "source": [
    "items = [10, 30, 40]\n",
    "items.insert(1, 20)  # -> inserts 20 at index 1\n",
    "print(items)"
   ]
  },
  {
   "cell_type": "markdown",
   "id": "fa56acf8",
   "metadata": {
    "id": "fa56acf8"
   },
   "source": [
    "- Using `extend()` (Adds multiple items from another list)"
   ]
  },
  {
   "cell_type": "code",
   "execution_count": 20,
   "id": "5da442ef",
   "metadata": {
    "colab": {
     "base_uri": "https://localhost:8080/"
    },
    "executionInfo": {
     "elapsed": 13,
     "status": "ok",
     "timestamp": 1749053674542,
     "user": {
      "displayName": "Ahsan Rajpoot",
      "userId": "07291457265130406735"
     },
     "user_tz": -300
    },
    "id": "5da442ef",
    "outputId": "3e37fa49-7c04-4f6d-f217-357d2d425c3b"
   },
   "outputs": [
    {
     "name": "stdout",
     "output_type": "stream",
     "text": [
      "[2, 4, 6, 8, 10, 12, 14]\n"
     ]
    }
   ],
   "source": [
    "items = [2, 4, 6, 8]\n",
    "items.extend([10, 12, 14])  # -> adds multiple elements\n",
    "\n",
    "print(items)"
   ]
  },
  {
   "cell_type": "markdown",
   "id": "ecd1ef10",
   "metadata": {
    "id": "ecd1ef10"
   },
   "source": [
    "- Using `+` operator (Combines two lists (creates new list))"
   ]
  },
  {
   "cell_type": "code",
   "execution_count": 21,
   "id": "1e0e7738",
   "metadata": {
    "colab": {
     "base_uri": "https://localhost:8080/"
    },
    "executionInfo": {
     "elapsed": 19,
     "status": "ok",
     "timestamp": 1749053674562,
     "user": {
      "displayName": "Ahsan Rajpoot",
      "userId": "07291457265130406735"
     },
     "user_tz": -300
    },
    "id": "1e0e7738",
    "outputId": "c729ad27-f8cd-4222-d5f6-dc1f12896022"
   },
   "outputs": [
    {
     "name": "stdout",
     "output_type": "stream",
     "text": [
      "[1, 2, 3, 4, 5, 6]\n"
     ]
    }
   ],
   "source": [
    "list_1 = [1, 2, 3]\n",
    "list_2 = [4, 5, 6]\n",
    "combined = list_1 + list_2  # -> new combined list\n",
    "print(combined)\n"
   ]
  },
  {
   "cell_type": "markdown",
   "id": "396ed6f0",
   "metadata": {
    "id": "396ed6f0"
   },
   "source": [
    "- Using `*= n` (Repeat list elements)"
   ]
  },
  {
   "cell_type": "code",
   "execution_count": 22,
   "id": "89daf828",
   "metadata": {
    "colab": {
     "base_uri": "https://localhost:8080/"
    },
    "executionInfo": {
     "elapsed": 50,
     "status": "ok",
     "timestamp": 1749053674614,
     "user": {
      "displayName": "Ahsan Rajpoot",
      "userId": "07291457265130406735"
     },
     "user_tz": -300
    },
    "id": "89daf828",
    "outputId": "d4519085-2f67-4a3e-a0ab-c1fa30a9c1eb"
   },
   "outputs": [
    {
     "name": "stdout",
     "output_type": "stream",
     "text": [
      "['a', 'b', 'c', 'a', 'b', 'c', 'a', 'b', 'c']\n"
     ]
    }
   ],
   "source": [
    "items = ['a', 'b', 'c']\n",
    "items *= 3  # -> repeats list 3 times\n",
    "print(items)"
   ]
  },
  {
   "cell_type": "markdown",
   "id": "ea9869d9",
   "metadata": {
    "id": "ea9869d9"
   },
   "source": [
    "##### **Removing List Elements:**"
   ]
  },
  {
   "cell_type": "markdown",
   "id": "041fc80f",
   "metadata": {
    "id": "041fc80f"
   },
   "source": [
    "- Using `pop()` (removes last element)"
   ]
  },
  {
   "cell_type": "code",
   "execution_count": 23,
   "id": "7f231c8a",
   "metadata": {
    "colab": {
     "base_uri": "https://localhost:8080/"
    },
    "executionInfo": {
     "elapsed": 12,
     "status": "ok",
     "timestamp": 1749053674625,
     "user": {
      "displayName": "Ahsan Rajpoot",
      "userId": "07291457265130406735"
     },
     "user_tz": -300
    },
    "id": "7f231c8a",
    "outputId": "f4367cd6-4389-45bb-b586-523cce33c844"
   },
   "outputs": [
    {
     "name": "stdout",
     "output_type": "stream",
     "text": [
      "[10, 20, 30, 40]\n"
     ]
    }
   ],
   "source": [
    "items = [10, 20, 30, 40, 50]\n",
    "items.pop()  # -> removes last element\n",
    "print(items)"
   ]
  },
  {
   "cell_type": "markdown",
   "id": "a11d1dc0",
   "metadata": {
    "id": "a11d1dc0"
   },
   "source": [
    "- Using `pop(index)` (removes specific index)"
   ]
  },
  {
   "cell_type": "code",
   "execution_count": 24,
   "id": "c4d7b784",
   "metadata": {
    "colab": {
     "base_uri": "https://localhost:8080/"
    },
    "executionInfo": {
     "elapsed": 11,
     "status": "ok",
     "timestamp": 1749053674639,
     "user": {
      "displayName": "Ahsan Rajpoot",
      "userId": "07291457265130406735"
     },
     "user_tz": -300
    },
    "id": "c4d7b784",
    "outputId": "e533e531-d64b-424b-c30a-28a0789b22a7"
   },
   "outputs": [
    {
     "name": "stdout",
     "output_type": "stream",
     "text": [
      "[10, 30, 40, 50]\n"
     ]
    }
   ],
   "source": [
    "items = [10, 20, 30, 40, 50]\n",
    "items.pop(1)  # -> removes element at index 1 (value = 20)\n",
    "print(items)"
   ]
  },
  {
   "cell_type": "markdown",
   "id": "ae7ce360",
   "metadata": {
    "id": "ae7ce360"
   },
   "source": [
    "- Using `remove(value)` (removes first occurrence)"
   ]
  },
  {
   "cell_type": "code",
   "execution_count": 25,
   "id": "2e98e3b5",
   "metadata": {
    "colab": {
     "base_uri": "https://localhost:8080/"
    },
    "executionInfo": {
     "elapsed": 10,
     "status": "ok",
     "timestamp": 1749053674651,
     "user": {
      "displayName": "Ahsan Rajpoot",
      "userId": "07291457265130406735"
     },
     "user_tz": -300
    },
    "id": "2e98e3b5",
    "outputId": "625f3358-fbd0-4fac-f54d-f0707aa2b3ea"
   },
   "outputs": [
    {
     "name": "stdout",
     "output_type": "stream",
     "text": [
      "[10, 30, 20, 50]\n"
     ]
    }
   ],
   "source": [
    "items = [10, 20, 30, 20, 50]\n",
    "items.remove(20)  # -> removes first occurrence of 20\n",
    "print(items)\n"
   ]
  },
  {
   "cell_type": "markdown",
   "id": "f633a522",
   "metadata": {
    "id": "f633a522"
   },
   "source": [
    "- Using `del` with index"
   ]
  },
  {
   "cell_type": "code",
   "execution_count": 26,
   "id": "2a67abaf",
   "metadata": {
    "colab": {
     "base_uri": "https://localhost:8080/"
    },
    "executionInfo": {
     "elapsed": 13,
     "status": "ok",
     "timestamp": 1749053674666,
     "user": {
      "displayName": "Ahsan Rajpoot",
      "userId": "07291457265130406735"
     },
     "user_tz": -300
    },
    "id": "2a67abaf",
    "outputId": "5ae592fa-049e-4f97-b88a-e56bed2c0f91"
   },
   "outputs": [
    {
     "name": "stdout",
     "output_type": "stream",
     "text": [
      "[10, 20, 40, 50]\n"
     ]
    }
   ],
   "source": [
    "items = [10, 20, 30, 40, 50]\n",
    "del items[2]  # -> deletes item at index 2 (value = 30)\n",
    "print(items)"
   ]
  },
  {
   "cell_type": "markdown",
   "id": "33addb4c",
   "metadata": {
    "id": "33addb4c"
   },
   "source": [
    "- Using `del` with slice"
   ]
  },
  {
   "cell_type": "code",
   "execution_count": 27,
   "id": "39bae489",
   "metadata": {
    "colab": {
     "base_uri": "https://localhost:8080/"
    },
    "executionInfo": {
     "elapsed": 12,
     "status": "ok",
     "timestamp": 1749053674680,
     "user": {
      "displayName": "Ahsan Rajpoot",
      "userId": "07291457265130406735"
     },
     "user_tz": -300
    },
    "id": "39bae489",
    "outputId": "3263adcd-56d4-4393-9ba2-8edb9356bd76"
   },
   "outputs": [
    {
     "name": "stdout",
     "output_type": "stream",
     "text": [
      "[10, 50]\n"
     ]
    }
   ],
   "source": [
    "items = [10, 20, 30, 40, 50]\n",
    "del items[1:4]  # -> deletes from index 1 to 3 (20, 30, 40)\n",
    "print(items)"
   ]
  },
  {
   "cell_type": "markdown",
   "id": "f9b5704a",
   "metadata": {
    "id": "f9b5704a"
   },
   "source": [
    "- Using `clear()` to empty entire list"
   ]
  },
  {
   "cell_type": "code",
   "execution_count": 28,
   "id": "7627b76b",
   "metadata": {
    "colab": {
     "base_uri": "https://localhost:8080/"
    },
    "executionInfo": {
     "elapsed": 12,
     "status": "ok",
     "timestamp": 1749053674694,
     "user": {
      "displayName": "Ahsan Rajpoot",
      "userId": "07291457265130406735"
     },
     "user_tz": -300
    },
    "id": "7627b76b",
    "outputId": "f64adea4-8e3f-4f0f-88f5-8c0a70d1b6c4"
   },
   "outputs": [
    {
     "name": "stdout",
     "output_type": "stream",
     "text": [
      "[]\n"
     ]
    }
   ],
   "source": [
    "items = [10, 20, 30, 40, 50]\n",
    "items.clear()  # -> clears all elements\n",
    "print(items)"
   ]
  },
  {
   "cell_type": "markdown",
   "id": "af4da9ce",
   "metadata": {
    "id": "af4da9ce"
   },
   "source": [
    "##### **List Sorting (with `sort()` and `sorted()`):**"
   ]
  },
  {
   "cell_type": "code",
   "execution_count": 29,
   "id": "b597f5e8",
   "metadata": {
    "colab": {
     "base_uri": "https://localhost:8080/"
    },
    "executionInfo": {
     "elapsed": 13,
     "status": "ok",
     "timestamp": 1749053674709,
     "user": {
      "displayName": "Ahsan Rajpoot",
      "userId": "07291457265130406735"
     },
     "user_tz": -300
    },
    "id": "b597f5e8",
    "outputId": "f113512f-f473-4a7d-f0b3-b56954a7ce66"
   },
   "outputs": [
    {
     "name": "stdout",
     "output_type": "stream",
     "text": [
      "[1, 2, 3, 4, 5]\n",
      "[5, 4, 3, 2, 1]\n"
     ]
    }
   ],
   "source": [
    "# using sort()\n",
    "numbers = [4, 1, 3, 5, 2]\n",
    "numbers.sort()  # -> modifies in place\n",
    "print(numbers)  # [1, 2, 3, 4, 5]\n",
    "\n",
    "\n",
    "# Descending order\n",
    "numbers.sort(reverse=True)\n",
    "print(numbers)  # [5, 4, 3, 2, 1]"
   ]
  },
  {
   "cell_type": "code",
   "execution_count": 30,
   "id": "ae2e0d5b",
   "metadata": {
    "colab": {
     "base_uri": "https://localhost:8080/"
    },
    "executionInfo": {
     "elapsed": 50,
     "status": "ok",
     "timestamp": 1749053674762,
     "user": {
      "displayName": "Ahsan Rajpoot",
      "userId": "07291457265130406735"
     },
     "user_tz": -300
    },
    "id": "ae2e0d5b",
    "outputId": "fbf91470-4ae0-411c-c92d-fe841316cdf2"
   },
   "outputs": [
    {
     "name": "stdout",
     "output_type": "stream",
     "text": [
      "[1, 2, 3, 4, 5]\n"
     ]
    }
   ],
   "source": [
    "# using sorted()\n",
    "# sorted() returns new list\n",
    "numbers = [4, 1, 3, 5, 2]\n",
    "sorted_list = sorted(numbers)\n",
    "\n",
    "print(sorted_list)"
   ]
  },
  {
   "cell_type": "markdown",
   "id": "3e220dd1",
   "metadata": {
    "id": "3e220dd1"
   },
   "source": [
    "##### **Min & Max in a List:**\n",
    "- **`min()`**: Returns the smallest item in the list.\n",
    "- **`max()`**: Returns the largest item in the list."
   ]
  },
  {
   "cell_type": "code",
   "execution_count": 31,
   "id": "2f93126d",
   "metadata": {
    "colab": {
     "base_uri": "https://localhost:8080/"
    },
    "executionInfo": {
     "elapsed": 13,
     "status": "ok",
     "timestamp": 1749053674777,
     "user": {
      "displayName": "Ahsan Rajpoot",
      "userId": "07291457265130406735"
     },
     "user_tz": -300
    },
    "id": "2f93126d",
    "outputId": "76d16352-1ba3-4b2a-ea30-2bce72de81e4"
   },
   "outputs": [
    {
     "name": "stdout",
     "output_type": "stream",
     "text": [
      "3\n",
      "99\n"
     ]
    }
   ],
   "source": [
    "numbers = [10, 45, 3, 99, 24]\n",
    "\n",
    "print(min(numbers))  #  3\n",
    "print(max(numbers))  #  99"
   ]
  },
  {
   "cell_type": "markdown",
   "id": "422f4988",
   "metadata": {
    "id": "422f4988"
   },
   "source": [
    "##### **Looping Through List:**"
   ]
  },
  {
   "cell_type": "markdown",
   "id": "f99a9d42",
   "metadata": {
    "id": "f99a9d42"
   },
   "source": [
    "- Basic for Loop"
   ]
  },
  {
   "cell_type": "code",
   "execution_count": 32,
   "id": "b89ab13e",
   "metadata": {
    "colab": {
     "base_uri": "https://localhost:8080/"
    },
    "executionInfo": {
     "elapsed": 12,
     "status": "ok",
     "timestamp": 1749053674791,
     "user": {
      "displayName": "Ahsan Rajpoot",
      "userId": "07291457265130406735"
     },
     "user_tz": -300
    },
    "id": "b89ab13e",
    "outputId": "b558d717-412a-416e-dd52-3cf89c7d4b6b"
   },
   "outputs": [
    {
     "name": "stdout",
     "output_type": "stream",
     "text": [
      "apple\n",
      "banana\n",
      "mango\n"
     ]
    }
   ],
   "source": [
    "fruits = [\"apple\", \"banana\", \"mango\"]\n",
    "\n",
    "for fruit in fruits:\n",
    "    print(fruit)"
   ]
  },
  {
   "cell_type": "markdown",
   "id": "d441ec39",
   "metadata": {
    "id": "d441ec39"
   },
   "source": [
    "- Using `enumerate()` (Index + Value)"
   ]
  },
  {
   "cell_type": "code",
   "execution_count": 33,
   "id": "670c9d04",
   "metadata": {
    "colab": {
     "base_uri": "https://localhost:8080/"
    },
    "executionInfo": {
     "elapsed": 11,
     "status": "ok",
     "timestamp": 1749053674831,
     "user": {
      "displayName": "Ahsan Rajpoot",
      "userId": "07291457265130406735"
     },
     "user_tz": -300
    },
    "id": "670c9d04",
    "outputId": "dfc463ec-5ddb-41aa-f8c5-3521c00fd54d"
   },
   "outputs": [
    {
     "name": "stdout",
     "output_type": "stream",
     "text": [
      "0: apple\n",
      "1: banana\n",
      "2: mango\n"
     ]
    }
   ],
   "source": [
    "for index, fruit in enumerate(fruits):\n",
    "    print(f\"{index}: {fruit}\")"
   ]
  },
  {
   "cell_type": "markdown",
   "id": "c73766bd",
   "metadata": {
    "id": "c73766bd"
   },
   "source": [
    "##### **Nested Lists:**"
   ]
  },
  {
   "cell_type": "code",
   "execution_count": 34,
   "id": "b3b31118",
   "metadata": {
    "colab": {
     "base_uri": "https://localhost:8080/"
    },
    "executionInfo": {
     "elapsed": 15,
     "status": "ok",
     "timestamp": 1749053674849,
     "user": {
      "displayName": "Ahsan Rajpoot",
      "userId": "07291457265130406735"
     },
     "user_tz": -300
    },
    "id": "b3b31118",
    "outputId": "02f419e6-1fc3-4cd3-83da-eeb4c6d1550a"
   },
   "outputs": [
    {
     "name": "stdout",
     "output_type": "stream",
     "text": [
      "[[1, 2], [3, 4], [5, 6]]\n"
     ]
    }
   ],
   "source": [
    "nested_lists = [[1, 2], [3, 4], [5, 6]]\n",
    "print(nested_lists)"
   ]
  },
  {
   "cell_type": "markdown",
   "id": "fe30405a",
   "metadata": {
    "id": "fe30405a"
   },
   "source": [
    "##### **Membership Test: `in` and `not in`:**"
   ]
  },
  {
   "cell_type": "code",
   "execution_count": 35,
   "id": "a47b8d17",
   "metadata": {
    "colab": {
     "base_uri": "https://localhost:8080/"
    },
    "executionInfo": {
     "elapsed": 58,
     "status": "ok",
     "timestamp": 1749053674908,
     "user": {
      "displayName": "Ahsan Rajpoot",
      "userId": "07291457265130406735"
     },
     "user_tz": -300
    },
    "id": "a47b8d17",
    "outputId": "52589aad-742d-4a90-c59d-a94243801354"
   },
   "outputs": [
    {
     "name": "stdout",
     "output_type": "stream",
     "text": [
      "True\n",
      "False\n",
      "True\n",
      "False\n"
     ]
    }
   ],
   "source": [
    "fruits = [\"apple\", \"banana\"]\n",
    "print(\"apple\" in fruits)      # True\n",
    "print(\"mango\" in fruits)      # False\n",
    "print(\"mango\" not in fruits)  # True\n",
    "print(\"apple\" not in fruits)  # False"
   ]
  },
  {
   "cell_type": "markdown",
   "id": "d7f51c20",
   "metadata": {
    "id": "d7f51c20"
   },
   "source": [
    "##### **Converting from Other Types into List:**"
   ]
  },
  {
   "cell_type": "code",
   "execution_count": 36,
   "id": "1b56056d",
   "metadata": {
    "colab": {
     "base_uri": "https://localhost:8080/"
    },
    "executionInfo": {
     "elapsed": 16,
     "status": "ok",
     "timestamp": 1749053674926,
     "user": {
      "displayName": "Ahsan Rajpoot",
      "userId": "07291457265130406735"
     },
     "user_tz": -300
    },
    "id": "1b56056d",
    "outputId": "f2993f13-c563-4e86-b3e5-feb3be07cb22"
   },
   "outputs": [
    {
     "name": "stdout",
     "output_type": "stream",
     "text": [
      "['1', '2', '3', '4', '5', '6']\n"
     ]
    }
   ],
   "source": [
    "# String to list\n",
    "num_str = \"123456\"\n",
    "num_list = list(num_str)\n",
    "print(num_list)"
   ]
  },
  {
   "cell_type": "code",
   "execution_count": 37,
   "id": "45e87b97",
   "metadata": {
    "colab": {
     "base_uri": "https://localhost:8080/"
    },
    "executionInfo": {
     "elapsed": 13,
     "status": "ok",
     "timestamp": 1749053674942,
     "user": {
      "displayName": "Ahsan Rajpoot",
      "userId": "07291457265130406735"
     },
     "user_tz": -300
    },
    "id": "45e87b97",
    "outputId": "7c3efe3d-7340-439d-ad63-8132e119a456"
   },
   "outputs": [
    {
     "name": "stdout",
     "output_type": "stream",
     "text": [
      "[1, 2, 3]\n"
     ]
    }
   ],
   "source": [
    "# Tuple to list\n",
    "num_tuple = (1, 2, 3)\n",
    "num_list = list(num_tuple)\n",
    "print(num_list)"
   ]
  },
  {
   "cell_type": "code",
   "execution_count": 38,
   "id": "4f331f35",
   "metadata": {
    "colab": {
     "base_uri": "https://localhost:8080/"
    },
    "executionInfo": {
     "elapsed": 14,
     "status": "ok",
     "timestamp": 1749053674957,
     "user": {
      "displayName": "Ahsan Rajpoot",
      "userId": "07291457265130406735"
     },
     "user_tz": -300
    },
    "id": "4f331f35",
    "outputId": "1914a028-0412-4a01-b675-6916994c8be1"
   },
   "outputs": [
    {
     "name": "stdout",
     "output_type": "stream",
     "text": [
      "['life', 'is', 'not', 'easy']\n"
     ]
    }
   ],
   "source": [
    "# Split string into list\n",
    "text = \"life is not easy\"\n",
    "words = text.split()\n",
    "print(words)"
   ]
  },
  {
   "cell_type": "markdown",
   "id": "4d422b19",
   "metadata": {
    "id": "4d422b19"
   },
   "source": [
    "##### **List Comprehensions:**"
   ]
  },
  {
   "cell_type": "code",
   "execution_count": 39,
   "id": "2db78e56",
   "metadata": {
    "colab": {
     "base_uri": "https://localhost:8080/"
    },
    "executionInfo": {
     "elapsed": 115,
     "status": "ok",
     "timestamp": 1749053675073,
     "user": {
      "displayName": "Ahsan Rajpoot",
      "userId": "07291457265130406735"
     },
     "user_tz": -300
    },
    "id": "2db78e56",
    "outputId": "b35d9a92-abf3-40cc-8130-73a67c6af562"
   },
   "outputs": [
    {
     "name": "stdout",
     "output_type": "stream",
     "text": [
      "[1, 4, 9, 16, 25]\n"
     ]
    }
   ],
   "source": [
    "squares = [x**2 for x in range(1, 6)]\n",
    "print(squares)"
   ]
  },
  {
   "cell_type": "markdown",
   "id": "a5919075",
   "metadata": {
    "id": "a5919075"
   },
   "source": [
    "#### **Tuple**\n",
    "- An ordered collection of elements, similar to a list, but immutable (cannot be changed)."
   ]
  },
  {
   "cell_type": "markdown",
   "id": "25e65fd8",
   "metadata": {
    "id": "25e65fd8"
   },
   "source": [
    "##### **Creating a Tuple:**\n",
    "\n",
    "We use round brackets `()` to create a tuple"
   ]
  },
  {
   "cell_type": "code",
   "execution_count": 40,
   "id": "2bc02a18",
   "metadata": {
    "colab": {
     "base_uri": "https://localhost:8080/"
    },
    "executionInfo": {
     "elapsed": 106,
     "status": "ok",
     "timestamp": 1749053675075,
     "user": {
      "displayName": "Ahsan Rajpoot",
      "userId": "07291457265130406735"
     },
     "user_tz": -300
    },
    "id": "2bc02a18",
    "outputId": "d2768035-5356-4879-a1f0-262ffa2a7763"
   },
   "outputs": [
    {
     "name": "stdout",
     "output_type": "stream",
     "text": [
      "(1, 2, 3, 4, 5)\n",
      "<class 'tuple'>\n"
     ]
    }
   ],
   "source": [
    "tuple_of_num = (1, 2, 3, 4, 5)\n",
    "\n",
    "print(tuple_of_num)\n",
    "print(type(tuple_of_num))"
   ]
  },
  {
   "cell_type": "code",
   "execution_count": 41,
   "id": "8f532acc",
   "metadata": {
    "colab": {
     "base_uri": "https://localhost:8080/"
    },
    "executionInfo": {
     "elapsed": 37,
     "status": "ok",
     "timestamp": 1749053675076,
     "user": {
      "displayName": "Ahsan Rajpoot",
      "userId": "07291457265130406735"
     },
     "user_tz": -300
    },
    "id": "8f532acc",
    "outputId": "dd3fcbde-6ba2-4507-97f7-61652c002cb8"
   },
   "outputs": [
    {
     "name": "stdout",
     "output_type": "stream",
     "text": [
      "(1, 'Ahsan', 3.14, True, None)\n"
     ]
    }
   ],
   "source": [
    "# Creating a tuple with mixed data types\n",
    "mixed_tuple = (1, \"Ahsan\", 3.14, True, None)\n",
    "print(mixed_tuple)"
   ]
  },
  {
   "cell_type": "markdown",
   "id": "ce3056bb",
   "metadata": {
    "id": "ce3056bb"
   },
   "source": [
    "##### **Accessing Tuple Elements:**\n",
    "\n",
    "We can access the tuple element by their index number, Each element in a tuple has an index, starting from 0"
   ]
  },
  {
   "cell_type": "code",
   "execution_count": 42,
   "id": "02b7100d",
   "metadata": {
    "colab": {
     "base_uri": "https://localhost:8080/"
    },
    "executionInfo": {
     "elapsed": 21,
     "status": "ok",
     "timestamp": 1749053675098,
     "user": {
      "displayName": "Ahsan Rajpoot",
      "userId": "07291457265130406735"
     },
     "user_tz": -300
    },
    "id": "02b7100d",
    "outputId": "3156cf17-80d2-4e8c-9899-00e8f3d2d7e3"
   },
   "outputs": [
    {
     "name": "stdout",
     "output_type": "stream",
     "text": [
      "1\n",
      "2\n",
      "5\n",
      "4\n"
     ]
    }
   ],
   "source": [
    "tuple_of_num = (1, 2, 3, 4, 5)\n",
    "\n",
    "print(tuple_of_num[0])  #-> accessing first element\n",
    "print(tuple_of_num[1])  #-> accessing second element\n",
    "print(tuple_of_num[-1]) #-> accessing last element\n",
    "print(tuple_of_num[-2]) #-> accessing second last element"
   ]
  },
  {
   "cell_type": "markdown",
   "id": "0d9a6d3e",
   "metadata": {
    "id": "0d9a6d3e"
   },
   "source": [
    "##### **Slicing Tuples:**\n",
    "\n",
    "We can extract a portion of the tuple using slicing, which allows us to specify a start and end index."
   ]
  },
  {
   "cell_type": "code",
   "execution_count": 43,
   "id": "c461c288",
   "metadata": {
    "colab": {
     "base_uri": "https://localhost:8080/"
    },
    "executionInfo": {
     "elapsed": 90,
     "status": "ok",
     "timestamp": 1749053675190,
     "user": {
      "displayName": "Ahsan Rajpoot",
      "userId": "07291457265130406735"
     },
     "user_tz": -300
    },
    "id": "c461c288",
    "outputId": "9fe3a904-eb82-4691-865c-93dcc9752fb4"
   },
   "outputs": [
    {
     "name": "stdout",
     "output_type": "stream",
     "text": [
      "(1, 2)\n"
     ]
    }
   ],
   "source": [
    "num_tuple = (1, 2, 3, 4, 5)\n",
    "first_two = num_tuple[0:2]  # -> slicing to get first two elements\n",
    "print(first_two)"
   ]
  },
  {
   "cell_type": "markdown",
   "id": "5d737d4e",
   "metadata": {
    "id": "5d737d4e"
   },
   "source": [
    "##### **Adding Tuple Elements:**\n",
    "\n",
    "Tuples are immutable, meaning you cannot add or change elements once the tuple is created. However, you can create a new tuple that includes the elements of the original tuple plus the new elements."
   ]
  },
  {
   "cell_type": "markdown",
   "id": "690a838c",
   "metadata": {
    "id": "690a838c"
   },
   "source": [
    "- Using + Operator (Concatenation)"
   ]
  },
  {
   "cell_type": "code",
   "execution_count": 44,
   "id": "c4cc79a6",
   "metadata": {
    "colab": {
     "base_uri": "https://localhost:8080/"
    },
    "executionInfo": {
     "elapsed": 16,
     "status": "ok",
     "timestamp": 1749053675208,
     "user": {
      "displayName": "Ahsan Rajpoot",
      "userId": "07291457265130406735"
     },
     "user_tz": -300
    },
    "id": "c4cc79a6",
    "outputId": "da510e82-0c3c-4175-f82f-9e69a8f90957"
   },
   "outputs": [
    {
     "name": "stdout",
     "output_type": "stream",
     "text": [
      "(1, 2, 3, 4)\n"
     ]
    }
   ],
   "source": [
    "# Creates a new tuple by adding another tuple\n",
    "t = (1, 2, 3)\n",
    "t = t + (4,)  # Note the comma (,) to make it a tuple\n",
    "print(t)"
   ]
  },
  {
   "cell_type": "code",
   "execution_count": 45,
   "id": "13a0d33d",
   "metadata": {
    "colab": {
     "base_uri": "https://localhost:8080/"
    },
    "executionInfo": {
     "elapsed": 44,
     "status": "ok",
     "timestamp": 1749053675255,
     "user": {
      "displayName": "Ahsan Rajpoot",
      "userId": "07291457265130406735"
     },
     "user_tz": -300
    },
    "id": "13a0d33d",
    "outputId": "977f63dd-e2f7-447c-c992-ef1536d0ff23"
   },
   "outputs": [
    {
     "name": "stdout",
     "output_type": "stream",
     "text": [
      "(1, 2, 3, 4, 5, 6)\n"
     ]
    }
   ],
   "source": [
    "# Adding Multiple Elements\n",
    "t = (1, 2, 3)\n",
    "t += (4, 5, 6)\n",
    "print(t)"
   ]
  },
  {
   "cell_type": "markdown",
   "id": "21ee7307",
   "metadata": {
    "id": "21ee7307"
   },
   "source": [
    "- Converting to List and Back to Tuple"
   ]
  },
  {
   "cell_type": "code",
   "execution_count": 46,
   "id": "6ea94984",
   "metadata": {
    "colab": {
     "base_uri": "https://localhost:8080/"
    },
    "executionInfo": {
     "elapsed": 11,
     "status": "ok",
     "timestamp": 1749053675268,
     "user": {
      "displayName": "Ahsan Rajpoot",
      "userId": "07291457265130406735"
     },
     "user_tz": -300
    },
    "id": "6ea94984",
    "outputId": "ae4d0c49-ba35-4836-db7b-e5e5b56f7b57"
   },
   "outputs": [
    {
     "name": "stdout",
     "output_type": "stream",
     "text": [
      "(1, 2, 3, 4)\n"
     ]
    }
   ],
   "source": [
    "t = (1, 2, 3)\n",
    "temp = list(t)      # -> Convert to list\n",
    "temp.append(4)      # -> Add element\n",
    "t = tuple(temp)     # -> Convert back to tuple\n",
    "print(t)"
   ]
  },
  {
   "cell_type": "markdown",
   "id": "3dd602b9",
   "metadata": {
    "id": "3dd602b9"
   },
   "source": [
    "**Reminder:**\n",
    "- Tuples are immutable, so each of these methods creates a new tuple.\n",
    "- Always include a comma when adding a single element: (6,) not (6)"
   ]
  },
  {
   "cell_type": "markdown",
   "id": "6593cf7e",
   "metadata": {
    "id": "6593cf7e"
   },
   "source": [
    "##### **Remove Tuple Elements:**\n",
    "\n",
    "Since tuples are immutable, you cannot remove elements from them directly. However, you can create a new tuple that excludes the elements you want to remove."
   ]
  },
  {
   "cell_type": "markdown",
   "id": "1ff43955",
   "metadata": {
    "id": "1ff43955"
   },
   "source": [
    "- Convert Tuple to List, Remove, Then Back"
   ]
  },
  {
   "cell_type": "code",
   "execution_count": 47,
   "id": "9d866d68",
   "metadata": {
    "colab": {
     "base_uri": "https://localhost:8080/"
    },
    "executionInfo": {
     "elapsed": 78,
     "status": "ok",
     "timestamp": 1749053675348,
     "user": {
      "displayName": "Ahsan Rajpoot",
      "userId": "07291457265130406735"
     },
     "user_tz": -300
    },
    "id": "9d866d68",
    "outputId": "9bd4cabf-5304-4592-dbb2-d7bb32abb36e"
   },
   "outputs": [
    {
     "name": "stdout",
     "output_type": "stream",
     "text": [
      "(10, 20, 40)\n"
     ]
    }
   ],
   "source": [
    "t = (10, 20, 30, 40)\n",
    "temp = list(t)\n",
    "temp.remove(30)    # -> remove by value\n",
    "t = tuple(temp)\n",
    "print(t)"
   ]
  },
  {
   "cell_type": "markdown",
   "id": "2c8799b5",
   "metadata": {
    "id": "2c8799b5"
   },
   "source": [
    "##### **min & max in a Tuple:**\n",
    "- **`min()`**: Returns the smallest item in the tuple.\n",
    "- **`max()`**: Returns the largest item in the tuple."
   ]
  },
  {
   "cell_type": "code",
   "execution_count": 48,
   "id": "3e6fecf3",
   "metadata": {
    "colab": {
     "base_uri": "https://localhost:8080/"
    },
    "executionInfo": {
     "elapsed": 42,
     "status": "ok",
     "timestamp": 1749053675391,
     "user": {
      "displayName": "Ahsan Rajpoot",
      "userId": "07291457265130406735"
     },
     "user_tz": -300
    },
    "id": "3e6fecf3",
    "outputId": "283e6a34-ba88-4c6e-c1c1-55ecc2eb4bb3"
   },
   "outputs": [
    {
     "name": "stdout",
     "output_type": "stream",
     "text": [
      "-3\n",
      "109\n"
     ]
    }
   ],
   "source": [
    "numbers = (-3, 34, 23, 67, 109, 4)\n",
    "\n",
    "print(min(numbers)) # -3\n",
    "print(max(numbers)) # 109"
   ]
  },
  {
   "cell_type": "markdown",
   "id": "92fc4caa",
   "metadata": {
    "id": "92fc4caa"
   },
   "source": [
    "- Using Tuple Slicing and Concatenation"
   ]
  },
  {
   "cell_type": "code",
   "execution_count": 49,
   "id": "a6f85a62",
   "metadata": {
    "colab": {
     "base_uri": "https://localhost:8080/"
    },
    "executionInfo": {
     "elapsed": 14,
     "status": "ok",
     "timestamp": 1749053675409,
     "user": {
      "displayName": "Ahsan Rajpoot",
      "userId": "07291457265130406735"
     },
     "user_tz": -300
    },
    "id": "a6f85a62",
    "outputId": "3b6a2d39-1beb-462a-a4d2-5a138901e19a"
   },
   "outputs": [
    {
     "name": "stdout",
     "output_type": "stream",
     "text": [
      "(1, 2, 4, 5)\n"
     ]
    }
   ],
   "source": [
    "# removing 3 from tuple\n",
    "t = (1, 2, 3, 4, 5)\n",
    "t = t[:2] + t[3:]  # -> # Keep elements before index 2 and after index 2 (skip index 2)\n",
    "print(t)"
   ]
  },
  {
   "cell_type": "markdown",
   "id": "8b2f5bd1",
   "metadata": {
    "id": "8b2f5bd1"
   },
   "source": [
    "**Important Notes:**\n",
    "- You cannot use `remove()` or `pop()` directly on a tuple.\n",
    "- These tricks create a new tuple each time.\n",
    "\n"
   ]
  },
  {
   "cell_type": "markdown",
   "id": "693c7e85",
   "metadata": {
    "id": "693c7e85"
   },
   "source": [
    "##### **Tuple unpacking:**\n",
    "\n",
    "Tuple unpacking allows you to assign the elements of a tuple to multiple variables in a single line."
   ]
  },
  {
   "cell_type": "code",
   "execution_count": 50,
   "id": "19a38753",
   "metadata": {
    "colab": {
     "base_uri": "https://localhost:8080/"
    },
    "executionInfo": {
     "elapsed": 82,
     "status": "ok",
     "timestamp": 1749053675494,
     "user": {
      "displayName": "Ahsan Rajpoot",
      "userId": "07291457265130406735"
     },
     "user_tz": -300
    },
    "id": "19a38753",
    "outputId": "e88b5603-0712-427d-d3fb-005d4ccf2135"
   },
   "outputs": [
    {
     "name": "stdout",
     "output_type": "stream",
     "text": [
      "Ahsan\n",
      "18\n",
      "Pakistan\n"
     ]
    }
   ],
   "source": [
    "person = (\"Ahsan\", 18, \"Pakistan\")\n",
    "name, age, country = person  # -> Unpacking the tuple into variables\n",
    "\n",
    "print(name)     # -> 'Ahsan'\n",
    "print(age)      # -> 18\n",
    "print(country)  # -> 'Pakistan'"
   ]
  },
  {
   "cell_type": "code",
   "execution_count": 51,
   "id": "ff02b5b2",
   "metadata": {
    "colab": {
     "base_uri": "https://localhost:8080/"
    },
    "executionInfo": {
     "elapsed": 16,
     "status": "ok",
     "timestamp": 1749053675535,
     "user": {
      "displayName": "Ahsan Rajpoot",
      "userId": "07291457265130406735"
     },
     "user_tz": -300
    },
    "id": "ff02b5b2",
    "outputId": "0a5aadcc-00cd-4392-88bb-d64e4ee54f35"
   },
   "outputs": [
    {
     "name": "stdout",
     "output_type": "stream",
     "text": [
      "1\n",
      "[2, 3, 4]\n",
      "5\n"
     ]
    }
   ],
   "source": [
    "# Using * to unpack\n",
    "a, *b, c = (1, 2, 3, 4, 5)\n",
    "print(a)  # -> 1\n",
    "print(b)  # -> [2, 3, 4] (a list)\n",
    "print(c)  # -> 5"
   ]
  },
  {
   "cell_type": "markdown",
   "id": "e689aadc",
   "metadata": {
    "id": "e689aadc"
   },
   "source": [
    "##### **Looping Through Tuples:**"
   ]
  },
  {
   "cell_type": "markdown",
   "id": "44e939b8",
   "metadata": {
    "id": "44e939b8"
   },
   "source": [
    "- Basic for Loop"
   ]
  },
  {
   "cell_type": "code",
   "execution_count": 52,
   "id": "5cd8538a",
   "metadata": {
    "colab": {
     "base_uri": "https://localhost:8080/"
    },
    "executionInfo": {
     "elapsed": 15,
     "status": "ok",
     "timestamp": 1749053675552,
     "user": {
      "displayName": "Ahsan Rajpoot",
      "userId": "07291457265130406735"
     },
     "user_tz": -300
    },
    "id": "5cd8538a",
    "outputId": "fc56699a-2649-4369-d6a4-9002729291e6"
   },
   "outputs": [
    {
     "name": "stdout",
     "output_type": "stream",
     "text": [
      "red\n",
      "green\n",
      "blue\n"
     ]
    }
   ],
   "source": [
    "colors = (\"red\", \"green\", \"blue\")\n",
    "\n",
    "for color in colors:\n",
    "    print(color)"
   ]
  },
  {
   "cell_type": "markdown",
   "id": "6fe650a6",
   "metadata": {
    "id": "6fe650a6"
   },
   "source": [
    "- Using `enumerate()`"
   ]
  },
  {
   "cell_type": "code",
   "execution_count": 53,
   "id": "e156a3f7",
   "metadata": {
    "colab": {
     "base_uri": "https://localhost:8080/"
    },
    "executionInfo": {
     "elapsed": 109,
     "status": "ok",
     "timestamp": 1749053675665,
     "user": {
      "displayName": "Ahsan Rajpoot",
      "userId": "07291457265130406735"
     },
     "user_tz": -300
    },
    "id": "e156a3f7",
    "outputId": "30f70f53-92b9-4a43-b617-2f68c9a13245"
   },
   "outputs": [
    {
     "name": "stdout",
     "output_type": "stream",
     "text": [
      "0: red\n",
      "1: green\n",
      "2: blue\n"
     ]
    }
   ],
   "source": [
    "for index, color in enumerate(colors):\n",
    "    print(f\"{index}: {color}\")"
   ]
  },
  {
   "cell_type": "markdown",
   "id": "33debd6a",
   "metadata": {
    "id": "33debd6a"
   },
   "source": [
    "##### **Nested Tuples:**\n",
    "\n",
    "Tuples can contain other tuples, allowing for complex data structures.\n"
   ]
  },
  {
   "cell_type": "code",
   "execution_count": 54,
   "id": "9f1d6b90",
   "metadata": {
    "colab": {
     "base_uri": "https://localhost:8080/"
    },
    "executionInfo": {
     "elapsed": 33,
     "status": "ok",
     "timestamp": 1749053675700,
     "user": {
      "displayName": "Ahsan Rajpoot",
      "userId": "07291457265130406735"
     },
     "user_tz": -300
    },
    "id": "9f1d6b90",
    "outputId": "ae9d726e-694b-47fc-b12c-9da8994ad762"
   },
   "outputs": [
    {
     "name": "stdout",
     "output_type": "stream",
     "text": [
      "((1, 2), (3, 4))\n"
     ]
    }
   ],
   "source": [
    "nested_t = ((1, 2), (3, 4))\n",
    "print(nested_t)"
   ]
  },
  {
   "cell_type": "markdown",
   "id": "945cdd53",
   "metadata": {
    "id": "945cdd53"
   },
   "source": [
    "### **4. Mapping Type**"
   ]
  },
  {
   "cell_type": "markdown",
   "id": "1840b3ad",
   "metadata": {
    "id": "1840b3ad"
   },
   "source": [
    "#### **Dictionary**\n",
    "- Represents an unordered collection of key-value pairs.\n",
    "- Keys must be unique and immutable (e.g., strings, numbers, tuples).\n",
    "- Values can be of any data type and can be duplicated."
   ]
  },
  {
   "cell_type": "markdown",
   "id": "2c80769f",
   "metadata": {
    "id": "2c80769f"
   },
   "source": [
    "##### **Creating a Dictionary:**\n",
    "\n",
    "- We use curly braces `{}` to create a dictionary"
   ]
  },
  {
   "cell_type": "code",
   "execution_count": 55,
   "id": "b32b7fdf",
   "metadata": {
    "colab": {
     "base_uri": "https://localhost:8080/"
    },
    "executionInfo": {
     "elapsed": 84,
     "status": "ok",
     "timestamp": 1749053675787,
     "user": {
      "displayName": "Ahsan Rajpoot",
      "userId": "07291457265130406735"
     },
     "user_tz": -300
    },
    "id": "b32b7fdf",
    "outputId": "b4016acd-8d4d-49f5-a54c-c09b945119ad"
   },
   "outputs": [
    {
     "name": "stdout",
     "output_type": "stream",
     "text": [
      "{'name': 'Ahsan', 'age': 18, 'country': 'Pakistan'}\n"
     ]
    }
   ],
   "source": [
    "# creating dictionary\n",
    "person = {\n",
    "    \"name\": \"Ahsan\",\n",
    "    \"age\": 18,\n",
    "    \"country\": \"Pakistan\"\n",
    "}\n",
    "\n",
    "print(person)"
   ]
  },
  {
   "cell_type": "markdown",
   "id": "c991070f",
   "metadata": {
    "id": "c991070f"
   },
   "source": [
    "- creating a dictionary with keys and values"
   ]
  },
  {
   "cell_type": "code",
   "execution_count": 56,
   "id": "1d18524d",
   "metadata": {
    "colab": {
     "base_uri": "https://localhost:8080/"
    },
    "executionInfo": {
     "elapsed": 23,
     "status": "ok",
     "timestamp": 1749053675822,
     "user": {
      "displayName": "Ahsan Rajpoot",
      "userId": "07291457265130406735"
     },
     "user_tz": -300
    },
    "id": "1d18524d",
    "outputId": "608c2a2e-b443-4c35-d30e-7344f5b4f5e8"
   },
   "outputs": [
    {
     "name": "stdout",
     "output_type": "stream",
     "text": [
      "<class 'dict'>\n",
      "{'name': 'Ahsan', 'age': 20, 'location': 'Balakot'}\n"
     ]
    }
   ],
   "source": [
    "keys = [\"name\", \"age\", \"location\"]\n",
    "values = [\"Ahsan\", 20, \"Balakot\"]\n",
    "\n",
    "# Combining keys and values into a dictionary using zip()\n",
    "person_dic = dict(zip(keys, values))\n",
    "\n",
    "print(type(person_dic))\n",
    "print(person_dic)"
   ]
  },
  {
   "cell_type": "markdown",
   "id": "7c366b32",
   "metadata": {
    "id": "7c366b32"
   },
   "source": [
    "##### **Accessing Elements in a Dictionary:**\n",
    "\n",
    "- Use square brackets `[]` with the key to access values"
   ]
  },
  {
   "cell_type": "code",
   "execution_count": 57,
   "id": "60d96b10",
   "metadata": {
    "colab": {
     "base_uri": "https://localhost:8080/"
    },
    "executionInfo": {
     "elapsed": 11,
     "status": "ok",
     "timestamp": 1749053675834,
     "user": {
      "displayName": "Ahsan Rajpoot",
      "userId": "07291457265130406735"
     },
     "user_tz": -300
    },
    "id": "60d96b10",
    "outputId": "5a34ba6d-3f92-4144-e8f9-f1b45b9d188b"
   },
   "outputs": [
    {
     "name": "stdout",
     "output_type": "stream",
     "text": [
      "Ahsan\n",
      "18\n",
      "Pakistan\n"
     ]
    }
   ],
   "source": [
    "person = {\n",
    "    \"name\": \"Ahsan\",\n",
    "    \"age\": 18,\n",
    "    \"country\": \"Pakistan\"\n",
    "}\n",
    "\n",
    "# Accessing values by keys\n",
    "name = person[\"name\"]\n",
    "age = person[\"age\"]\n",
    "country = person[\"country\"]\n",
    "\n",
    "print(name)\n",
    "print(age)\n",
    "print(country)"
   ]
  },
  {
   "cell_type": "markdown",
   "id": "3eb8099e",
   "metadata": {
    "id": "3eb8099e"
   },
   "source": [
    "- Using `.get()` method is a best practice as it prevents exceptions"
   ]
  },
  {
   "cell_type": "code",
   "execution_count": 58,
   "id": "e6b94639",
   "metadata": {
    "colab": {
     "base_uri": "https://localhost:8080/"
    },
    "executionInfo": {
     "elapsed": 14,
     "status": "ok",
     "timestamp": 1749053675850,
     "user": {
      "displayName": "Ahsan Rajpoot",
      "userId": "07291457265130406735"
     },
     "user_tz": -300
    },
    "id": "e6b94639",
    "outputId": "caac30a3-a03a-4910-8642-58db9b1e4ac2"
   },
   "outputs": [
    {
     "name": "stdout",
     "output_type": "stream",
     "text": [
      "Ahsan\n",
      "18\n"
     ]
    }
   ],
   "source": [
    "person = {\n",
    "    \"name\": \"Ahsan\",\n",
    "    \"age\": 18,\n",
    "    \"country\": \"Pakistan\"\n",
    "}\n",
    "\n",
    "name = person.get(\"name\")\n",
    "age = person.get(\"age\")\n",
    "\n",
    "print(name)\n",
    "print(age)"
   ]
  },
  {
   "cell_type": "code",
   "execution_count": 59,
   "id": "7d6950b8",
   "metadata": {
    "colab": {
     "base_uri": "https://localhost:8080/"
    },
    "executionInfo": {
     "elapsed": 15,
     "status": "ok",
     "timestamp": 1749053675867,
     "user": {
      "displayName": "Ahsan Rajpoot",
      "userId": "07291457265130406735"
     },
     "user_tz": -300
    },
    "id": "7d6950b8",
    "outputId": "cd92a3f7-d98f-479f-bbbf-79b57938c540"
   },
   "outputs": [
    {
     "name": "stdout",
     "output_type": "stream",
     "text": [
      "None\n"
     ]
    }
   ],
   "source": [
    "print(person.get(\"adress\")) # -> None, .get() doesn't raise error if key is missing"
   ]
  },
  {
   "cell_type": "markdown",
   "id": "f2afaf06",
   "metadata": {
    "id": "f2afaf06"
   },
   "source": [
    "- Accessing All Keys, Values, and Items"
   ]
  },
  {
   "cell_type": "code",
   "execution_count": 60,
   "id": "be7ea52c",
   "metadata": {
    "colab": {
     "base_uri": "https://localhost:8080/"
    },
    "executionInfo": {
     "elapsed": 56,
     "status": "ok",
     "timestamp": 1749053675924,
     "user": {
      "displayName": "Ahsan Rajpoot",
      "userId": "07291457265130406735"
     },
     "user_tz": -300
    },
    "id": "be7ea52c",
    "outputId": "882aee5b-a93b-4afe-89dc-0cc1c9da6ac5"
   },
   "outputs": [
    {
     "name": "stdout",
     "output_type": "stream",
     "text": [
      "Student Keys : dict_keys(['name', 'age', 'course'])\n",
      "Student Values : dict_values(['Ahsan', 20, 'Data Science'])\n",
      "Student Items : dict_items([('name', 'Ahsan'), ('age', 20), ('course', 'Data Science')])\n"
     ]
    }
   ],
   "source": [
    "student = {\"name\": \"Ahsan\", \"age\": 20, \"course\": \"Data Science\"}\n",
    "\n",
    "student_keys = student.keys()\n",
    "student_values = student.values()\n",
    "student_items = student.items()\n",
    "\n",
    "print(f\"Student Keys : {student_keys}\")\n",
    "print(f\"Student Values : {student_values}\")\n",
    "print(f\"Student Items : {student_items}\")"
   ]
  },
  {
   "cell_type": "markdown",
   "id": "177f3e7f",
   "metadata": {
    "id": "177f3e7f"
   },
   "source": [
    "##### **Adding New Elements in Dictionary:**"
   ]
  },
  {
   "cell_type": "code",
   "execution_count": 61,
   "id": "39322c7f",
   "metadata": {
    "colab": {
     "base_uri": "https://localhost:8080/"
    },
    "executionInfo": {
     "elapsed": 48,
     "status": "ok",
     "timestamp": 1749053675974,
     "user": {
      "displayName": "Ahsan Rajpoot",
      "userId": "07291457265130406735"
     },
     "user_tz": -300
    },
    "id": "39322c7f",
    "outputId": "582e3771-03cf-495e-cb71-3aed84987906"
   },
   "outputs": [
    {
     "name": "stdout",
     "output_type": "stream",
     "text": [
      "{'name': 'Ahsan', 'age': 18, 'course': 'AI', 'grade': 'A'}\n"
     ]
    }
   ],
   "source": [
    "student = {\"name\": \"Ahsan\", \"age\": 18}\n",
    "\n",
    "# Adding new elements\n",
    "student[\"course\"] = \"AI\"\n",
    "student[\"grade\"] = \"A\"\n",
    "\n",
    "print(student)"
   ]
  },
  {
   "cell_type": "markdown",
   "id": "93748f96",
   "metadata": {
    "id": "93748f96"
   },
   "source": [
    "- You can even add a list or tuple as a value"
   ]
  },
  {
   "cell_type": "code",
   "execution_count": 62,
   "id": "7c3add0e",
   "metadata": {
    "colab": {
     "base_uri": "https://localhost:8080/"
    },
    "executionInfo": {
     "elapsed": 54,
     "status": "ok",
     "timestamp": 1749053675993,
     "user": {
      "displayName": "Ahsan Rajpoot",
      "userId": "07291457265130406735"
     },
     "user_tz": -300
    },
    "id": "7c3add0e",
    "outputId": "a2a3e3f9-eb16-40f9-c2f5-fbbf34ba3b8d"
   },
   "outputs": [
    {
     "name": "stdout",
     "output_type": "stream",
     "text": [
      "{'name': 'Ahsan', 'age': 18, 'course': 'AI', 'grade': 'A', 'hobbies': ['reading', 'coding', 'cricket']}\n"
     ]
    }
   ],
   "source": [
    "student[\"hobbies\"] = [\"reading\", \"coding\", \"cricket\"]\n",
    "\n",
    "print(student)"
   ]
  },
  {
   "cell_type": "markdown",
   "id": "d97d7ca8",
   "metadata": {
    "id": "d97d7ca8"
   },
   "source": [
    "##### **Updating Values in a Dictionary:**\n",
    "\n",
    "To update a value, just assign a new value to an existing key"
   ]
  },
  {
   "cell_type": "code",
   "execution_count": 63,
   "id": "7a9bdf86",
   "metadata": {
    "colab": {
     "base_uri": "https://localhost:8080/"
    },
    "executionInfo": {
     "elapsed": 38,
     "status": "ok",
     "timestamp": 1749053675995,
     "user": {
      "displayName": "Ahsan Rajpoot",
      "userId": "07291457265130406735"
     },
     "user_tz": -300
    },
    "id": "7a9bdf86",
    "outputId": "de1320ff-3297-4d9b-8317-b916fa038b39"
   },
   "outputs": [
    {
     "name": "stdout",
     "output_type": "stream",
     "text": [
      "Before updating: {'name': 'Ahsan', 'age': 20, 'course': 'AI'}\n",
      "After updating: {'name': 'Ahsan', 'age': 18, 'course': 'Data Science'}\n"
     ]
    }
   ],
   "source": [
    "student = {\"name\": \"Ahsan\", \"age\": 20, \"course\": \"AI\"}\n",
    "print(f\"Before updating: {student}\")\n",
    "\n",
    "# Updating existing values\n",
    "student[\"age\"] = 18                 # -> Updates age\n",
    "student[\"course\"] = \"Data Science\"  # -> Updates course\n",
    "\n",
    "print(f\"After updating: {student}\")"
   ]
  },
  {
   "cell_type": "markdown",
   "id": "beecdf75",
   "metadata": {
    "id": "beecdf75"
   },
   "source": [
    "- Using `.update()` Method\n",
    "\n",
    "-> `.update()` is useful for updating multiple key-value pairs at once.\\\n",
    "-> If the key exists, it updates. If not, it adds it (acts like add + update)."
   ]
  },
  {
   "cell_type": "code",
   "execution_count": 64,
   "id": "7e111f48",
   "metadata": {
    "colab": {
     "base_uri": "https://localhost:8080/"
    },
    "executionInfo": {
     "elapsed": 126,
     "status": "ok",
     "timestamp": 1749053676122,
     "user": {
      "displayName": "Ahsan Rajpoot",
      "userId": "07291457265130406735"
     },
     "user_tz": -300
    },
    "id": "7e111f48",
    "outputId": "df0c907b-a20c-4a26-a453-7a174d31ee3b"
   },
   "outputs": [
    {
     "name": "stdout",
     "output_type": "stream",
     "text": [
      "Before updating: {'name': 'Ahsan', 'age': 18, 'grade': 'A'}\n",
      "After updating: {'name': 'Ahsan Ali', 'age': 18, 'grade': 'A+'}\n"
     ]
    }
   ],
   "source": [
    "student = {\"name\" : \"Ahsan\", \"age\" : 18, \"grade\" : \"A\"}\n",
    "print(f\"Before updating: {student}\")\n",
    "\n",
    "# updating name and grade\n",
    "student.update({\"name\": \"Ahsan Ali\", \"grade\": \"A+\"})\n",
    "print(f\"After updating: {student}\")"
   ]
  },
  {
   "cell_type": "markdown",
   "id": "faab7e20",
   "metadata": {
    "id": "faab7e20"
   },
   "source": [
    "##### **Deleting Elements from a Dictionary:**"
   ]
  },
  {
   "cell_type": "markdown",
   "id": "2fae5591",
   "metadata": {
    "id": "2fae5591"
   },
   "source": [
    "- `del` Keyword: Deletes a key-value pair by key"
   ]
  },
  {
   "cell_type": "code",
   "execution_count": 65,
   "id": "6b8b6dd7",
   "metadata": {
    "colab": {
     "base_uri": "https://localhost:8080/"
    },
    "executionInfo": {
     "elapsed": 102,
     "status": "ok",
     "timestamp": 1749053676122,
     "user": {
      "displayName": "Ahsan Rajpoot",
      "userId": "07291457265130406735"
     },
     "user_tz": -300
    },
    "id": "6b8b6dd7",
    "outputId": "bfa36d91-158f-4fb3-bd3e-79c2e3f7cb65"
   },
   "outputs": [
    {
     "name": "stdout",
     "output_type": "stream",
     "text": [
      "{'name': 'Ahsan', 'course': 'AI'}\n"
     ]
    }
   ],
   "source": [
    "student = {\"name\": \"Ahsan\", \"age\": 20, \"course\": \"AI\"}\n",
    "del student[\"age\"]  # Removes 'age' key\n",
    "print(student)"
   ]
  },
  {
   "cell_type": "markdown",
   "id": "2928736a",
   "metadata": {
    "id": "2928736a"
   },
   "source": [
    "- `.pop(key)` Removes the key-value pair and returns the value."
   ]
  },
  {
   "cell_type": "code",
   "execution_count": 66,
   "id": "b58195c6",
   "metadata": {
    "colab": {
     "base_uri": "https://localhost:8080/"
    },
    "executionInfo": {
     "elapsed": 42,
     "status": "ok",
     "timestamp": 1749053676123,
     "user": {
      "displayName": "Ahsan Rajpoot",
      "userId": "07291457265130406735"
     },
     "user_tz": -300
    },
    "id": "b58195c6",
    "outputId": "8bd0ec5e-3f3a-4249-f339-cf9abb1320d9"
   },
   "outputs": [
    {
     "name": "stdout",
     "output_type": "stream",
     "text": [
      "{'name': 'Ahsan', 'age': 20}\n",
      "Removed: AI\n"
     ]
    }
   ],
   "source": [
    "student = {\"name\": \"Ahsan\", \"age\": 20, \"course\": \"AI\"}\n",
    "removed_value = student.pop(\"course\")  # Removes 'course' and stores its value\n",
    "print(student)\n",
    "print(\"Removed:\", removed_value)"
   ]
  },
  {
   "cell_type": "markdown",
   "id": "7d83cda7",
   "metadata": {
    "id": "7d83cda7"
   },
   "source": [
    "- `.popitem()` Removes last inserted item"
   ]
  },
  {
   "cell_type": "code",
   "execution_count": 67,
   "id": "d6959ebd",
   "metadata": {
    "colab": {
     "base_uri": "https://localhost:8080/"
    },
    "executionInfo": {
     "elapsed": 27,
     "status": "ok",
     "timestamp": 1749053676127,
     "user": {
      "displayName": "Ahsan Rajpoot",
      "userId": "07291457265130406735"
     },
     "user_tz": -300
    },
    "id": "d6959ebd",
    "outputId": "b2950383-23bc-4f86-c5bc-a97108ebbbe0"
   },
   "outputs": [
    {
     "name": "stdout",
     "output_type": "stream",
     "text": [
      "{'name': 'Ahsan', 'age': 20}\n"
     ]
    }
   ],
   "source": [
    "student = {\"name\": \"Ahsan\", \"age\": 20, \"course\": \"AI\"}\n",
    "student.popitem()\n",
    "print(student)"
   ]
  },
  {
   "cell_type": "markdown",
   "id": "5f77b10c",
   "metadata": {
    "id": "5f77b10c"
   },
   "source": [
    "`.clear()` Removes all items"
   ]
  },
  {
   "cell_type": "code",
   "execution_count": 68,
   "id": "61af68c2",
   "metadata": {
    "colab": {
     "base_uri": "https://localhost:8080/"
    },
    "executionInfo": {
     "elapsed": 94,
     "status": "ok",
     "timestamp": 1749053676223,
     "user": {
      "displayName": "Ahsan Rajpoot",
      "userId": "07291457265130406735"
     },
     "user_tz": -300
    },
    "id": "61af68c2",
    "outputId": "16098217-82d9-43ae-8400-ccf820206fa2"
   },
   "outputs": [
    {
     "name": "stdout",
     "output_type": "stream",
     "text": [
      "{}\n"
     ]
    }
   ],
   "source": [
    "student = {\"name\": \"Ahsan\", \"age\": 20, \"course\": \"AI\"}\n",
    "student.clear()\n",
    "print(student)"
   ]
  },
  {
   "cell_type": "markdown",
   "id": "de83a295",
   "metadata": {
    "id": "de83a295"
   },
   "source": [
    "##### **Looping Through a Dictionary:**"
   ]
  },
  {
   "cell_type": "markdown",
   "id": "1dcf41fa",
   "metadata": {
    "id": "1dcf41fa"
   },
   "source": [
    "- Loop Through Keys"
   ]
  },
  {
   "cell_type": "code",
   "execution_count": 69,
   "id": "bf769946",
   "metadata": {
    "colab": {
     "base_uri": "https://localhost:8080/"
    },
    "executionInfo": {
     "elapsed": 22,
     "status": "ok",
     "timestamp": 1749053676247,
     "user": {
      "displayName": "Ahsan Rajpoot",
      "userId": "07291457265130406735"
     },
     "user_tz": -300
    },
    "id": "bf769946",
    "outputId": "f726a326-7516-43fe-e3e7-c7c1344d7519"
   },
   "outputs": [
    {
     "name": "stdout",
     "output_type": "stream",
     "text": [
      "name\n",
      "age\n",
      "course\n"
     ]
    }
   ],
   "source": [
    "student = {\"name\": \"Ahsan\", \"age\": 20, \"course\": \"AI\"}\n",
    "\n",
    "for key in student:\n",
    "    print(key)"
   ]
  },
  {
   "cell_type": "markdown",
   "id": "a66096c1",
   "metadata": {
    "id": "a66096c1"
   },
   "source": [
    "- Loop Through Values"
   ]
  },
  {
   "cell_type": "code",
   "execution_count": 70,
   "id": "dc761452",
   "metadata": {
    "colab": {
     "base_uri": "https://localhost:8080/"
    },
    "executionInfo": {
     "elapsed": 17,
     "status": "ok",
     "timestamp": 1749053676266,
     "user": {
      "displayName": "Ahsan Rajpoot",
      "userId": "07291457265130406735"
     },
     "user_tz": -300
    },
    "id": "dc761452",
    "outputId": "f4bf2b91-4bdb-43ef-9aa4-038e703734fc"
   },
   "outputs": [
    {
     "name": "stdout",
     "output_type": "stream",
     "text": [
      "Ahsan\n",
      "20\n",
      "AI\n"
     ]
    }
   ],
   "source": [
    "for value in student.values():\n",
    "    print(value)"
   ]
  },
  {
   "cell_type": "markdown",
   "id": "a619b3c5",
   "metadata": {
    "id": "a619b3c5"
   },
   "source": [
    "- Loop Through Key-Value Pairs"
   ]
  },
  {
   "cell_type": "code",
   "execution_count": 71,
   "id": "09a12a9e",
   "metadata": {
    "colab": {
     "base_uri": "https://localhost:8080/"
    },
    "executionInfo": {
     "elapsed": 12,
     "status": "ok",
     "timestamp": 1749053676280,
     "user": {
      "displayName": "Ahsan Rajpoot",
      "userId": "07291457265130406735"
     },
     "user_tz": -300
    },
    "id": "09a12a9e",
    "outputId": "fa11a910-4ff1-4dd3-eb6c-50372e9ca64e"
   },
   "outputs": [
    {
     "name": "stdout",
     "output_type": "stream",
     "text": [
      "name → Ahsan\n",
      "age → 20\n",
      "course → AI\n"
     ]
    }
   ],
   "source": [
    "for key, value in student.items():\n",
    "    print(f\"{key} → {value}\")"
   ]
  },
  {
   "cell_type": "markdown",
   "id": "4fbc16f0",
   "metadata": {
    "id": "4fbc16f0"
   },
   "source": [
    "- Using `enumerate()` to get index and value"
   ]
  },
  {
   "cell_type": "code",
   "execution_count": 72,
   "id": "3fdfaef3",
   "metadata": {
    "colab": {
     "base_uri": "https://localhost:8080/"
    },
    "executionInfo": {
     "elapsed": 16,
     "status": "ok",
     "timestamp": 1749053676298,
     "user": {
      "displayName": "Ahsan Rajpoot",
      "userId": "07291457265130406735"
     },
     "user_tz": -300
    },
    "id": "3fdfaef3",
    "outputId": "b4d97ff6-b92d-4951-f820-d454742d7f4c"
   },
   "outputs": [
    {
     "name": "stdout",
     "output_type": "stream",
     "text": [
      "0. name → Ahsan\n",
      "1. age → 20\n",
      "2. course → AI\n"
     ]
    }
   ],
   "source": [
    "for index, (key, value) in enumerate(student.items()):\n",
    "    print(f\"{index}. {key} → {value}\")"
   ]
  },
  {
   "cell_type": "markdown",
   "id": "c3551d97",
   "metadata": {
    "id": "c3551d97"
   },
   "source": [
    "##### **Nested Dictionaries:**\n",
    "\n",
    "A nested dictionary is a dictionary inside another dictionary, useful for representing complex structured data."
   ]
  },
  {
   "cell_type": "code",
   "execution_count": 73,
   "id": "03f40038",
   "metadata": {
    "colab": {
     "base_uri": "https://localhost:8080/"
    },
    "executionInfo": {
     "elapsed": 60,
     "status": "ok",
     "timestamp": 1749053676360,
     "user": {
      "displayName": "Ahsan Rajpoot",
      "userId": "07291457265130406735"
     },
     "user_tz": -300
    },
    "id": "03f40038",
    "outputId": "08d17c41-ccc7-41f4-96fe-7c8c3848a191"
   },
   "outputs": [
    {
     "name": "stdout",
     "output_type": "stream",
     "text": [
      "{'student1': {'name': 'Ahsan', 'age': 18, 'course': 'AI'}, 'student2': {'name': 'Usman', 'age': 21, 'course': 'DS'}}\n"
     ]
    }
   ],
   "source": [
    "students = {\n",
    "    \"student1\": {\"name\": \"Ahsan\", \"age\": 18, \"course\": \"AI\"},\n",
    "    \"student2\": {\"name\": \"Usman\", \"age\": 21, \"course\": \"DS\"}\n",
    "}\n",
    "\n",
    "print(students)"
   ]
  },
  {
   "cell_type": "markdown",
   "id": "175c08ac",
   "metadata": {
    "id": "175c08ac"
   },
   "source": [
    "- Accessing Nested Dictionary Values"
   ]
  },
  {
   "cell_type": "code",
   "execution_count": 74,
   "id": "c0dc213c",
   "metadata": {
    "colab": {
     "base_uri": "https://localhost:8080/"
    },
    "executionInfo": {
     "elapsed": 15,
     "status": "ok",
     "timestamp": 1749053676410,
     "user": {
      "displayName": "Ahsan Rajpoot",
      "userId": "07291457265130406735"
     },
     "user_tz": -300
    },
    "id": "c0dc213c",
    "outputId": "578e2838-9952-43ca-84bd-1e2217de4ef0"
   },
   "outputs": [
    {
     "name": "stdout",
     "output_type": "stream",
     "text": [
      "{'name': 'Ahsan', 'age': 18, 'course': 'AI'}\n"
     ]
    }
   ],
   "source": [
    "# Accessing full inner dictionary\n",
    "print(students['student1'])"
   ]
  },
  {
   "cell_type": "code",
   "execution_count": 75,
   "id": "eeb9a7a7",
   "metadata": {
    "colab": {
     "base_uri": "https://localhost:8080/"
    },
    "executionInfo": {
     "elapsed": 19,
     "status": "ok",
     "timestamp": 1749053676432,
     "user": {
      "displayName": "Ahsan Rajpoot",
      "userId": "07291457265130406735"
     },
     "user_tz": -300
    },
    "id": "eeb9a7a7",
    "outputId": "96db34b9-65b0-4503-b3f5-84ce438b452c"
   },
   "outputs": [
    {
     "name": "stdout",
     "output_type": "stream",
     "text": [
      "Ahsan\n",
      "AI\n"
     ]
    }
   ],
   "source": [
    "# Accessing a specific value inside inner dictionary\n",
    "print(students[\"student1\"][\"name\"])  # → Ahsan\n",
    "print(students[\"student1\"][\"course\"])  # → AI"
   ]
  },
  {
   "cell_type": "markdown",
   "id": "5385249e",
   "metadata": {
    "id": "5385249e"
   },
   "source": [
    "- Adding New Inner Dictionary"
   ]
  },
  {
   "cell_type": "code",
   "execution_count": 76,
   "id": "e68fd98d",
   "metadata": {
    "colab": {
     "base_uri": "https://localhost:8080/"
    },
    "executionInfo": {
     "elapsed": 13,
     "status": "ok",
     "timestamp": 1749053676446,
     "user": {
      "displayName": "Ahsan Rajpoot",
      "userId": "07291457265130406735"
     },
     "user_tz": -300
    },
    "id": "e68fd98d",
    "outputId": "104f2e88-9fa0-4583-d142-13c78d7554c8"
   },
   "outputs": [
    {
     "name": "stdout",
     "output_type": "stream",
     "text": [
      "{'student1': {'name': 'Ahsan', 'age': 18, 'course': 'AI'}, 'student2': {'name': 'Usman', 'age': 21, 'course': 'DS'}, 'student3': {'name': 'Sara', 'age': 21, 'course': 'ML'}}\n"
     ]
    }
   ],
   "source": [
    "students[\"student3\"] = {\"name\": \"Sara\", \"age\": 21, \"course\": \"ML\"}\n",
    "print(students)"
   ]
  },
  {
   "cell_type": "markdown",
   "id": "c658ab10",
   "metadata": {
    "id": "c658ab10"
   },
   "source": [
    "- Updating Inner Values"
   ]
  },
  {
   "cell_type": "code",
   "execution_count": 77,
   "id": "84a76c50",
   "metadata": {
    "executionInfo": {
     "elapsed": 13,
     "status": "ok",
     "timestamp": 1749053676492,
     "user": {
      "displayName": "Ahsan Rajpoot",
      "userId": "07291457265130406735"
     },
     "user_tz": -300
    },
    "id": "84a76c50"
   },
   "outputs": [],
   "source": [
    "students[\"student2\"][\"age\"] = 23"
   ]
  },
  {
   "cell_type": "markdown",
   "id": "aa8b1eab",
   "metadata": {
    "id": "aa8b1eab"
   },
   "source": [
    "- Looping Through Nested Dictionary"
   ]
  },
  {
   "cell_type": "code",
   "execution_count": 78,
   "id": "20287a62",
   "metadata": {
    "colab": {
     "base_uri": "https://localhost:8080/"
    },
    "executionInfo": {
     "elapsed": 28,
     "status": "ok",
     "timestamp": 1749053676523,
     "user": {
      "displayName": "Ahsan Rajpoot",
      "userId": "07291457265130406735"
     },
     "user_tz": -300
    },
    "id": "20287a62",
    "outputId": "d61026ac-742f-461f-f803-44eadca762fd"
   },
   "outputs": [
    {
     "name": "stdout",
     "output_type": "stream",
     "text": [
      "{'student1': {'name': 'Ahsan', 'age': 18, 'course': 'AI'}, 'student2': {'name': 'Usman', 'age': 23, 'course': 'DS'}, 'student3': {'name': 'Sara', 'age': 21, 'course': 'ML'}}\n"
     ]
    }
   ],
   "source": [
    "print(students)"
   ]
  },
  {
   "cell_type": "code",
   "execution_count": 79,
   "id": "f4e1b362",
   "metadata": {
    "colab": {
     "base_uri": "https://localhost:8080/"
    },
    "executionInfo": {
     "elapsed": 15,
     "status": "ok",
     "timestamp": 1749053676540,
     "user": {
      "displayName": "Ahsan Rajpoot",
      "userId": "07291457265130406735"
     },
     "user_tz": -300
    },
    "id": "f4e1b362",
    "outputId": "5e3f8130-1e6d-425d-8634-cb61bacf2cc7"
   },
   "outputs": [
    {
     "name": "stdout",
     "output_type": "stream",
     "text": [
      "All students info:\n",
      "\n",
      "student1 info:\n",
      "name → Ahsan\n",
      "age → 18\n",
      "course → AI\n",
      "All students info:\n",
      "\n",
      "student2 info:\n",
      "name → Usman\n",
      "age → 23\n",
      "course → DS\n",
      "All students info:\n",
      "\n",
      "student3 info:\n",
      "name → Sara\n",
      "age → 21\n",
      "course → ML\n"
     ]
    }
   ],
   "source": [
    "for student, info in students.items():\n",
    "    print(\"All students info:\")\n",
    "    print(f\"\\n{student} info:\")\n",
    "    for key, value in info.items():\n",
    "        print(f\"{key} → {value}\")"
   ]
  },
  {
   "cell_type": "markdown",
   "id": "1323f261",
   "metadata": {
    "id": "1323f261"
   },
   "source": [
    "### **5. Set Types**"
   ]
  },
  {
   "cell_type": "markdown",
   "id": "757daf6a",
   "metadata": {
    "id": "757daf6a"
   },
   "source": [
    "#### **Set**\n",
    "- A set is an unordered collection of unique elements.\n",
    "- Sets are mutable, meaning you can add or remove elements.\n",
    "- Created using curly braces `{}` or the `set()` function."
   ]
  },
  {
   "cell_type": "markdown",
   "id": "98209e6f",
   "metadata": {
    "id": "98209e6f"
   },
   "source": [
    "##### **Creating a Set:**"
   ]
  },
  {
   "cell_type": "markdown",
   "id": "b7a5e526",
   "metadata": {
    "id": "b7a5e526"
   },
   "source": [
    "- Using curly braces `{}`"
   ]
  },
  {
   "cell_type": "code",
   "execution_count": 80,
   "id": "a8698add",
   "metadata": {
    "colab": {
     "base_uri": "https://localhost:8080/"
    },
    "executionInfo": {
     "elapsed": 22,
     "status": "ok",
     "timestamp": 1749053676564,
     "user": {
      "displayName": "Ahsan Rajpoot",
      "userId": "07291457265130406735"
     },
     "user_tz": -300
    },
    "id": "a8698add",
    "outputId": "580644d5-7100-47d6-fddd-c2e5f8f2c165"
   },
   "outputs": [
    {
     "name": "stdout",
     "output_type": "stream",
     "text": [
      "<class 'set'>\n",
      "{1, 2, 3, 4, 5}\n"
     ]
    }
   ],
   "source": [
    "num_set = {1, 2, 3, 4, 5}\n",
    "print(type(num_set))\n",
    "print(num_set)"
   ]
  },
  {
   "cell_type": "markdown",
   "id": "b7ae9ddd",
   "metadata": {
    "id": "b7ae9ddd"
   },
   "source": [
    "- Using `set()` Constructor"
   ]
  },
  {
   "cell_type": "code",
   "execution_count": 81,
   "id": "0c717d36",
   "metadata": {
    "colab": {
     "base_uri": "https://localhost:8080/"
    },
    "executionInfo": {
     "elapsed": 56,
     "status": "ok",
     "timestamp": 1749053676621,
     "user": {
      "displayName": "Ahsan Rajpoot",
      "userId": "07291457265130406735"
     },
     "user_tz": -300
    },
    "id": "0c717d36",
    "outputId": "8d883e44-1ea5-4233-bf5d-48cec7a9c694"
   },
   "outputs": [
    {
     "name": "stdout",
     "output_type": "stream",
     "text": [
      "{1, 2, 3, 4}\n"
     ]
    }
   ],
   "source": [
    "new_set = set([1, 2, 3, 4])  # from a list\n",
    "print(new_set)"
   ]
  },
  {
   "cell_type": "code",
   "execution_count": 82,
   "id": "a6c18d9e",
   "metadata": {
    "colab": {
     "base_uri": "https://localhost:8080/"
    },
    "executionInfo": {
     "elapsed": 13,
     "status": "ok",
     "timestamp": 1749053676652,
     "user": {
      "displayName": "Ahsan Rajpoot",
      "userId": "07291457265130406735"
     },
     "user_tz": -300
    },
    "id": "a6c18d9e",
    "outputId": "e461eae8-e06d-4d45-a72d-6b9a026d7826"
   },
   "outputs": [
    {
     "name": "stdout",
     "output_type": "stream",
     "text": [
      "{'n', 'a', 's', 'h'}\n"
     ]
    }
   ],
   "source": [
    "word_set = set(\"ahsan\")  # from string → duplicates removed\n",
    "print(word_set)"
   ]
  },
  {
   "cell_type": "code",
   "execution_count": 83,
   "id": "6efa9979",
   "metadata": {
    "colab": {
     "base_uri": "https://localhost:8080/"
    },
    "executionInfo": {
     "elapsed": 14,
     "status": "ok",
     "timestamp": 1749053676667,
     "user": {
      "displayName": "Ahsan Rajpoot",
      "userId": "07291457265130406735"
     },
     "user_tz": -300
    },
    "id": "6efa9979",
    "outputId": "0a8cbabc-0eb1-418d-bd66-8e26d14dc1b4"
   },
   "outputs": [
    {
     "name": "stdout",
     "output_type": "stream",
     "text": [
      "{10, 20, 30}\n"
     ]
    }
   ],
   "source": [
    "mix_set = set((10, 20, 10, 30))  # from tuple\n",
    "print(mix_set)"
   ]
  },
  {
   "cell_type": "code",
   "execution_count": 84,
   "id": "71cbda01",
   "metadata": {
    "colab": {
     "base_uri": "https://localhost:8080/"
    },
    "executionInfo": {
     "elapsed": 22,
     "status": "ok",
     "timestamp": 1749053676691,
     "user": {
      "displayName": "Ahsan Rajpoot",
      "userId": "07291457265130406735"
     },
     "user_tz": -300
    },
    "id": "71cbda01",
    "outputId": "b2e9ef4d-ae41-4825-e08c-459bfce9eebc"
   },
   "outputs": [
    {
     "name": "stdout",
     "output_type": "stream",
     "text": [
      "set()\n",
      "<class 'set'>\n"
     ]
    }
   ],
   "source": [
    "# empty set\n",
    "empty_set = set()\n",
    "print(empty_set)\n",
    "print(type(empty_set))"
   ]
  },
  {
   "cell_type": "markdown",
   "id": "5ac42e23",
   "metadata": {
    "id": "5ac42e23"
   },
   "source": [
    "- Set with Mixed Data Types"
   ]
  },
  {
   "cell_type": "code",
   "execution_count": 85,
   "id": "c9b59695",
   "metadata": {
    "colab": {
     "base_uri": "https://localhost:8080/"
    },
    "executionInfo": {
     "elapsed": 20,
     "status": "ok",
     "timestamp": 1749053676713,
     "user": {
      "displayName": "Ahsan Rajpoot",
      "userId": "07291457265130406735"
     },
     "user_tz": -300
    },
    "id": "c9b59695",
    "outputId": "468d1eaf-99eb-467a-94b1-a21cd4b8f9f9"
   },
   "outputs": [
    {
     "name": "stdout",
     "output_type": "stream",
     "text": [
      "{'AI', True, 3.14, 101}\n"
     ]
    }
   ],
   "source": [
    "mix_set = {\"AI\", 101, 3.14, True}\n",
    "print(mix_set)"
   ]
  },
  {
   "cell_type": "markdown",
   "id": "8f41e9d0",
   "metadata": {
    "id": "8f41e9d0"
   },
   "source": [
    "- Duplicate Values Are Removed Automatically"
   ]
  },
  {
   "cell_type": "code",
   "execution_count": 86,
   "id": "aaf58535",
   "metadata": {
    "colab": {
     "base_uri": "https://localhost:8080/"
    },
    "executionInfo": {
     "elapsed": 56,
     "status": "ok",
     "timestamp": 1749053676770,
     "user": {
      "displayName": "Ahsan Rajpoot",
      "userId": "07291457265130406735"
     },
     "user_tz": -300
    },
    "id": "aaf58535",
    "outputId": "34a5b989-a76a-4110-eb36-1b92bada565b"
   },
   "outputs": [
    {
     "name": "stdout",
     "output_type": "stream",
     "text": [
      "{1, 2, 3, 4, 5}\n"
     ]
    }
   ],
   "source": [
    "dup_set = {1, 2, 2, 3, 4, 4, 5, 5, 5}\n",
    "print(dup_set)"
   ]
  },
  {
   "cell_type": "markdown",
   "id": "62029a5b",
   "metadata": {
    "id": "62029a5b"
   },
   "source": [
    "##### **Adding Set Elements:**"
   ]
  },
  {
   "cell_type": "markdown",
   "id": "aa0dc5e7",
   "metadata": {
    "id": "aa0dc5e7"
   },
   "source": [
    "- Using `add()` (Add a single element) (Duplicates will be ignored)"
   ]
  },
  {
   "cell_type": "code",
   "execution_count": 87,
   "id": "28da8dcb",
   "metadata": {
    "colab": {
     "base_uri": "https://localhost:8080/"
    },
    "executionInfo": {
     "elapsed": 15,
     "status": "ok",
     "timestamp": 1749053676787,
     "user": {
      "displayName": "Ahsan Rajpoot",
      "userId": "07291457265130406735"
     },
     "user_tz": -300
    },
    "id": "28da8dcb",
    "outputId": "7097bbb7-39dd-4bdc-f0b7-7e20756feaa1"
   },
   "outputs": [
    {
     "name": "stdout",
     "output_type": "stream",
     "text": [
      "{1, 2, 3, 4}\n"
     ]
    }
   ],
   "source": [
    "my_set = {1, 2, 3}\n",
    "my_set.add(4)  # adds 4 to the set\n",
    "print(my_set)"
   ]
  },
  {
   "cell_type": "markdown",
   "id": "aa627262",
   "metadata": {
    "id": "aa627262"
   },
   "source": [
    "- `update()` (Add multiple elements from an iterable)"
   ]
  },
  {
   "cell_type": "code",
   "execution_count": 88,
   "id": "e6559934",
   "metadata": {
    "colab": {
     "base_uri": "https://localhost:8080/"
    },
    "executionInfo": {
     "elapsed": 15,
     "status": "ok",
     "timestamp": 1749053676815,
     "user": {
      "displayName": "Ahsan Rajpoot",
      "userId": "07291457265130406735"
     },
     "user_tz": -300
    },
    "id": "e6559934",
    "outputId": "f85a37f5-113b-4039-c352-834a7eb8cc2c"
   },
   "outputs": [
    {
     "name": "stdout",
     "output_type": "stream",
     "text": [
      "{1, 2, 3, 4, 5, 6}\n"
     ]
    }
   ],
   "source": [
    "my_set = {1, 2, 3}\n",
    "my_set.update([4, 5, 6])  # adds all from the list\n",
    "print(my_set)"
   ]
  },
  {
   "cell_type": "markdown",
   "id": "8729329f",
   "metadata": {
    "id": "8729329f"
   },
   "source": [
    "##### **Removing Set Elements:**"
   ]
  },
  {
   "cell_type": "markdown",
   "id": "60ad4bfd",
   "metadata": {
    "id": "60ad4bfd"
   },
   "source": [
    "- `remove():` Removes a specific element, but throws an error if not found"
   ]
  },
  {
   "cell_type": "code",
   "execution_count": 89,
   "id": "994bf7a5",
   "metadata": {
    "colab": {
     "base_uri": "https://localhost:8080/"
    },
    "executionInfo": {
     "elapsed": 56,
     "status": "ok",
     "timestamp": 1749053676875,
     "user": {
      "displayName": "Ahsan Rajpoot",
      "userId": "07291457265130406735"
     },
     "user_tz": -300
    },
    "id": "994bf7a5",
    "outputId": "ea88a6cd-87b9-49da-c941-7d620ec3c529"
   },
   "outputs": [
    {
     "name": "stdout",
     "output_type": "stream",
     "text": [
      "{10, 30}\n"
     ]
    }
   ],
   "source": [
    "my_set = {10, 20, 30}\n",
    "my_set.remove(20)  # removes 20\n",
    "print(my_set)\n",
    "\n",
    "# my_set.remove(99)  ->  KeyError as 99 not in set"
   ]
  },
  {
   "cell_type": "markdown",
   "id": "10cbb768",
   "metadata": {
    "id": "10cbb768"
   },
   "source": [
    "- `discard():` Also removes a specific element, but no error if it doesn’t exist."
   ]
  },
  {
   "cell_type": "code",
   "execution_count": 90,
   "id": "52cfd448",
   "metadata": {
    "colab": {
     "base_uri": "https://localhost:8080/"
    },
    "executionInfo": {
     "elapsed": 12,
     "status": "ok",
     "timestamp": 1749053676890,
     "user": {
      "displayName": "Ahsan Rajpoot",
      "userId": "07291457265130406735"
     },
     "user_tz": -300
    },
    "id": "52cfd448",
    "outputId": "9b7f95dc-e104-4643-981d-6c1c80383a13"
   },
   "outputs": [
    {
     "name": "stdout",
     "output_type": "stream",
     "text": [
      "{1, 3}\n"
     ]
    }
   ],
   "source": [
    "my_set = {1, 2, 3}\n",
    "my_set.discard(2)  # removes 2\n",
    "my_set.discard(99)  # no error\n",
    "print(my_set)"
   ]
  },
  {
   "cell_type": "markdown",
   "id": "55e9cb80",
   "metadata": {
    "id": "55e9cb80"
   },
   "source": [
    "- `pop():` Removes random element and returns."
   ]
  },
  {
   "cell_type": "code",
   "execution_count": 91,
   "id": "672e24f7",
   "metadata": {
    "colab": {
     "base_uri": "https://localhost:8080/"
    },
    "executionInfo": {
     "elapsed": 40,
     "status": "ok",
     "timestamp": 1749053676932,
     "user": {
      "displayName": "Ahsan Rajpoot",
      "userId": "07291457265130406735"
     },
     "user_tz": -300
    },
    "id": "672e24f7",
    "outputId": "9c42e326-ebfc-420f-ac40-3b3dccb0b480"
   },
   "outputs": [
    {
     "name": "stdout",
     "output_type": "stream",
     "text": [
      "Removed: 10\n",
      "{5, 15}\n"
     ]
    }
   ],
   "source": [
    "my_set = {5, 10, 15}\n",
    "removed = my_set.pop()\n",
    "print(\"Removed:\", removed)\n",
    "print(my_set)"
   ]
  },
  {
   "cell_type": "markdown",
   "id": "9450a211",
   "metadata": {
    "id": "9450a211"
   },
   "source": [
    "- `clear():` Removes all elements (empties the set)."
   ]
  },
  {
   "cell_type": "code",
   "execution_count": 92,
   "id": "24a13f8f",
   "metadata": {
    "colab": {
     "base_uri": "https://localhost:8080/"
    },
    "executionInfo": {
     "elapsed": 28,
     "status": "ok",
     "timestamp": 1749053676934,
     "user": {
      "displayName": "Ahsan Rajpoot",
      "userId": "07291457265130406735"
     },
     "user_tz": -300
    },
    "id": "24a13f8f",
    "outputId": "1bc8c190-5249-436f-8797-335362d05c64"
   },
   "outputs": [
    {
     "name": "stdout",
     "output_type": "stream",
     "text": [
      "set()\n"
     ]
    }
   ],
   "source": [
    "my_set = {1, 2, 3}\n",
    "my_set.clear()\n",
    "print(my_set)"
   ]
  },
  {
   "cell_type": "markdown",
   "id": "b8e9845e",
   "metadata": {
    "id": "b8e9845e"
   },
   "source": [
    "- `del:` Deletes the entire set from memory."
   ]
  },
  {
   "cell_type": "code",
   "execution_count": 93,
   "id": "9f255a60",
   "metadata": {
    "executionInfo": {
     "elapsed": 7,
     "status": "ok",
     "timestamp": 1749053676935,
     "user": {
      "displayName": "Ahsan Rajpoot",
      "userId": "07291457265130406735"
     },
     "user_tz": -300
    },
    "id": "9f255a60"
   },
   "outputs": [],
   "source": [
    "my_set = {100, 200}\n",
    "del my_set\n",
    "# print(my_set)  # NameError: my_set is not defined"
   ]
  },
  {
   "cell_type": "markdown",
   "id": "a4a5ea7a",
   "metadata": {
    "id": "a4a5ea7a"
   },
   "source": [
    "##### **Set Mathematical Operations:**"
   ]
  },
  {
   "cell_type": "markdown",
   "id": "e69cd181",
   "metadata": {
    "id": "e69cd181"
   },
   "source": [
    "**1. Union (`|` or `union()`)**\n",
    "\n",
    "   - Combines two sets, removing duplicates.\n",
    "   - Using `|` operator or `.union()` method."
   ]
  },
  {
   "cell_type": "code",
   "execution_count": 94,
   "id": "7f2e258f",
   "metadata": {
    "colab": {
     "base_uri": "https://localhost:8080/"
    },
    "executionInfo": {
     "elapsed": 10,
     "status": "ok",
     "timestamp": 1749053676957,
     "user": {
      "displayName": "Ahsan Rajpoot",
      "userId": "07291457265130406735"
     },
     "user_tz": -300
    },
    "id": "7f2e258f",
    "outputId": "11c3833f-e34b-41e2-c5b5-ce5a22843423"
   },
   "outputs": [
    {
     "name": "stdout",
     "output_type": "stream",
     "text": [
      "{1, 2, 3, 4, 5}\n"
     ]
    }
   ],
   "source": [
    "A = {1, 2, 3}\n",
    "B = {3, 4, 5}\n",
    "\n",
    "print(A.union(B))  # -> or print(A | B)"
   ]
  },
  {
   "cell_type": "markdown",
   "id": "8bbc57a7",
   "metadata": {
    "id": "8bbc57a7"
   },
   "source": [
    "**2. Intersection (`&` or `intersection()`)**\n",
    "\n",
    "- Returns elements common to both sets.\n",
    "- Using `&` operator or `.intersection()` method."
   ]
  },
  {
   "cell_type": "code",
   "execution_count": 95,
   "id": "e67d0f64",
   "metadata": {
    "colab": {
     "base_uri": "https://localhost:8080/"
    },
    "executionInfo": {
     "elapsed": 49,
     "status": "ok",
     "timestamp": 1749053677008,
     "user": {
      "displayName": "Ahsan Rajpoot",
      "userId": "07291457265130406735"
     },
     "user_tz": -300
    },
    "id": "e67d0f64",
    "outputId": "11c68b3b-acc7-4fd8-e664-109d8756f451"
   },
   "outputs": [
    {
     "name": "stdout",
     "output_type": "stream",
     "text": [
      "{2, 3}\n"
     ]
    }
   ],
   "source": [
    "A = {1, 2, 3}\n",
    "B = {2, 3, 4}\n",
    "\n",
    "print(A.intersection(B))  # -> or print(A & B)"
   ]
  },
  {
   "cell_type": "markdown",
   "id": "ca474c3e",
   "metadata": {
    "id": "ca474c3e"
   },
   "source": [
    "**3. Difference (`-` or `difference()`)**\n",
    "\n",
    "- Returns elements in the first set but not in the second.\n",
    "- Using `-` operator or `.difference()` method."
   ]
  },
  {
   "cell_type": "code",
   "execution_count": 96,
   "id": "58f5070e",
   "metadata": {
    "colab": {
     "base_uri": "https://localhost:8080/"
    },
    "executionInfo": {
     "elapsed": 59,
     "status": "ok",
     "timestamp": 1749053677032,
     "user": {
      "displayName": "Ahsan Rajpoot",
      "userId": "07291457265130406735"
     },
     "user_tz": -300
    },
    "id": "58f5070e",
    "outputId": "c7f0fd6e-bcae-4152-aaa2-dc955fc3f45b"
   },
   "outputs": [
    {
     "name": "stdout",
     "output_type": "stream",
     "text": [
      "{1, 2}\n"
     ]
    }
   ],
   "source": [
    "A = {1, 2, 3, 4}\n",
    "B = {3, 4, 5}\n",
    "\n",
    "print(A.difference(B))  # -> or print(A - B)"
   ]
  },
  {
   "cell_type": "markdown",
   "id": "c6c112fb",
   "metadata": {
    "id": "c6c112fb"
   },
   "source": [
    "**4. Symmetric Difference (`^` or `symmetric_difference()`)**\n",
    "\n",
    "- Symmetric difference returns the all elements from both sets, excluding any elements common to both.\n",
    "- Using `^` operator or `.symmetric_difference()` method."
   ]
  },
  {
   "cell_type": "code",
   "execution_count": 97,
   "id": "2355884f",
   "metadata": {
    "colab": {
     "base_uri": "https://localhost:8080/"
    },
    "executionInfo": {
     "elapsed": 15,
     "status": "ok",
     "timestamp": 1749053677049,
     "user": {
      "displayName": "Ahsan Rajpoot",
      "userId": "07291457265130406735"
     },
     "user_tz": -300
    },
    "id": "2355884f",
    "outputId": "bb353b38-188e-49f6-c142-025fa76a19dc"
   },
   "outputs": [
    {
     "name": "stdout",
     "output_type": "stream",
     "text": [
      "{1, 2, 4, 5}\n"
     ]
    }
   ],
   "source": [
    "A = {1, 2, 3}\n",
    "B = {3, 4, 5}\n",
    "\n",
    "print(A.symmetric_difference(B))  # -> print(A ^ B)"
   ]
  },
  {
   "cell_type": "markdown",
   "id": "e9c34bb8",
   "metadata": {
    "id": "e9c34bb8"
   },
   "source": [
    "##### **Set Relationships:**\n",
    "\n",
    "These operations help you compare sets, checking if one is a subset, superset, or if sets are completely disjoint.\n",
    "\n",
    "- **Subset**: A set A is a subset of a set B if all elements of A are also elements of B.\n",
    "- **Superset**: A set A is a superset of a set B if all elements of B are also elements of A.\n",
    "- **Disjoint Sets**: Two sets are disjoint if they have no elements in common."
   ]
  },
  {
   "cell_type": "markdown",
   "id": "78a5f34b",
   "metadata": {
    "id": "78a5f34b"
   },
   "source": [
    "**1. Subset (`issubset()` or `<=`)**\n",
    "\n",
    "Returns `True` if all elements of Set A are in Set B"
   ]
  },
  {
   "cell_type": "code",
   "execution_count": 98,
   "id": "5738fbb5",
   "metadata": {
    "colab": {
     "base_uri": "https://localhost:8080/"
    },
    "executionInfo": {
     "elapsed": 42,
     "status": "ok",
     "timestamp": 1749053677092,
     "user": {
      "displayName": "Ahsan Rajpoot",
      "userId": "07291457265130406735"
     },
     "user_tz": -300
    },
    "id": "5738fbb5",
    "outputId": "5322cf92-ee54-4505-c9ab-054a108456d7"
   },
   "outputs": [
    {
     "name": "stdout",
     "output_type": "stream",
     "text": [
      "True\n"
     ]
    }
   ],
   "source": [
    "A = {1, 2}\n",
    "B = {1, 2, 3, 4}\n",
    "\n",
    "print(A.issubset(B))  # or print(A <= B)"
   ]
  },
  {
   "cell_type": "markdown",
   "id": "afb988ce",
   "metadata": {
    "id": "afb988ce"
   },
   "source": [
    "**2. Superset (`issuperset()` or` >=`)**\n",
    "\n",
    "Returns `True` if Set A contains all elements of Set B"
   ]
  },
  {
   "cell_type": "code",
   "execution_count": 99,
   "id": "d1f110b4",
   "metadata": {
    "colab": {
     "base_uri": "https://localhost:8080/"
    },
    "executionInfo": {
     "elapsed": 19,
     "status": "ok",
     "timestamp": 1749053677173,
     "user": {
      "displayName": "Ahsan Rajpoot",
      "userId": "07291457265130406735"
     },
     "user_tz": -300
    },
    "id": "d1f110b4",
    "outputId": "9431a3f3-5383-42a3-95db-ffe0110f2bee"
   },
   "outputs": [
    {
     "name": "stdout",
     "output_type": "stream",
     "text": [
      "True\n"
     ]
    }
   ],
   "source": [
    "A = {1, 2, 3, 4}\n",
    "B = {2, 3}\n",
    "\n",
    "print(A.issuperset(B))  # or print(A >= B)"
   ]
  },
  {
   "cell_type": "markdown",
   "id": "9f6b7638",
   "metadata": {
    "id": "9f6b7638"
   },
   "source": [
    "**3. Disjoint (`isdisjoint()`)**\n",
    "\n",
    "Returns `True` if two sets have no elements in common"
   ]
  },
  {
   "cell_type": "code",
   "execution_count": 100,
   "id": "e5dd237c",
   "metadata": {
    "colab": {
     "base_uri": "https://localhost:8080/"
    },
    "executionInfo": {
     "elapsed": 33,
     "status": "ok",
     "timestamp": 1749053677209,
     "user": {
      "displayName": "Ahsan Rajpoot",
      "userId": "07291457265130406735"
     },
     "user_tz": -300
    },
    "id": "e5dd237c",
    "outputId": "2c0bfecd-5090-4201-8291-2531cdbf4603"
   },
   "outputs": [
    {
     "name": "stdout",
     "output_type": "stream",
     "text": [
      "True\n"
     ]
    }
   ],
   "source": [
    "A = {1, 2, 3}\n",
    "B = {4, 5, 6}\n",
    "\n",
    "print(A.isdisjoint(B))"
   ]
  },
  {
   "cell_type": "markdown",
   "id": "213270ab",
   "metadata": {
    "id": "213270ab"
   },
   "source": [
    "**Subset** → \"I am part of the bigger group\"\n",
    "\n",
    "**Superset** → \"I contain everything in the other group\"\n",
    "\n",
    "**Disjoint** → \"We don’t share anything\""
   ]
  },
  {
   "cell_type": "markdown",
   "id": "342a6ecd",
   "metadata": {
    "id": "342a6ecd"
   },
   "source": [
    "##### **Looping Through a Set:**\n",
    "\n",
    "Since sets are unordered collections, you can loop through them using a simple for loop, but order is not guaranteed."
   ]
  },
  {
   "cell_type": "markdown",
   "id": "98c745d8",
   "metadata": {
    "id": "98c745d8"
   },
   "source": [
    "- Basic for Loop\n",
    "\n",
    "This prints all elements, in any order (not like list indexing)"
   ]
  },
  {
   "cell_type": "code",
   "execution_count": 101,
   "id": "ded325e4",
   "metadata": {
    "colab": {
     "base_uri": "https://localhost:8080/"
    },
    "executionInfo": {
     "elapsed": 16,
     "status": "ok",
     "timestamp": 1749053677315,
     "user": {
      "displayName": "Ahsan Rajpoot",
      "userId": "07291457265130406735"
     },
     "user_tz": -300
    },
    "id": "ded325e4",
    "outputId": "128a76ae-1f2c-40ed-a9b0-41174a559b8c"
   },
   "outputs": [
    {
     "name": "stdout",
     "output_type": "stream",
     "text": [
      "cherry\n",
      "banana\n",
      "apple\n"
     ]
    }
   ],
   "source": [
    "fruit_set = {\"apple\", \"banana\", \"cherry\"}\n",
    "\n",
    "for fruit in fruit_set:\n",
    "    print(fruit)"
   ]
  },
  {
   "cell_type": "markdown",
   "id": "2a051cfb",
   "metadata": {
    "id": "2a051cfb"
   },
   "source": [
    "- Loop with Condition"
   ]
  },
  {
   "cell_type": "code",
   "execution_count": 102,
   "id": "b821ee4d",
   "metadata": {
    "colab": {
     "base_uri": "https://localhost:8080/"
    },
    "executionInfo": {
     "elapsed": 19,
     "status": "ok",
     "timestamp": 1749053677337,
     "user": {
      "displayName": "Ahsan Rajpoot",
      "userId": "07291457265130406735"
     },
     "user_tz": -300
    },
    "id": "b821ee4d",
    "outputId": "60d3c729-a330-4d53-cc94-701294c23110"
   },
   "outputs": [
    {
     "name": "stdout",
     "output_type": "stream",
     "text": [
      "50 is greater than 25\n",
      "40 is greater than 25\n",
      "30 is greater than 25\n"
     ]
    }
   ],
   "source": [
    "my_set = {10, 20, 30, 40, 50}\n",
    "\n",
    "for num in my_set:\n",
    "    if num > 25:\n",
    "        print(f\"{num} is greater than 25\")"
   ]
  },
  {
   "cell_type": "markdown",
   "id": "6ce015ff",
   "metadata": {
    "id": "6ce015ff"
   },
   "source": [
    "#### **Frozenset**\n",
    "- A frozenset is an immutable version of a set, meaning that once it is created, it cannot be modified (i.e., no adding or removing elements)."
   ]
  },
  {
   "cell_type": "code",
   "execution_count": 103,
   "id": "2d0eedb2",
   "metadata": {
    "colab": {
     "base_uri": "https://localhost:8080/"
    },
    "executionInfo": {
     "elapsed": 10,
     "status": "ok",
     "timestamp": 1749053677359,
     "user": {
      "displayName": "Ahsan Rajpoot",
      "userId": "07291457265130406735"
     },
     "user_tz": -300
    },
    "id": "2d0eedb2",
    "outputId": "8d3eee96-6afb-4a39-8d12-0d4834b2db02"
   },
   "outputs": [
    {
     "name": "stdout",
     "output_type": "stream",
     "text": [
      "<class 'frozenset'>\n",
      "frozenset({1, 2, 3, 4, 5})\n"
     ]
    }
   ],
   "source": [
    "# creating frozenset\n",
    "frozen_set = frozenset([1, 2, 3, 4, 5])\n",
    "print(type(frozen_set))\n",
    "print(frozen_set)"
   ]
  },
  {
   "cell_type": "markdown",
   "id": "4ec98755",
   "metadata": {
    "id": "4ec98755"
   },
   "source": [
    "### **6. Boolean Type**\n",
    "- Represents one of two values: `True` or `False`.\n",
    "- Used for logical operations and conditions."
   ]
  },
  {
   "cell_type": "code",
   "execution_count": 104,
   "id": "9e6d1841",
   "metadata": {
    "colab": {
     "base_uri": "https://localhost:8080/"
    },
    "executionInfo": {
     "elapsed": 14,
     "status": "ok",
     "timestamp": 1749053677376,
     "user": {
      "displayName": "Ahsan Rajpoot",
      "userId": "07291457265130406735"
     },
     "user_tz": -300
    },
    "id": "9e6d1841",
    "outputId": "80ad9b2b-0efe-4ce3-b468-86e6deac9c37"
   },
   "outputs": [
    {
     "name": "stdout",
     "output_type": "stream",
     "text": [
      "True\n",
      "False\n",
      "<class 'bool'>\n"
     ]
    }
   ],
   "source": [
    "print(True)\n",
    "print(False)\n",
    "print(type(True))"
   ]
  },
  {
   "cell_type": "markdown",
   "id": "513bf5b4",
   "metadata": {
    "id": "513bf5b4"
   },
   "source": [
    "##### **Boolean from Expressions:**"
   ]
  },
  {
   "cell_type": "code",
   "execution_count": 105,
   "id": "8975cb05",
   "metadata": {
    "colab": {
     "base_uri": "https://localhost:8080/"
    },
    "executionInfo": {
     "elapsed": 18,
     "status": "ok",
     "timestamp": 1749053677435,
     "user": {
      "displayName": "Ahsan Rajpoot",
      "userId": "07291457265130406735"
     },
     "user_tz": -300
    },
    "id": "8975cb05",
    "outputId": "e919e566-1dc9-49f8-cb60-dbbd84f4d2d0"
   },
   "outputs": [
    {
     "name": "stdout",
     "output_type": "stream",
     "text": [
      "True\n",
      "False\n",
      "True\n",
      "False\n"
     ]
    }
   ],
   "source": [
    "print(5 > 3)      # True\n",
    "print(10 == 20)   # False\n",
    "print(3 < 7)      # True\n",
    "print(5 != 5)     # False"
   ]
  },
  {
   "cell_type": "markdown",
   "id": "b6cf6d73",
   "metadata": {
    "id": "b6cf6d73"
   },
   "source": [
    "##### **`bool()` Function Conversion:**"
   ]
  },
  {
   "cell_type": "code",
   "execution_count": 106,
   "id": "70188bd4",
   "metadata": {
    "colab": {
     "base_uri": "https://localhost:8080/"
    },
    "executionInfo": {
     "elapsed": 21,
     "status": "ok",
     "timestamp": 1749053677472,
     "user": {
      "displayName": "Ahsan Rajpoot",
      "userId": "07291457265130406735"
     },
     "user_tz": -300
    },
    "id": "70188bd4",
    "outputId": "40813f2e-39fd-4937-df0b-844d4ec620c7"
   },
   "outputs": [
    {
     "name": "stdout",
     "output_type": "stream",
     "text": [
      "False\n",
      "True\n",
      "False\n",
      "True\n"
     ]
    }
   ],
   "source": [
    "print(bool(0))       # False\n",
    "print(bool(1))       # True\n",
    "print(bool(\"\"))      # False\n",
    "print(bool(\"hello\")) # True"
   ]
  },
  {
   "cell_type": "markdown",
   "id": "8fc98792",
   "metadata": {
    "id": "8fc98792"
   },
   "source": [
    "##### **Logical Operators:**"
   ]
  },
  {
   "cell_type": "code",
   "execution_count": 107,
   "id": "240c55c6",
   "metadata": {
    "colab": {
     "base_uri": "https://localhost:8080/"
    },
    "executionInfo": {
     "elapsed": 14,
     "status": "ok",
     "timestamp": 1749053677488,
     "user": {
      "displayName": "Ahsan Rajpoot",
      "userId": "07291457265130406735"
     },
     "user_tz": -300
    },
    "id": "240c55c6",
    "outputId": "fd6fa38e-7930-4a69-aae6-6ee24871c263"
   },
   "outputs": [
    {
     "name": "stdout",
     "output_type": "stream",
     "text": [
      "False\n",
      "True\n",
      "False\n",
      "True\n",
      "False\n",
      "True\n",
      "True\n",
      "True\n",
      "False\n",
      "True\n"
     ]
    }
   ],
   "source": [
    "print(True and False)  # False\n",
    "print(True or False)   # True\n",
    "print(not True)        # False\n",
    "print(True and True)   # True\n",
    "print(False or False)  # False\n",
    "print(not False)       # True\n",
    "print(True and (False or True))  # True\n",
    "print((True or False) and True)  # True\n",
    "print((True and False) or (False and True))  # False\n",
    "print((True or False) and (False or True))  # True"
   ]
  },
  {
   "cell_type": "markdown",
   "id": "eaa89d94",
   "metadata": {
    "id": "eaa89d94"
   },
   "source": [
    "##### **Booleans in `if` Conditions:**"
   ]
  },
  {
   "cell_type": "code",
   "execution_count": 108,
   "id": "229577b9",
   "metadata": {
    "colab": {
     "base_uri": "https://localhost:8080/"
    },
    "executionInfo": {
     "elapsed": 46,
     "status": "ok",
     "timestamp": 1749053677548,
     "user": {
      "displayName": "Ahsan Rajpoot",
      "userId": "07291457265130406735"
     },
     "user_tz": -300
    },
    "id": "229577b9",
    "outputId": "9ba588f6-6d11-4e27-a77d-bb077372d10f"
   },
   "outputs": [
    {
     "name": "stdout",
     "output_type": "stream",
     "text": [
      "x is truthy\n"
     ]
    }
   ],
   "source": [
    "x = 10\n",
    "if x:\n",
    "    print(\"x is truthy\")  # Executes since 10 -> True"
   ]
  },
  {
   "cell_type": "markdown",
   "id": "dddb9dda",
   "metadata": {
    "id": "dddb9dda"
   },
   "source": [
    "### **7. None Type**"
   ]
  },
  {
   "cell_type": "markdown",
   "id": "0c2add79",
   "metadata": {
    "id": "0c2add79"
   },
   "source": [
    "#### **NoneType**\n",
    "- Represents the absence of a value or a null value."
   ]
  },
  {
   "cell_type": "code",
   "execution_count": 109,
   "id": "38daa8d4",
   "metadata": {
    "colab": {
     "base_uri": "https://localhost:8080/"
    },
    "executionInfo": {
     "elapsed": 15,
     "status": "ok",
     "timestamp": 1749053677566,
     "user": {
      "displayName": "Ahsan Rajpoot",
      "userId": "07291457265130406735"
     },
     "user_tz": -300
    },
    "id": "38daa8d4",
    "outputId": "5fd895f0-eebe-48b5-e4a1-69ad51581b3e"
   },
   "outputs": [
    {
     "name": "stdout",
     "output_type": "stream",
     "text": [
      "<class 'NoneType'>\n"
     ]
    }
   ],
   "source": [
    "x = None\n",
    "print(type(x))  # <class 'NoneType'>"
   ]
  },
  {
   "cell_type": "markdown",
   "id": "403d75e6",
   "metadata": {
    "id": "403d75e6"
   },
   "source": [
    "##### **Common Use Cases:**"
   ]
  },
  {
   "cell_type": "markdown",
   "id": "85ad969e",
   "metadata": {
    "id": "85ad969e"
   },
   "source": [
    "- As a default return value for functions that don’t explicitly return anything:"
   ]
  },
  {
   "cell_type": "code",
   "execution_count": 110,
   "id": "454f1668",
   "metadata": {
    "colab": {
     "base_uri": "https://localhost:8080/"
    },
    "executionInfo": {
     "elapsed": 16,
     "status": "ok",
     "timestamp": 1749053677584,
     "user": {
      "displayName": "Ahsan Rajpoot",
      "userId": "07291457265130406735"
     },
     "user_tz": -300
    },
    "id": "454f1668",
    "outputId": "d6999029-4ff8-401b-8a92-4a24d9862a99"
   },
   "outputs": [
    {
     "name": "stdout",
     "output_type": "stream",
     "text": [
      "Hello\n",
      "None\n"
     ]
    }
   ],
   "source": [
    "def greet():\n",
    "    print(\"Hello\")\n",
    "\n",
    "result = greet()\n",
    "print(result)  # None"
   ]
  },
  {
   "cell_type": "markdown",
   "id": "29e0bf80",
   "metadata": {
    "id": "29e0bf80"
   },
   "source": [
    "- To initialize a variable without value"
   ]
  },
  {
   "cell_type": "code",
   "execution_count": 111,
   "id": "93e85d13",
   "metadata": {
    "executionInfo": {
     "elapsed": 2,
     "status": "ok",
     "timestamp": 1749053677588,
     "user": {
      "displayName": "Ahsan Rajpoot",
      "userId": "07291457265130406735"
     },
     "user_tz": -300
    },
    "id": "93e85d13"
   },
   "outputs": [],
   "source": [
    "user = None"
   ]
  },
  {
   "cell_type": "markdown",
   "id": "fab4b9de",
   "metadata": {
    "id": "fab4b9de"
   },
   "source": [
    "- As a default argument in functions"
   ]
  },
  {
   "cell_type": "code",
   "execution_count": 112,
   "id": "ca8eba0c",
   "metadata": {
    "colab": {
     "base_uri": "https://localhost:8080/"
    },
    "executionInfo": {
     "elapsed": 15,
     "status": "ok",
     "timestamp": 1749053677606,
     "user": {
      "displayName": "Ahsan Rajpoot",
      "userId": "07291457265130406735"
     },
     "user_tz": -300
    },
    "id": "ca8eba0c",
    "outputId": "94b9e7f0-4352-433f-a4a9-fbdfb1abc90a"
   },
   "outputs": [
    {
     "name": "stdout",
     "output_type": "stream",
     "text": [
      "No data passed\n"
     ]
    }
   ],
   "source": [
    "def show(data=None):\n",
    "    if data is None:\n",
    "        print(\"No data passed\")\n",
    "\n",
    "show()"
   ]
  },
  {
   "cell_type": "markdown",
   "id": "8744c58b",
   "metadata": {
    "id": "8744c58b"
   },
   "source": [
    "##### **Checking for None:**"
   ]
  },
  {
   "cell_type": "code",
   "execution_count": 113,
   "id": "0025d28d",
   "metadata": {
    "colab": {
     "base_uri": "https://localhost:8080/"
    },
    "executionInfo": {
     "elapsed": 35,
     "status": "ok",
     "timestamp": 1749053677642,
     "user": {
      "displayName": "Ahsan Rajpoot",
      "userId": "07291457265130406735"
     },
     "user_tz": -300
    },
    "id": "0025d28d",
    "outputId": "ba32fa2f-8e35-4ec8-e2a2-2cf618c3c8bf"
   },
   "outputs": [
    {
     "name": "stdout",
     "output_type": "stream",
     "text": [
      "a is None\n"
     ]
    }
   ],
   "source": [
    "a = None\n",
    "\n",
    "if a is None:\n",
    "    print(\"a is None\")\n"
   ]
  }
 ],
 "metadata": {
  "colab": {
   "provenance": [],
   "toc_visible": true
  },
  "kernelspec": {
   "display_name": "learning",
   "language": "python",
   "name": "python3"
  },
  "language_info": {
   "codemirror_mode": {
    "name": "ipython",
    "version": 3
   },
   "file_extension": ".py",
   "mimetype": "text/x-python",
   "name": "python",
   "nbconvert_exporter": "python",
   "pygments_lexer": "ipython3",
   "version": "3.11.13"
  }
 },
 "nbformat": 4,
 "nbformat_minor": 5
}
