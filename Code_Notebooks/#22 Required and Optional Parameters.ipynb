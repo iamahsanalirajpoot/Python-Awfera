{
 "cells": [
  {
   "cell_type": "markdown",
   "id": "e2dc9154",
   "metadata": {},
   "source": [
    "# **Lecture 22: Required and Optional Parameters**"
   ]
  },
  {
   "cell_type": "markdown",
   "id": "0454cac0",
   "metadata": {},
   "source": [
    "**Author Name :** Ahsan Ali Rajpoot  \n",
    "- **LinkedIn :** [linkedin.com/in/iamahsanalirajpoot](https://www.linkedin.com/in/iamahsanalirajpoot)  \n",
    "- **Facebook :** [facebook.com/iamahsanalirajpoot](https://www.facebook.com/iamahsanalirajpoot)  \n",
    "- **GitHub :** [github.com/iamahsanalirajpoot](https://github.com/iamahsanalirajpoot)  \n",
    "- **Kaggle :** [kaggle.com/ahsanalirajpoot](https://www.kaggle.com/ahsanalirajpoot)"
   ]
  },
  {
   "cell_type": "markdown",
   "id": "0f33d0f8",
   "metadata": {},
   "source": [
    "## **API Parameters**\n",
    "\n",
    "Parameters = Inputs you provide to API."
   ]
  },
  {
   "cell_type": "markdown",
   "id": "3ca8a57f",
   "metadata": {},
   "source": [
    "### **Required Parameters**\n",
    "\n",
    "Think of required parameters as the must-have details you need to give when using an API—like filling out a form where some fields are marked with a star (*). If you leave these out, the API won’t work and will let you know something’s missing.\n",
    "\n",
    "### **Optional Parameters**\n",
    "\n",
    "Optional parameters are like the extra fields on a form that you can fill in if you want. They aren’t necessary, but adding them can help the API do more or give you better results. If you skip them, the API still works, just with its default settings.\n",
    "\n",
    "**Example:**\n",
    "\n",
    "- If you’re using a weather API, a required parameter might be the city name (like \"Lahore\"), while an optional parameter could be the units of measurement (like \"Celsius\" or \"Fahrenheit\"). If you don’t specify the units, the API will just use its default setting, which might be Fahrenheit."
   ]
  },
  {
   "cell_type": "markdown",
   "id": "9f91f02c",
   "metadata": {},
   "source": [
    "## **Validation with Pydantic**\n",
    "\n",
    "FastAPI leverages Pydantic for validating input and ensuring data integrity. We define the input parameters, their types, and whether they are required or optional."
   ]
  },
  {
   "cell_type": "markdown",
   "id": "45b4b76c",
   "metadata": {},
   "source": [
    "## **Building the Simple Text Processing API**\n",
    "\n",
    "Link to the Python file for the text processing API: [text_processing_api.py](22text_processing_api.py)\n",
    "\n",
    "1. **API Setup**\n",
    "We start by importing the necessary packages, including FastAPI, HTTP exceptions, and Pydantic. After setting up the FastAPI app, we define the endpoints. For the text processing API, we use the @app.post decorator to define the POST method endpoint, where the user sends data for processing.\n",
    "\n",
    "2. **Text Processing Endpoint**\n",
    "\n",
    "- **Input Parameters:**\n",
    "\n",
    "   - text (string): The text to be processed. This parameter is required.\n",
    "   - uppercase (boolean, optional): If true, the text will be converted to uppercase.\n",
    "\n",
    "- **Output Response:**\n",
    "\n",
    "   - processedText: The processed text (string).\n",
    "   - textLength: The length of the processed text (integer).\n",
    "  \n",
    "- **Validation:**\n",
    "\n",
    "   - The text is validated to ensure it is not empty. If the user sends an empty string, an HTTP exception is raised with a 400 status code."
   ]
  },
  {
   "cell_type": "markdown",
   "id": "fc2bf7cd",
   "metadata": {},
   "source": [
    "3. **Example Execution**\n",
    "\n",
    "- Step 1: The user enters \"Ahsan\" as the text and false for the uppercase parameter.\n",
    "- Result: The API returns \"Ahsan\" as it is with a length of 5.\n",
    "\n",
    "- Step 2: The user enters \"My name is Ahsan\" as the text and true for the uppercase parameter.\n",
    "- Result: The API converts the text to uppercase: \"MY NAME IS AHSAN\" with a length of 16."
   ]
  },
  {
   "cell_type": "markdown",
   "id": "f990403e",
   "metadata": {},
   "source": [
    "4. **Response Handling**\n",
    "\n",
    "The response includes the processed text and its length. If any issues arise (e.g., incorrect input type), the API responds with an appropriate error message, ensuring smooth user experience."
   ]
  },
  {
   "cell_type": "markdown",
   "id": "ad15899e",
   "metadata": {},
   "source": [
    "## **API Documentation (Swagger)**\n",
    "\n",
    "FastAPI automatically generates detailed API documentation using Swagger. This includes:\n",
    "\n",
    "- API description, title, and version.\n",
    "- Available endpoints and their respective functions.\n",
    "- Input parameters and types.\n",
    "- Response format and possible errors.\n",
    "\n",
    "The documentation is accessible through the [http://127.0.0.1:8000/docs](http://127.0.0.1:8000/docs) URL, allowing users to interact with the API through a user-friendly interface."
   ]
  },
  {
   "cell_type": "markdown",
   "id": "5c9304d0",
   "metadata": {},
   "source": [
    "## **Error Handling**\n",
    "\n",
    "FastAPI uses HTTP exceptions to manage errors effectively. For example:\n",
    "\n",
    "If the input text is empty, the API raises a 400 Bad Request error with a clear message: “Text cannot be empty.”\n",
    "Validation errors, such as incorrect data types, are also handled through the exception mechanism."
   ]
  }
 ],
 "metadata": {
  "language_info": {
   "name": "python"
  }
 },
 "nbformat": 4,
 "nbformat_minor": 5
}
