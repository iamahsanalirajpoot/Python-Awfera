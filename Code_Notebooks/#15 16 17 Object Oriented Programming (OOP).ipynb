{
 "cells": [
  {
   "cell_type": "markdown",
   "id": "f3cfdd44",
   "metadata": {},
   "source": [
    "# **Lecture 15 16 & 17: Object Oriented Programming (OOP)**"
   ]
  },
  {
   "cell_type": "markdown",
   "id": "5496d6c8",
   "metadata": {},
   "source": [
    "**Author Name :** Ahsan Ali Rajpoot  \n",
    "- **LinkedIn :** [linkedin.com/in/iamahsanalirajpoot](https://www.linkedin.com/in/iamahsanalirajpoot)  \n",
    "- **Facebook :** [facebook.com/iamahsanalirajpoot](https://www.facebook.com/iamahsanalirajpoot)  \n",
    "- **GitHub :** [github.com/iamahsanalirajpoot](https://github.com/iamahsanalirajpoot)  \n",
    "- **Kaggle :** [kaggle.com/ahsanalirajpoot](https://www.kaggle.com/ahsanalirajpoot)"
   ]
  },
  {
   "cell_type": "markdown",
   "id": "ce93b369",
   "metadata": {},
   "source": [
    "## **What is OOP?**\n",
    "\n",
    "- Object-oriented programming (OOP) is a programming paradigm based on the concept of objects. \n",
    "- Objects can contain data (called fields, attributes or properties) and have actions they can perform (called procedures or methods and implemented in code). "
   ]
  },
  {
   "cell_type": "markdown",
   "id": "5e9e0488",
   "metadata": {},
   "source": [
    "## **Core Concepts of OOP**"
   ]
  },
  {
   "cell_type": "markdown",
   "id": "53fee3e1",
   "metadata": {},
   "source": [
    "### **Class**\n",
    "\n",
    "- A class is a blueprint or template for creating objects. \n",
    "- It defines a set of attributes (data) and methods (functions) that the objects created from it will have. \n",
    "- Think of a class as the architectural plan for a house; it specifies the properties and functionalities, but it isn't the house itself.\n",
    "\n",
    "**Example:** A Car class can define that all cars will have a color and a model, and will be able to start and stop.\n"
   ]
  },
  {
   "cell_type": "code",
   "execution_count": 1,
   "id": "cd1d5c64",
   "metadata": {},
   "outputs": [],
   "source": [
    "class Car:\n",
    "    # using __init__ constructor to initialize a new Car object\n",
    "    def __init__(self, brand, color, model):\n",
    "        # Attributes\n",
    "        self.brand = brand\n",
    "        self.color = color\n",
    "        self.model = model"
   ]
  },
  {
   "cell_type": "markdown",
   "id": "2ec98144",
   "metadata": {},
   "source": [
    "The __init__ method in Python is a special method used in Object-Oriented Programming (OOP).\n",
    "\n",
    "- __init__ is like a constructor.\n",
    "- It is automatically called when you create an object from a class.\n",
    "- It’s used to initialize the object’s data (attributes)."
   ]
  },
  {
   "cell_type": "markdown",
   "id": "10635150",
   "metadata": {},
   "source": [
    "### **Object**\n",
    "\n",
    "An object is an instance of a class. It's the actual entity created from the class blueprint. Using the house analogy, an object is the physical house built from the plan. You can create multiple objects from a single class, each with its own unique state.\n",
    "\n",
    "**Example:** From the Car class, we can create specific car objects like a red Tesla or a blue Ford."
   ]
  },
  {
   "cell_type": "code",
   "execution_count": 2,
   "id": "dabe9ace",
   "metadata": {},
   "outputs": [
    {
     "name": "stdout",
     "output_type": "stream",
     "text": [
      "Model S\n",
      "Mustang\n"
     ]
    }
   ],
   "source": [
    "# Creating objects of the Car class\n",
    "my_car = Car(\"Tesla\", \"Red\", \"Model S\")\n",
    "friends_car = Car(\"ford\", \"Blue\", \"Mustang\")\n",
    "\n",
    "print(my_car.model) \n",
    "print(friends_car.model)"
   ]
  },
  {
   "cell_type": "markdown",
   "id": "0bab2039",
   "metadata": {},
   "source": [
    "### **Attributes**\n",
    "\n",
    "- Attributes are the data or variables associated with a class or an object. \n",
    "- They represent the state or properties of an object. In the class definition, they are often initialized in the `__init__` method of class.\n",
    "\n",
    "**Example:** For our Car class, the attributes are brand, color and model. Each object created from this class will have its own values for these attributes."
   ]
  },
  {
   "cell_type": "code",
   "execution_count": 3,
   "id": "7529f30b",
   "metadata": {},
   "outputs": [
    {
     "name": "stdout",
     "output_type": "stream",
     "text": [
      "My car is a Red Tesla Model S.\n"
     ]
    }
   ],
   "source": [
    "# Accessing attributes of an object of Car class\n",
    "print(f\"My car is a {my_car.color} {my_car.brand} {my_car.model}.\")"
   ]
  },
  {
   "cell_type": "markdown",
   "id": "894a9e04",
   "metadata": {},
   "source": [
    "### **Methods**\n",
    "\n",
    "- Methods are functions defined inside a class that describe the behaviors or actions an object can perform. \n",
    "- They operate on the object's attributes. \n",
    "= The first parameter of a method is always self, which refers to the instance of the object calling the method.\n",
    "\n",
    "**Example:** The `honking` function in the `Car2` class is a method. It describes an action that a Car object can perform."
   ]
  },
  {
   "cell_type": "code",
   "execution_count": 4,
   "id": "eb591c39",
   "metadata": {},
   "outputs": [
    {
     "name": "stdout",
     "output_type": "stream",
     "text": [
      "The Honda Civic is honking.\n"
     ]
    }
   ],
   "source": [
    "class Car2:\n",
    "    def __init__(self, brand, model):\n",
    "        self.brand = brand\n",
    "        self.model = model\n",
    "\n",
    "    # Method\n",
    "    def honking(self):\n",
    "        print(f\"The {self.brand } {self.model} is honking.\")\n",
    "\n",
    "# creating object\n",
    "my_new_car = Car2(\"Honda\", \"Civic\")\n",
    "\n",
    "# Calling a method\n",
    "my_new_car.honking()"
   ]
  },
  {
   "cell_type": "markdown",
   "id": "1d24b363",
   "metadata": {},
   "source": [
    "#### **Types of Methods:**"
   ]
  },
  {
   "cell_type": "markdown",
   "id": "236640da",
   "metadata": {},
   "source": [
    "##### 1. **Instance Methods:** \n",
    "\n",
    "   - An instance method is the most common type of method.\n",
    "   - It takes self as its first argument.\n",
    "   - It can access and modify object (instance) attributes.\n",
    "   - You call it on an object (an instance of the class).\n",
    "\n",
    "**Example:**"
   ]
  },
  {
   "cell_type": "code",
   "execution_count": null,
   "id": "aa8ebdd8",
   "metadata": {},
   "outputs": [
    {
     "name": "stdout",
     "output_type": "stream",
     "text": [
      "Name : Ahsan, Age : 18, Salary : 150000.0\n",
      "Name : Usman, Age : 21, Salary : 200000.0\n"
     ]
    }
   ],
   "source": [
    "# creating a Person calss\n",
    "class Employee():\n",
    "    def __init__(self, name, age, salary):\n",
    "        self.name = name\n",
    "        self.age = int(age)\n",
    "        self.salary = float(salary)\n",
    "    \n",
    "    # creating an instance method\n",
    "    def show_details(self):\n",
    "        return f\"Name : {self.name}, Age : {self.age}, Salary : {self.salary}\"\n",
    "\n",
    " # creating and Object/instance from Employee class\n",
    "employee_1 = Employee(\"Ahsan\", 18, 150000)\n",
    "employee_2 = Employee(\"Usman\", 21, 200000)\n",
    "\n",
    "# calling the method\n",
    "print(employee_1.show_details())\n",
    "print(employee_2.show_details())"
   ]
  },
  {
   "cell_type": "markdown",
   "id": "440ba828",
   "metadata": {},
   "source": [
    "##### 2. **Class Methods:** \n",
    "\n",
    "   - A class method is a method that is bound to the class and not the instance.\n",
    "   - It takes `cls` as its first parameter instead of self.\n",
    "   - You define it using the `@classmethod` decorator.\n",
    "   - It can access or modify class-level data, and it can be used to create instances in a different way (alternative constructor).\n",
    "\n",
    "Let’s say you want to create an Employee object from a string like: \"Ahsan-18-70000\"\n",
    "\n",
    "**Example:**"
   ]
  },
  {
   "cell_type": "code",
   "execution_count": 66,
   "id": "36fb2e56",
   "metadata": {},
   "outputs": [
    {
     "name": "stdout",
     "output_type": "stream",
     "text": [
      "Name: Ahsan, Age: 18, Salary: 140000.0\n"
     ]
    }
   ],
   "source": [
    "class Employee:\n",
    "    def __init__(self, name, age, salary):\n",
    "        self.name = name\n",
    "        self.age = int(age)\n",
    "        self.salary = float(salary)\n",
    "\n",
    "    def show_details(self):\n",
    "        print(f\"Name: {self.name}, Age: {self.age}, Salary: {self.salary}\")\n",
    "\n",
    "    # creating a class method\n",
    "    @classmethod\n",
    "    def from_string(cls, emp_str):\n",
    "        name, age, salary = emp_str.split('-')\n",
    "        return cls(name, age, salary)\n",
    "\n",
    "# employee details in string\n",
    "emp_str = \"Ahsan-18-140000\"\n",
    "\n",
    "emp_1 = Employee(\"Usman\", 21, 150000)\n",
    "emp_2 = Employee.from_string(emp_str) # creating an instance/object using class method 'from_string'\n",
    "\n",
    "# calling method\n",
    "emp_2.show_details()"
   ]
  },
  {
   "cell_type": "markdown",
   "id": "fe81a7e2",
   "metadata": {},
   "source": [
    "##### 3. **Static Methods:**\n",
    "\n",
    " - A static method is a method that doesn’t need `self` or `cls`.\n",
    " - It belongs to the class, but can’t access instance or class attributes directly.\n",
    " - It’s like a regular function, but grouped logically inside a class.\n",
    " - Defined using the `@staticmethod` decorator.\n",
    "\n",
    "The method is related to the class, but doesn’t need to access or modify object/class data. Used when we want to create helper functions inside the class."
   ]
  },
  {
   "cell_type": "markdown",
   "id": "695b4355",
   "metadata": {},
   "source": [
    "Let’s say you want to check if a given age qualifies as a working adult. That’s a perfect job for a static method.\n",
    "\n",
    "**Example:**"
   ]
  },
  {
   "cell_type": "code",
   "execution_count": 68,
   "id": "410f0c69",
   "metadata": {},
   "outputs": [
    {
     "data": {
      "text/plain": [
       "True"
      ]
     },
     "execution_count": 68,
     "metadata": {},
     "output_type": "execute_result"
    }
   ],
   "source": [
    "class Employee:\n",
    "    def __init__(self, name, age, salary):\n",
    "        self.name = name\n",
    "        self.age = int(age)\n",
    "        self.salary = float(salary)\n",
    "\n",
    "    # Static method\n",
    "    @staticmethod\n",
    "    def is_adult(age):\n",
    "        return int(age) >= 18\n",
    "    \n",
    "emp_1 = Employee(\"Sumaira\", 23, 170000)\n",
    "\n",
    "\n",
    "# calling the static method\n",
    "Employee.is_adult(emp_1.age)"
   ]
  },
  {
   "cell_type": "markdown",
   "id": "742d788a",
   "metadata": {},
   "source": [
    "**Student Management System**\n",
    "\n",
    "- Create a `Student` class.\n",
    "- **Attributes:**`name`, `roll_number`, `age`, `grades`.\n",
    "\n",
    "- **Methods:**\n",
    "   - __init__: To initialize student details.\n",
    "   - add_grade(subject, score): To add a grade for a specific subject.\n",
    "   - get_gpa(): To calculate and return the student's GPA (you can use a simple average).\n",
    "   - display_info(): To print all student information.\n",
    "\n",
    "**Task:** Create a few Student objects, add some grades, and display their information."
   ]
  },
  {
   "cell_type": "code",
   "execution_count": null,
   "id": "1105efb2",
   "metadata": {},
   "outputs": [
    {
     "name": "stdout",
     "output_type": "stream",
     "text": [
      "Name       : Ahsan\n",
      "Roll No.   : ST101\n",
      "Age        : 20\n",
      "Grades:-\n",
      "   Math : 85\n",
      "   English : 90\n",
      "   Science : 78\n",
      "GPA        : 84.33\n",
      "--------------------------------\n",
      "Name       : Sumaira\n",
      "Roll No.   : ST102\n",
      "Age        : 19\n",
      "Grades:-\n",
      "   Math : 92\n",
      "   English : 88\n",
      "GPA        : 90.0\n",
      "--------------------------------\n",
      "Name       : Usman\n",
      "Roll No.   : ST103\n",
      "Age        : 21\n",
      "Grades:-\n",
      "GPA        : 0.0\n",
      "--------------------------------\n"
     ]
    }
   ],
   "source": [
    "class Student:\n",
    "    #  initializing student details\n",
    "    def __init__(self, name, roll_number, age):\n",
    "        self.name = name\n",
    "        self.roll_number = roll_number\n",
    "        self.age = age\n",
    "        self.grades = {} \n",
    "\n",
    "    # Method to add grade for a subject\n",
    "    def add_grade(self, subject, score):\n",
    "        self.grades[subject] = score\n",
    "\n",
    "    # Method to calculate and return GPA (simple average)\n",
    "    def get_gpa(self):\n",
    "        if not self.grades:\n",
    "            return 0.0\n",
    "        total = sum(self.grades.values())\n",
    "        return round(total / len(self.grades), 2)\n",
    "\n",
    "    # Method to display all student information\n",
    "    def display_info(self):\n",
    "        print(f\"Name       : {self.name}\")\n",
    "        print(f\"Roll No.   : {self.roll_number}\")\n",
    "        print(f\"Age        : {self.age}\")\n",
    "        print(\"Grades:-\")\n",
    "        for subject, score in self.grades.items():\n",
    "            print(f\"   {subject} : {score}\")\n",
    "        print(f\"GPA        : {self.get_gpa()}\")\n",
    "        print(\"-\" * 32)\n",
    "\n",
    "# Creating objects of some Student and using the methods\n",
    "\n",
    "student1 = Student(\"Ahsan\", \"ST101\", 20)\n",
    "student1.add_grade(\"Math\", 85)\n",
    "student1.add_grade(\"English\", 90)\n",
    "student1.add_grade(\"Science\", 78)\n",
    "\n",
    "student2 = Student(\"Sumaira\", \"ST102\", 19)\n",
    "student2.add_grade(\"Math\", 92)\n",
    "student2.add_grade(\"English\", 88)\n",
    "\n",
    "student3 = Student(\"Usman\", \"ST103\", 21)\n",
    "# No grades yet\n",
    "\n",
    "# Displaying student info\n",
    "student1.display_info()\n",
    "student2.display_info()\n",
    "student3.display_info()\n"
   ]
  }
 ],
 "metadata": {
  "kernelspec": {
   "display_name": "learning",
   "language": "python",
   "name": "python3"
  },
  "language_info": {
   "codemirror_mode": {
    "name": "ipython",
    "version": 3
   },
   "file_extension": ".py",
   "mimetype": "text/x-python",
   "name": "python",
   "nbconvert_exporter": "python",
   "pygments_lexer": "ipython3",
   "version": "3.11.13"
  }
 },
 "nbformat": 4,
 "nbformat_minor": 5
}
