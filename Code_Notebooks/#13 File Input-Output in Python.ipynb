{
 "cells": [
  {
   "cell_type": "markdown",
   "id": "474a84d4",
   "metadata": {},
   "source": [
    "# **Lecture 13: File I/O (Input/Output) in Python**"
   ]
  },
  {
   "cell_type": "markdown",
   "id": "655b4472",
   "metadata": {},
   "source": [
    "**Author Name :** Ahsan Ali Rajpoot  \n",
    "- **LinkedIn :** [linkedin.com/in/iamahsanalirajpoot](https://www.linkedin.com/in/iamahsanalirajpoot)  \n",
    "- **Facebook :** [facebook.com/iamahsanalirajpoot](https://www.facebook.com/iamahsanalirajpoot)  \n",
    "- **GitHub :** [github.com/iamahsanalirajpoot](https://github.com/iamahsanalirajpoot)  \n",
    "- **Kaggle :** [kaggle.com/ahsanalirajpoot](https://www.kaggle.com/ahsanalirajpoot)"
   ]
  },
  {
   "cell_type": "markdown",
   "id": "15011e65",
   "metadata": {},
   "source": [
    "## **What is File I/O?**\n",
    "\n",
    "- File I/O in Python refers to the process of reading data from and writing data to files\n",
    "- It allows you to store data persistently, enabling you to save your work and retrieve it later\n",
    "- Python provides built-in functions and methods to handle file operations easily"
   ]
  },
  {
   "cell_type": "markdown",
   "id": "230fbb05",
   "metadata": {},
   "source": [
    "## **Why do we need file handling in python**\n",
    "\n",
    "- To save data permanently (unlike variables, which lose data after program ends)\n",
    "- Read information from files like .txt, .csv, or .json\n",
    "- Write new data or update existing files easily\n",
    "- Helps to work with big files step by step, instead of loading everything at once\n",
    "- Automate things like creating logs, reports, or backups using files\n",
    "- Makes it easy to share data between different apps by saving and loading from files"
   ]
  },
  {
   "cell_type": "markdown",
   "id": "f5e01533",
   "metadata": {},
   "source": [
    "## **Opening and Closing Files**"
   ]
  },
  {
   "cell_type": "markdown",
   "id": "aa2068de",
   "metadata": {},
   "source": [
    "### **Opening File:**\n",
    "\n",
    "- To work with files, you need to open them first\n",
    "- Use the `open()` function to open a file\n",
    "\n",
    "**Syntax:**"
   ]
  },
  {
   "cell_type": "code",
   "execution_count": null,
   "id": "3adda4e3",
   "metadata": {},
   "outputs": [],
   "source": [
    "file = open('filename.txt', 'mode')\n",
    "# Perform file operations here"
   ]
  },
  {
   "cell_type": "markdown",
   "id": "4a372542",
   "metadata": {},
   "source": [
    "### **Closing File:**\n",
    "\n",
    "- After finishing file operations, it's important to close the file\n",
    "- Use the `close()` method to close the file"
   ]
  },
  {
   "cell_type": "code",
   "execution_count": null,
   "id": "1ce940d6",
   "metadata": {},
   "outputs": [],
   "source": [
    "file = open('filename.txt', 'mode')\n",
    "# Perform file operation here\n",
    "file.close()"
   ]
  },
  {
   "cell_type": "markdown",
   "id": "e10cb088",
   "metadata": {},
   "source": [
    "## **Reading from and writing to Files**\n",
    "\n",
    "We can use different modes while working with files:\n",
    "\n",
    "- `'r'`: Read mode (default) - Opens a file for reading\n",
    "- `'w'`: Write mode - Opens a file for writing (overwrites existing content)\n",
    "- `'a'`: Append mode - Opens a file for appending (adds content to the end)\n",
    "- `'r+'` : Read and write mode - Opens a file for both reading and writing\n",
    "\n",
    "**Examples**"
   ]
  },
  {
   "cell_type": "markdown",
   "id": "c3506116",
   "metadata": {},
   "source": [
    "### **Read Mode (`r`) - Open a file for reading (file must exist.)**"
   ]
  },
  {
   "cell_type": "code",
   "execution_count": 1,
   "id": "ec2c6345",
   "metadata": {},
   "outputs": [
    {
     "name": "stdout",
     "output_type": "stream",
     "text": [
      "File Content:  Hey, my name is Ahsan, I am learning AI, let's keep going and become better every day!\n"
     ]
    }
   ],
   "source": [
    "with open('../Files/example.txt', 'r') as file:\n",
    "    content = file.read()\n",
    "    print('File Content: ', content)"
   ]
  },
  {
   "cell_type": "markdown",
   "id": "89f4b2fc",
   "metadata": {},
   "source": [
    "### **Write Mode (`w`) - Create a new file (or overwrites existing content)**"
   ]
  },
  {
   "cell_type": "code",
   "execution_count": 9,
   "id": "00711ca3",
   "metadata": {},
   "outputs": [
    {
     "name": "stdout",
     "output_type": "stream",
     "text": [
      "File written successfully.\n"
     ]
    }
   ],
   "source": [
    "with open('../Files/example2.txt', 'w') as file:\n",
    "    file.write(\"Myself Ahsan Ali Rajpoot, I have a high interest in AI.\")\n",
    "print(\"File written successfully.\")"
   ]
  },
  {
   "cell_type": "markdown",
   "id": "54e16eff",
   "metadata": {},
   "source": [
    "### **Append Mode (`a`) - Open a file for appending (adds content to the end)**"
   ]
  },
  {
   "cell_type": "code",
   "execution_count": 10,
   "id": "cd1497cc",
   "metadata": {},
   "outputs": [
    {
     "name": "stdout",
     "output_type": "stream",
     "text": [
      "File content has been updated!\n"
     ]
    }
   ],
   "source": [
    "with open('../Files/example2.txt', 'a') as file:\n",
    "    file.write(\"\\nCurrently I am learning Python!\")\n",
    "print(\"File content has been updated!\")"
   ]
  },
  {
   "cell_type": "markdown",
   "id": "c90225d9",
   "metadata": {},
   "source": [
    "### **Read & Write Mode (`r`) - Opens the file for the both reading & writing.**"
   ]
  },
  {
   "cell_type": "code",
   "execution_count": 12,
   "id": "4a10b50b",
   "metadata": {},
   "outputs": [
    {
     "name": "stdout",
     "output_type": "stream",
     "text": [
      "Current Content:  Myself Ahsan Ali Rajpoot, I have a high interest in AI.\n",
      "Currently I am learning Python!\n"
     ]
    }
   ],
   "source": [
    "with open('../Files/example2.txt', 'r+') as file:\n",
    "    content = file.read()\n",
    "    print('Current Content: ', content)"
   ]
  },
  {
   "cell_type": "markdown",
   "id": "82f35124",
   "metadata": {},
   "source": [
    "## **Working With JSON Files in Python**\n",
    "\n",
    "- JSON (JavaScript Object Notation) is a popular data format for storing and exchanging data.\n",
    "- Python provides a built-in `json` module to work with JSON files easily.\n",
    "\n",
    "**Example:** Storing and loading data using JSON files"
   ]
  },
  {
   "cell_type": "code",
   "execution_count": null,
   "id": "0a1b28a4",
   "metadata": {},
   "outputs": [
    {
     "name": "stdout",
     "output_type": "stream",
     "text": [
      "{'name': 'Ahsan', 'age': 18, 'skills': ['Python', 'AI', 'ML']}\n"
     ]
    }
   ],
   "source": [
    "import json\n",
    "\n",
    "# data to write (python dictionary)\n",
    "data = {\n",
    "    \"name\": \"Ahsan\",\n",
    "    \"age\": 18,\n",
    "    \"skills\": [\"Python\", \"AI\", \"ML\"]\n",
    "}\n",
    "\n",
    "# wrting data to json file\n",
    "with open('../Files/data.json', 'w') as file:\n",
    "    json.dump(data, file)\n",
    "\n",
    "# reading JSON date from a file \n",
    "with open('data.json', 'r') as file:\n",
    "    loaded_data = json.load(file)\n",
    "    print(loaded_data) "
   ]
  },
  {
   "cell_type": "markdown",
   "id": "7f5d058b",
   "metadata": {},
   "source": [
    "## **Handling File Exception**\n",
    "\n",
    "Sometime errors occurs while wroking with files. For exammple:\n",
    "\n",
    "- The file does not exist\n",
    "- The file is not accessible (permissions issue)\n",
    "- The file is already open in another program\n",
    "\n",
    "To handle these exceptions, we can use `try` and `except` blocks.\n",
    "\n",
    "**Example:**"
   ]
  },
  {
   "cell_type": "code",
   "execution_count": 25,
   "metadata": {},
   "outputs": [
    {
     "name": "stdout",
     "output_type": "stream",
     "text": [
      "Error: File doesn't exist!\n"
     ]
    }
   ],
   "source": [
    "try:\n",
    "    with open('newfile.txt', 'r') as file:\n",
    "        content = file.read()\n",
    "        print(content)\n",
    "except FileNotFoundError:\n",
    "    print(\"Error: File doesn't exist!\")"
   ]
  },
  {
   "cell_type": "markdown",
   "id": "a9a8879a",
   "metadata": {},
   "source": [
    "## **Best Practices in File Handling**\n",
    "\n",
    "- Always close files after use to free up system resources\n",
    "- Use `with` statement to automatically close files after the block of code is executed\n",
    "- Handle exceptions to avoid crashes when files are not found or inaccessible\n",
    "- Use meaningful file names and extensions to indicate the content"
   ]
  }
 ],
 "metadata": {
  "kernelspec": {
   "display_name": "learning",
   "language": "python",
   "name": "python3"
  },
  "language_info": {
   "codemirror_mode": {
    "name": "ipython",
    "version": 3
   },
   "file_extension": ".py",
   "mimetype": "text/x-python",
   "name": "python",
   "nbconvert_exporter": "python",
   "pygments_lexer": "ipython3",
   "version": "3.11.13"
  }
 },
 "nbformat": 4,
 "nbformat_minor": 5
}
