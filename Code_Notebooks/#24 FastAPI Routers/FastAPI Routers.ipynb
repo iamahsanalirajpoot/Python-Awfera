{
 "cells": [
  {
   "cell_type": "markdown",
   "id": "de6f3ae0",
   "metadata": {},
   "source": [
    "## **Lecture 24: FastAPI Routers**"
   ]
  },
  {
   "cell_type": "markdown",
   "id": "dc1f2459",
   "metadata": {},
   "source": [
    "**Author Name :** Ahsan Ali Rajpoot\n",
    "- **Linkedin :** [linkedin.com/in/iamahsanalirajpoot](linkedin.com/in/iamahsanalirajpoot)\n",
    "- **Facebook :** [facebook.com/iamahsanalirajpoot](facebook.com/iamahsanalirajpoot)\n",
    "- **GitHub :** [github.com/iamahsanalirajpoot](github.com/iamahsanalirajpoot)\n",
    "- **Kaggle :** [kaggle.com/ahsanalirajpoot](kaggle.com/ahsanalirajpoot)"
   ]
  },
  {
   "cell_type": "markdown",
   "id": "b6ed9af7",
   "metadata": {},
   "source": [
    "## **What are API Routers?**\n",
    "\n",
    "API routers are a mechanism to group related endpoints in separate files. This helps in organizing the code, especially when dealing with a large number of APIs. By using routers, you can ensure that your application remains clean and scalable."
   ]
  },
  {
   "cell_type": "markdown",
   "id": "f0e12388",
   "metadata": {},
   "source": [
    "**Imagine:**\n",
    "\n",
    "You're building a big API project, like an online store.\n",
    "\n",
    "You might have different parts:\n",
    "\n",
    "- products (get products, add products...)\n",
    "- users (register, login...)\n",
    "- orders (place order, view order...)\n",
    "\n",
    "**If you put everything in one file, it becomes:**\n",
    "\n",
    "- Messy, hard to manage, and difficult to scale.\n",
    "\n",
    "**The Solution? Use API Routers\n",
    "Routers help you:**\n",
    "\n",
    "- Organize your code into separate files or modules.\n",
    "- Keep related endpoints grouped together.\n",
    "- Make your app cleaner, modular, and scalable.\n",
    "\n",
    "**Think of Routers Like Boxes:**\n",
    "- A router is like a box holding a group of related routes.\n",
    "- You can have a box for products, a box for users, and so on.\n",
    "- Then, in your main app, you simply plug in the boxes."
   ]
  },
  {
   "cell_type": "markdown",
   "id": "c53a8e08",
   "metadata": {},
   "source": [
    "## **Implementing API Routers in FastAPI**\n",
    " \n",
    "### **File:** [shop_items_router.py](shop_items_router.py)\n",
    "\n",
    "- This file will define a router for item-related routes.\n",
    "\n",
    "### **File:** [main-shop-app.py](main-shop-app.py)\n",
    "\n",
    "- This file creates the FastAPI app and includes the router."
   ]
  }
 ],
 "metadata": {
  "language_info": {
   "name": "python"
  }
 },
 "nbformat": 4,
 "nbformat_minor": 5
}
