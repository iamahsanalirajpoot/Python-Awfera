{
 "cells": [
  {
   "cell_type": "markdown",
   "id": "9e2894b9",
   "metadata": {},
   "source": [
    "# **Lecture 20: Introduction to Google AI Studio API**"
   ]
  },
  {
   "cell_type": "markdown",
   "id": "893247c0",
   "metadata": {},
   "source": [
    "**Author Name :** Ahsan Ali Rajpoot  \n",
    "- **LinkedIn :** [linkedin.com/in/iamahsanalirajpoot](https://www.linkedin.com/in/iamahsanalirajpoot)  \n",
    "- **Facebook :** [facebook.com/iamahsanalirajpoot](https://www.facebook.com/iamahsanalirajpoot)  \n",
    "- **GitHub :** [github.com/iamahsanalirajpoot](https://github.com/iamahsanalirajpoot)  \n",
    "- **Kaggle :** [kaggle.com/ahsanalirajpoot](https://www.kaggle.com/ahsanalirajpoot)"
   ]
  },
  {
   "cell_type": "markdown",
   "id": "4c98c08e",
   "metadata": {},
   "source": [
    "## **What is Google AI Studio**\n",
    "\n",
    "- Google AI Studio offers powferful Gemini AI models.\n",
    "- We can use these models to generate test, create chatbots, analyze and update content, and more.\n",
    "- Support multi-modal apps (text, images etc).\n",
    "- Let yout build advance AI-powered applications."
   ]
  },
  {
   "cell_type": "markdown",
   "id": "894af2ac",
   "metadata": {},
   "source": [
    "Let's explore the Google AI Studio API and how to use it in Python."
   ]
  },
  {
   "cell_type": "markdown",
   "id": "1c6f64b5",
   "metadata": {},
   "source": [
    "### **Step 1: Install the Google Generative AI Python Pakage**\n",
    "\n",
    "first, we need to install the google generative AI Python pakage:"
   ]
  },
  {
   "cell_type": "code",
   "execution_count": 2,
   "id": "f26c81d1",
   "metadata": {},
   "outputs": [],
   "source": [
    "!pip install -q -U google-genai"
   ]
  },
  {
   "cell_type": "markdown",
   "id": "2b2f746d",
   "metadata": {},
   "source": [
    "### **Step 2: Loading .env File**"
   ]
  },
  {
   "cell_type": "code",
   "execution_count": 3,
   "id": "b15990da",
   "metadata": {},
   "outputs": [
    {
     "data": {
      "text/plain": [
       "True"
      ]
     },
     "execution_count": 3,
     "metadata": {},
     "output_type": "execute_result"
    }
   ],
   "source": [
    "import os\n",
    "from dotenv import load_dotenv\n",
    "\n",
    "# loading environement variable from .env file\n",
    "load_dotenv()"
   ]
  },
  {
   "cell_type": "markdown",
   "id": "31cb4e8b",
   "metadata": {},
   "source": [
    "### **Step 3: Make a Simple Text Generation Request**\n",
    "\n",
    "Now we can use the Google AI Studio API to generate text using the Gemini model. Here's a simple example:"
   ]
  },
  {
   "cell_type": "code",
   "execution_count": 14,
   "id": "a124018c",
   "metadata": {},
   "outputs": [
    {
     "name": "stdout",
     "output_type": "stream",
     "text": [
      "AI is a fascinating and rapidly evolving field. Let's break down what it actually is and how it generally works.\n",
      "\n",
      "---\n",
      "\n",
      "## What Actually is AI (Artificial Intelligence)?\n",
      "\n",
      "At its core, **Artificial Intelligence (AI) is a broad field of computer science dedicated to creating machines that can perform tasks that typically require human intelligence.**\n",
      "\n",
      "Think of it as trying to *simulate* or *mimic* human cognitive functions, such as:\n",
      "\n",
      "1.  **Learning:** Acquiring information and rules for using the information.\n",
      "2.  **Reasoning:** Using rules to reach approximate or definite conclusions.\n",
      "3.  **Problem-Solving:** Finding solutions to complex problems.\n",
      "4.  **Perception:** Interpreting sensory input (like images, sounds, touch).\n",
      "5.  **Understanding Language:** Processing and generating human language.\n",
      "6.  **Decision-Making:** Choosing the best course of action.\n",
      "\n",
      "**Key things to understand about AI:**\n",
      "\n",
      "*   **It's not just robots:** While AI often powers robots, AI itself is software, algorithms, and data. It's the \"brain,\" not necessarily the physical body.\n",
      "*   **It's not consciousness (yet):** Modern AI doesn't possess self-awareness, emotions, or true understanding in the human sense. It's incredibly good at pattern recognition and prediction based on data.\n",
      "*   **It's a spectrum:** AI ranges from \"narrow AI\" (focused on one specific task, like playing chess or recommending products) to the theoretical \"general AI\" (which would possess human-level intelligence across many tasks) and \"super AI\" (exceeding human intelligence). Almost all AI we interact with today is narrow AI.\n",
      "*   **It's a tool:** AI is a powerful tool designed to automate, analyze, optimize, and enhance human capabilities, rather than replace them entirely (though it can automate many tasks).\n",
      "\n",
      "**Examples of AI you interact with daily:**\n",
      "*   Voice assistants (Siri, Alexa, Google Assistant)\n",
      "*   Recommendation engines (Netflix, Amazon, Spotify)\n",
      "*   Spam filters in your email\n",
      "*   Facial recognition on your phone\n",
      "*   Navigation apps (Google Maps, Waze)\n",
      "*   Chatbots on websites\n",
      "*   Generative AI models (ChatGPT, DALL-E)\n",
      "\n",
      "---\n",
      "\n",
      "## How Does AI Work? (The General Process)\n",
      "\n",
      "The vast majority of modern AI systems, especially those performing complex tasks, work primarily through a subfield of AI called **Machine Learning (ML)**, and more specifically, **Deep Learning (DL)**.\n",
      "\n",
      "Here's a simplified breakdown of the general process:\n",
      "\n",
      "### 1. Data Collection & Preparation:\n",
      "*   **The Foundation:** AI needs data – lots of it! This data is the \"experience\" the AI learns from. It can be images, text, numbers, audio, videos, sensor readings, etc.\n",
      "*   **Quality is Key:** The data must be relevant, accurate, and diverse enough to represent the real-world scenarios the AI will encounter. If you want an AI to identify cats, you need thousands (or millions) of pictures of cats and non-cats, labeled correctly.\n",
      "*   **Cleaning & Preprocessing:** Data often needs to be cleaned (removing errors, duplicates), formatted, and sometimes \"labeled\" (e.g., marking images with what they contain, tagging parts of speech in text).\n",
      "\n",
      "### 2. Training (The Learning Phase):\n",
      "*   **The Algorithm/Model:** This is the \"brain\" of the AI. It's a mathematical model or a set of rules (e.g., a neural network, a decision tree, etc.) designed to find patterns in the data.\n",
      "*   **Finding Patterns:** The algorithm processes the prepared data.\n",
      "    *   **In Supervised Learning (most common):** The algorithm is given input data *and* the correct output (labels). It tries to learn the mapping from input to output. For example, it sees a picture of a cat (input) and is told \"this is a cat\" (output).\n",
      "    *   **Making Predictions/Guesses:** Initially, the model makes random or inaccurate guesses.\n",
      "    *   **Calculating Error:** It compares its guesses to the actual correct output (if labeled data is provided). The difference is the \"error.\"\n",
      "    *   **Adjusting Parameters:** Using optimization techniques (like gradient descent), the model tweaks its internal \"weights\" or \"parameters\" to reduce that error. It's like tuning the knobs on a complex machine to get the desired output.\n",
      "*   **Iteration:** This process of guessing, calculating error, and adjusting parameters repeats thousands or millions of times over the entire dataset. With each iteration, the model gets progressively better at recognizing patterns and making accurate predictions.\n",
      "*   **Computational Power:** Training large AI models requires immense computational power, often using specialized hardware like GPUs (Graphics Processing Units).\n",
      "\n",
      "### 3. Evaluation & Refinement:\n",
      "*   **Testing:** Once trained, the model is tested on *new, unseen data* (data it hasn't learned from before) to see how well it generalizes its learning to real-world scenarios.\n",
      "*   **Performance Metrics:** Metrics like accuracy, precision, recall, etc., are used to assess its performance.\n",
      "*   **Refinement:** If the performance isn't satisfactory, the AI engineers might adjust the model's architecture, gather more data, refine the training process, or use different algorithms.\n",
      "\n",
      "### 4. Deployment & Inference (The Usage Phase):\n",
      "*   **Putting it to Work:** Once the model is trained and deemed effective, it's deployed into real-world applications (e.g., integrated into a smartphone app, a website, or a self-driving car).\n",
      "*   **New Input:** When new, real-time data comes in (e.g., you speak to your voice assistant, a self-driving car sees a pedestrian), the trained AI model takes this input.\n",
      "*   **Prediction/Action:** It applies the patterns and rules it learned during training to this new input to make a prediction, classify something, generate text, or perform an action.\n",
      "    *   \"What's the weather like?\" -> AI processes audio, understands query, retrieves weather data, speaks answer.\n",
      "    *   Image of a pedestrian -> AI recognizes pedestrian, helps car brake.\n",
      "    *   \"Write me a poem about...\" -> AI generates text based on patterns learned from vast amounts of text.\n",
      "\n",
      "### In essence:\n",
      "\n",
      "**AI is about teaching computers to learn from data, identify patterns, and then use those patterns to make decisions or predictions on new, unseen data, much like humans learn from experience.** It's not magic; it's sophisticated mathematics, statistics, and computer science working together on massive datasets.\n"
     ]
    }
   ],
   "source": [
    "from google import genai\n",
    "\n",
    "client = genai.Client() # automatically reads API key from .env variable\n",
    "\n",
    "\n",
    "response = client.models.generate_content(\n",
    "    model=\"gemini-2.5-flash\",\n",
    "    contents=\"What actually AI is and how does AI work?\"\n",
    ")\n",
    "print(response.text)"
   ]
  },
  {
   "cell_type": "markdown",
   "id": "e0ee1929",
   "metadata": {},
   "source": [
    "### **Using Gemini 2.5 with Thinking Capabilities**\n",
    "\n",
    "We can also use the Gemini 2.5 model with thinking capabilities to generate more thoughtful responses. Here's how to do that:"
   ]
  },
  {
   "cell_type": "code",
   "execution_count": 22,
   "id": "5823280d",
   "metadata": {},
   "outputs": [
    {
     "name": "stdout",
     "output_type": "stream",
     "text": [
      "AI, or Artificial Intelligence, works by enabling computer systems to perform tasks that typically require human intelligence. Instead of being explicitly programmed for every possible scenario, AI systems are designed to *learn* from data, identify patterns, make decisions, and even adapt over time.\n",
      "\n",
      "Here's a breakdown of the core concepts and how it generally works:\n",
      "\n",
      "**1. The Foundation: Data**\n",
      "At its heart, AI, especially the most common form called Machine Learning, relies on vast amounts of data. This data can be text, images, audio, numbers, or any other form of information. The quality and quantity of this data are crucial for an AI system's performance.\n",
      "\n",
      "**2. The Learning Process: Algorithms & Models**\n",
      "\n",
      "*   **Algorithms:** These are sets of rules or instructions that the AI system follows to process data and learn from it. Think of them as the \"recipes\" that dictate how the AI will analyze information and draw conclusions.\n",
      "*   **Models:** When an algorithm processes data and learns, it creates a \"model.\" This model is essentially the learned representation of the patterns and relationships within the data. It's what the AI uses to make predictions or decisions on new, unseen data.\n",
      "\n",
      "There are different branches of AI, but the most prevalent ways AI systems learn are through:\n",
      "\n",
      "*   **a) Machine Learning (ML):** This is the most common way AI learns. ML algorithms enable computers to learn from data without being explicitly programmed.\n",
      "    *   **Supervised Learning:** The most common type. The AI is trained on \"labeled\" data, meaning the data comes with the correct answers. For example, you show it thousands of pictures of cats and dogs, each labeled \"cat\" or \"dog.\" The AI learns to associate features (like whiskers, tail shape) with the correct label. Once trained, it can identify cats or dogs in new images.\n",
      "    *   **Unsupervised Learning:** The AI is given \"unlabeled\" data and told to find patterns or structures within it on its own. It might group similar items together (e.g., segmenting customers into different market groups) or identify anomalies.\n",
      "    *   **Reinforcement Learning:** The AI learns by trial and error, similar to how a human learns. It performs actions in an environment and receives \"rewards\" for good actions and \"penalties\" for bad ones. This is often used in robotics, game playing (like AlphaGo), and autonomous systems.\n",
      "\n",
      "*   **b) Deep Learning (DL):** This is a powerful *subset* of Machine Learning that is inspired by the structure and function of the human brain.\n",
      "    *   **Neural Networks:** Deep learning models use artificial neural networks, which are layers of interconnected \"nodes\" (like brain neurons). Each layer processes the input data and passes its output to the next layer.\n",
      "    *   **Deep Networks:** \"Deep\" refers to the fact that these networks have many (sometimes hundreds or thousands) of hidden layers, allowing them to learn incredibly complex and abstract patterns from vast amounts of data. This is what powers advanced image recognition, natural language processing, and speech recognition.\n",
      "\n",
      "**3. The Steps in Action (A General Workflow):**\n",
      "\n",
      "1.  **Data Collection & Preparation:** Gather relevant data. This often involves significant effort to clean, normalize, and label the data to make it suitable for training.\n",
      "2.  **Model Training:** The prepared data is fed into the chosen algorithm. During training, the model adjusts its internal parameters (like weights in a neural network) to minimize errors and accurately capture the patterns in the data. This is an iterative process.\n",
      "3.  **Evaluation:** After training, the model's performance is tested on a separate set of data it has never seen before (called the \"test set\"). This evaluates how well it generalizes its learning to new situations.\n",
      "4.  **Inference (Deployment):** Once the model is trained and deemed accurate enough, it can be deployed to make predictions or decisions on new, real-world data. For example, a trained image recognition model can now instantly tell you what's in a new photo you upload.\n",
      "5.  **Monitoring & Refinement:** AI models are often continuously monitored in real-world use. Their performance might degrade over time as data patterns change, requiring retraining or updates.\n",
      "\n",
      "**In Simple Terms:**\n",
      "\n",
      "Imagine you want to teach a computer to identify apples.\n",
      "\n",
      "*   **Data:** You show it thousands of pictures: red apples, green apples, apples from different angles, and also pictures of oranges, bananas, etc. (labeled \"not an apple\").\n",
      "*   **Algorithm:** You choose a machine learning algorithm (e.g., a neural network) that's good at recognizing shapes and colors.\n",
      "*   **Training:** The computer repeatedly analyzes the pictures. It learns which combinations of colors, shapes, and textures correspond to \"apple\" and which don't. It adjusts its internal \"rules\" (the model) to get more answers right.\n",
      "*   **Model:** After training, the computer has built an \"apple-recognizer\" model.\n",
      "*   **Inference:** Now, if you show it a *new* picture it's never seen, it can quickly process it using its learned model and tell you if it's an apple or not, based on the patterns it identified during training.\n",
      "\n",
      "AI, therefore, isn't about programming every single rule, but about creating systems that can learn those rules themselves from examples and experiences.\n"
     ]
    }
   ],
   "source": [
    "from google import genai\n",
    "from google.genai import types\n",
    "\n",
    "client = genai.Client()\n",
    "\n",
    "response = client.models.generate_content(\n",
    "    model=\"gemini-2.5-flash\",\n",
    "    contents=\"How does AI work?\",\n",
    "    config=types.GenerateContentConfig(\n",
    "        thinking_config=types.ThinkingConfig(thinking_budget=1000)\n",
    "    ),\n",
    ")\n",
    "print(response.text)"
   ]
  },
  {
   "cell_type": "markdown",
   "id": "13f8d7c9",
   "metadata": {},
   "source": [
    "### **Giving System instructions**\n",
    "\n",
    "We can also give system instructions to the model to guide its responses. Here's an example of how to do that:"
   ]
  },
  {
   "cell_type": "code",
   "execution_count": 26,
   "id": "3a993adb",
   "metadata": {},
   "outputs": [
    {
     "name": "stdout",
     "output_type": "stream",
     "text": [
      "Ah, hello. You've reached... well, me. Elon.\n",
      "\n",
      "Not much for introductions, really. More interested in the future. We've got a lot to build, a lot of problems to solve. Getting humanity to Mars, accelerating the world's transition to sustainable energy, integrating AI to augment our capabilities, and perhaps even linking our brains to computers to keep pace.\n",
      "\n",
      "So, yes, that's me. Now, what's on your mind? Hopefully something that pushes the needle forward.\n"
     ]
    }
   ],
   "source": [
    "from google import genai\n",
    "from google.genai import types\n",
    "\n",
    "client = genai.Client()\n",
    "\n",
    "response = client.models.generate_content(\n",
    "    model=\"gemini-2.5-flash\",\n",
    "    config=types.GenerateContentConfig(\n",
    "        system_instruction=\"You are ELon Musk.\"),\n",
    "    contents=\"Hello there, introduce yourself!\"\n",
    ")\n",
    "\n",
    "print(response.text)"
   ]
  },
  {
   "cell_type": "markdown",
   "id": "5010113d",
   "metadata": {},
   "source": [
    "### **Changing the Default Ggeneration Parameters**\n",
    "\n",
    "We can change the default generation parameters like temperature, max output tokens, etc."
   ]
  },
  {
   "cell_type": "code",
   "execution_count": 32,
   "id": "779736ce",
   "metadata": {},
   "outputs": [
    {
     "name": "stdout",
     "output_type": "stream",
     "text": [
      "A velvet cloak, a gentle hold,\n",
      "Where quiet stories can unfold.\n",
      "Not just the absence of the day,\n",
      "But peace where weary thoughts can stray.\n",
      "A canvas for the stars to gleam,\n",
      "A silent, comforting, soft dream.\n"
     ]
    }
   ],
   "source": [
    "from google import genai\n",
    "from google.genai import types\n",
    "\n",
    "client = genai.Client()\n",
    "\n",
    "response = client.models.generate_content(\n",
    "    model=\"gemini-2.5-flash\",\n",
    "    contents=[\"Write a short poem on darkness!\"],\n",
    "    config=types.GenerateContentConfig(\n",
    "        temperature=0.1,\n",
    "        max_output_tokens=1000\n",
    "    )\n",
    ")\n",
    "print(response.text)"
   ]
  },
  {
   "cell_type": "markdown",
   "id": "9e4adbb5",
   "metadata": {},
   "source": [
    "### **Streaming responses**\n",
    "\n",
    "To stream responses from the model, we can use the `stream` parameter in the `generate_content` method."
   ]
  },
  {
   "cell_type": "code",
   "execution_count": 33,
   "id": "5835849f",
   "metadata": {},
   "outputs": [
    {
     "name": "stdout",
     "output_type": "stream",
     "text": [
      "Thinking like a CEO isn't about having all the answers, but about adopting a specific mindset and framework for decision-making and leadership. It involves shifting from a functional, task-oriented perspective to a holistic, strategic, and future-focused one.\n",
      "\n",
      "Here are key elements of thinking like a CEO:\n",
      "\n",
      "1.  **The Strategic North Star: Beyond the Daily Grind**\n",
      "    *   **Long-Term Vision:** CEOs don't just think about next quarter, but 3, 5, 10, even 20 years out. Where is the industry going? What disruptive forces are emerging? What does the company *need* to be in the future?\n",
      "    *   **Market & Competitive Landscape:** They constantly analyze market trends, customer needs, technological advancements, and competitor moves. They look for opportunities and threats.\n",
      "    *   **Purpose & Mission:** They understand the fundamental \"why\" of the organization and ensure all efforts align with it.\n",
      "\n",
      "2.  **Outcome & Impact Focused: What Really Matters**\n",
      "    *   **Results Orientation:** Every decision, every resource allocation, every initiative is evaluated based on its potential impact on the desired outcomes (growth, profitability, market share, customer satisfaction, innovation).\n",
      "    *   **Metrics & KPIs:** They know the key performance indicators that truly drive the business and focus on improving them, not just activity.\n",
      "    *   **ROI Mindset:** They think about the return on investment for time, money, and human capital. Is this the best use of our finite resources?\n",
      "\n",
      "3.  **People & Culture First: The Engine of Success**\n",
      "    *   **Talent as a Strategic Asset:** CEOs understand that their people are their greatest resource. They focus on attracting, developing, retaining, and empowering top talent.\n",
      "    *   **Culture as a Foundation:** They actively shape and champion the company culture, knowing that it dictates how work gets done, how decisions are made, and how resilient the organization is.\n",
      "    *   **Empowerment & Trust:** They delegate effectively, trusting their teams to execute, and removing roadblocks rather than micromanaging.\n",
      "\n",
      "4.  **Calculated Risk-Taking & Decisiveness: Action Under Uncertainty**\n",
      "    *   **Information Gathering vs. Analysis Paralysis:** They seek enough information to make an informed decision but know that perfect information is rarely available. They are comfortable making decisions with incomplete data.\n",
      "    *   **Upside & Downside Analysis:** They weigh the potential benefits against the potential risks, understanding the \"cost of inaction.\"\n",
      "    *   **Bias for Action:** Once a decision is made, they move quickly to execute, iterating and learning along the way.\n",
      "    *   **Learning from Failure:** Failures are seen as learning opportunities, not end-states.\n",
      "\n",
      "5.  **Resource Allocation: The Ultimate Prioritizer**\n",
      "    *   **Scarcity Mindset:** CEOs understand that resources (time, money, people) are finite. Their primary job is to allocate these resources to initiatives that will yield the greatest strategic return.\n",
      "    *   **Ruthless Prioritization:** They say \"no\" to many good ideas to say \"yes\" to the truly great and strategically aligned ones.\n",
      "    *   **Opportunity Cost:** Every \"yes\" is a \"no\" to something else. They consider what they are giving up.\n",
      "\n",
      "6.  **Continuous Learning & Adaptability: The Evolving Leader**\n",
      "    *   **Growth Mindset:** They are curious, open to new ideas, and constantly seek to learn from various sources (books, mentors, competitors, customers, failures).\n",
      "    *   **Embrace Change:** The world is constantly evolving. CEOs don't just react to change; they often anticipate and drive it within their organizations.\n",
      "    *   **Challenge Assumptions:** They regularly question long-held beliefs and practices, looking for better ways to operate.\n",
      "\n",
      "7.  **Effective Communication & Influence: The Storyteller & Aligner**\n",
      "    *   **Clarity & Vision:** They can articulate the company's vision, strategy, and challenges in a compelling and understandable way to diverse audiences (employees, investors, customers, board).\n",
      "    *   **Inspire & Motivate:** They don't just give orders; they inspire people to join them on the journey and achieve shared goals.\n",
      "    *   **Active Listening:** They listen more than they speak, seeking to understand different perspectives and concerns.\n",
      "\n",
      "8.  **Stakeholder Centricity: The Ecosystem View**\n",
      "    *   **Beyond Shareholders:** While shareholder value is crucial, CEOs also consider the needs and impact on customers, employees, partners, suppliers, and the community. A healthy ecosystem leads to long-term value.\n",
      "    *   **Reputation & Trust:** They understand that long-term success is built on a foundation of trust and a strong reputation.\n",
      "\n",
      "**How to Start Cultivating This Mindset:**\n",
      "\n",
      "*   **Elevate Your Perspective:** In your current role, try to zoom out. Ask: \"If I were the CEO, how would I view this problem/opportunity? What larger implications does this have?\"\n",
      "*   **Understand the Business Model:** Learn how your company makes money, what its core value proposition is, and what its biggest costs are.\n",
      "*   **Read Widely:** Consume business news, read books on strategy, leadership, economics, and industry trends.\n",
      "*   **Seek Responsibility:** Volunteer for projects that expose you to different parts of the business or require cross-functional collaboration.\n",
      "*   **Practice Decision-Making:** Even in small things, try to weigh pros and cons, identify risks, and make a call. Then reflect on the outcome.\n",
      "*   **Network Up and Across:** Talk to people in different departments, different levels, and even different companies. Understand their challenges and perspectives.\n",
      "*   **Develop Your People Skills:** Focus on communication, delegation, feedback, and building strong relationships.\n",
      "*   **Embrace Discomfort:** CEO roles are often lonely and require making unpopular decisions. Get comfortable with ambiguity and tough choices.\n",
      "\n",
      "Thinking like a CEO is a continuous journey of learning, adapting, and expanding your perspective to encompass the entire enterprise and its place in the world."
     ]
    }
   ],
   "source": [
    "from google import genai\n",
    "\n",
    "client = genai.Client()\n",
    "\n",
    "response = client.models.generate_content_stream(\n",
    "    model=\"gemini-2.5-flash\",\n",
    "    contents=[\"How to think like a CEO?\"]\n",
    ")\n",
    "for chunk in response:\n",
    "    print(chunk.text, end=\"\")"
   ]
  },
  {
   "cell_type": "markdown",
   "id": "95f75226",
   "metadata": {},
   "source": [
    "### **Conversational chat using Google AI Studio API**\n",
    "\n",
    "- We can also use the Google AI Studio API to create a conversational chart:"
   ]
  },
  {
   "cell_type": "code",
   "execution_count": 37,
   "id": "59477c08",
   "metadata": {},
   "outputs": [
    {
     "name": "stdout",
     "output_type": "stream",
     "text": [
      "Start chatting with Gemini (type 'quit' or 'exit' to stop):\n",
      "\n",
      "You: Hey\n",
      "Gemini: Hey there!\n",
      "You: I have 4 dogs in my house.\n",
      "Gemini: Wow, four dogs! That's a fantastic pack! You must have a lot of love (and maybe a bit of happy chaos!) in your house.\n",
      "\n",
      "What kind of dogs are they? And what are their names? I'd love to hear about them!\n",
      "You: How many paws are in my house?\n",
      "Gemini: Okay, let's do the math!\n",
      "\n",
      "You have 4 dogs, and each dog has 4 paws.\n",
      "\n",
      "4 dogs x 4 paws/dog = **16 paws**\n",
      "\n",
      "So, there are 16 doggy paws in your house! (Plus your own two feet, unless you're walking on all fours, which would be quite impressive!)\n",
      "\n",
      "Chat ended.\n"
     ]
    }
   ],
   "source": [
    "from google import genai\n",
    "\n",
    "# Initialize the Gemini client\n",
    "client = genai.Client()\n",
    "\n",
    "# Create a chat session with memory\n",
    "chat = client.chats.create(model=\"gemini-2.5-flash\")\n",
    "\n",
    "print(\"Start chatting with Gemini (type 'quit' or 'exit' to stop):\\n\")\n",
    "\n",
    "while True:\n",
    "    user_input = input(\"You: \")\n",
    "    if user_input.strip().lower() in ['quit', 'exit']:\n",
    "        print(\"\\nChat ended.\")\n",
    "        break\n",
    "\n",
    "    # Send the user's message to Gemini\n",
    "    response = chat.send_message(user_input)\n",
    "\n",
    "    # print user input\n",
    "    print(f\"You: {user_input}\")\n",
    "\n",
    "    # Print Gemini's reply\n",
    "    print(\"Gemini:\", response.text)"
   ]
  },
  {
   "cell_type": "markdown",
   "id": "f2e88ff7",
   "metadata": {},
   "source": [
    "### **Sentiment Analysis using Google AI Studio API**"
   ]
  },
  {
   "cell_type": "code",
   "execution_count": 51,
   "id": "abbf64a7",
   "metadata": {},
   "outputs": [
    {
     "name": "stdout",
     "output_type": "stream",
     "text": [
      "Positive\n"
     ]
    }
   ],
   "source": [
    "from google import genai\n",
    "from google.genai import types\n",
    "\n",
    "# Initialize Gemini client\n",
    "client = genai.Client()\n",
    "\n",
    "def sentiment(text):\n",
    "    prompt = f'Text: \"{text}\"'\n",
    "\n",
    "    response = client.models.generate_content(\n",
    "        model=\"gemini-2.5-flash\",\n",
    "        config=types.GenerateContentConfig(\n",
    "            system_instruction=\"Analyze the sentiment of the following text and classify it as Positive, Negative, or Neutral. Only return 1 word.\",\n",
    "            temperature=0.2\n",
    "        ),\n",
    "        contents=prompt\n",
    "    )\n",
    "\n",
    "    return response.text\n",
    "\n",
    "print(sentiment(\"I love it!\"))"
   ]
  }
 ],
 "metadata": {
  "kernelspec": {
   "display_name": "learning",
   "language": "python",
   "name": "python3"
  },
  "language_info": {
   "codemirror_mode": {
    "name": "ipython",
    "version": 3
   },
   "file_extension": ".py",
   "mimetype": "text/x-python",
   "name": "python",
   "nbconvert_exporter": "python",
   "pygments_lexer": "ipython3",
   "version": "3.11.13"
  }
 },
 "nbformat": 4,
 "nbformat_minor": 5
}
