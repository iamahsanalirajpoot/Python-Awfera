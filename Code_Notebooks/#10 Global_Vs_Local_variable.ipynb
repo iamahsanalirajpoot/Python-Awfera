{
 "cells": [
  {
   "cell_type": "markdown",
   "id": "dc873028",
   "metadata": {},
   "source": [
    "# **Lecture 10: Global Vs Local Variable**"
   ]
  },
  {
   "cell_type": "markdown",
   "id": "c587ac8a",
   "metadata": {},
   "source": [
    "## **Global Variable**\n",
    "\n",
    "- Defined outside any function  \n",
    "- Accessible from anywhere in the code  \n",
    "- Created when the program starts  \n",
    "- Destroyed when the program ends  \n",
    "- Can be modified by any function  \n",
    "- May cause unintended side effects if not managed carefully"
   ]
  },
  {
   "cell_type": "markdown",
   "id": "ddd07f7b",
   "metadata": {},
   "source": [
    "## **Local Variable**\n",
    "\n",
    "- Defined within a function  \n",
    "- Only accessible inside that function  \n",
    "- Created when the function is called  \n",
    "- Destroyed when the function exits"
   ]
  },
  {
   "cell_type": "markdown",
   "id": "93ec1066",
   "metadata": {},
   "source": [
    "### **Example of Local and Global Variables**"
   ]
  },
  {
   "cell_type": "code",
   "execution_count": null,
   "id": "e03b4888",
   "metadata": {},
   "outputs": [],
   "source": [
    "a = 20 # -> Global Variable\n",
    "\n",
    "def my_fun():\n",
    "    b = 6\n",
    "    print(f'Inside Function: a = {a}, b = {b}') # global variables can be accessed within a function.\n",
    "\n",
    "my_fun()"
   ]
  },
  {
   "cell_type": "code",
   "execution_count": null,
   "id": "d9bbf583",
   "metadata": {},
   "outputs": [],
   "source": [
    "a = 20 # -> Global Variable\n",
    "\n",
    "def my_fun():\n",
    "    b = 6 # -> Local Variable\n",
    "    return b\n",
    "\n",
    "print(f'Outside Function: b = {b}') # will throw an error b/c you can't access the local variabl outside function"
   ]
  },
  {
   "cell_type": "markdown",
   "id": "14566327",
   "metadata": {},
   "source": [
    "### **How Python Handles Variale Scope?**\n",
    "\n",
    "When you reference a variable, Python searches in this order:\n",
    "1. **Local** scope (variables inside the current function)\n",
    "2. **Enclosing** scope (Variables in the enclosing functions)\n",
    "3. **Global** scope (Variables defined at the top level of the script)\n",
    "4. **Built-in** scope (predefines variables in Python, like `len`, `print`, etc.)\n",
    "\n",
    "Example:"
   ]
  },
  {
   "cell_type": "code",
   "execution_count": null,
   "id": "5739bed9",
   "metadata": {},
   "outputs": [],
   "source": [
    "x = \"global\"\n",
    "\n",
    "def outer():\n",
    "    x = \"enclosing\"\n",
    "    \n",
    "    def inner():\n",
    "        x = \"local\"\n",
    "        print(x)  # prints \"local\"\n",
    "    \n",
    "    inner()\n",
    "    print(x)  # prints \"enclosing\"\n",
    "\n",
    "outer()\n",
    "print(x)  # prints \"global\""
   ]
  },
  {
   "cell_type": "markdown",
   "id": "7f037f8a",
   "metadata": {},
   "source": [
    "### **Accessing Global Variables Inside Function**\n",
    "\n",
    "To access a global variable inside a function, you can simply reference it by name:"
   ]
  },
  {
   "cell_type": "code",
   "execution_count": null,
   "id": "4edda730",
   "metadata": {},
   "outputs": [],
   "source": [
    "x = \"Global\"\n",
    "\n",
    "def my_fun():\n",
    "    print(x) # -> accessing global variable\n",
    "\n",
    "my_fun()"
   ]
  },
  {
   "cell_type": "markdown",
   "id": "d08710e5",
   "metadata": {},
   "source": [
    "### **Modifying Global Variable Inside Function**\n",
    "\n",
    "To modify a global variable inside a function, you need to declare it as `global`:"
   ]
  },
  {
   "cell_type": "code",
   "execution_count": null,
   "id": "fc8fabe6",
   "metadata": {},
   "outputs": [],
   "source": [
    "x = 10\n",
    "\n",
    "def my_fun():\n",
    "    global x # -> Tells Python to use the global variable\n",
    "\n",
    "    x += 10 # -> modifying global variable\n",
    "    print(x)\n",
    "\n",
    "my_fun()"
   ]
  },
  {
   "cell_type": "markdown",
   "id": "e60e13b0",
   "metadata": {},
   "source": [
    "### **Accessing Enclosing Variable**\n",
    "\n",
    "You can read variables from the enclosing scope directly:\n",
    "\n",
    "Example:"
   ]
  },
  {
   "cell_type": "code",
   "execution_count": null,
   "id": "9876d2a3",
   "metadata": {},
   "outputs": [],
   "source": [
    "def outer():\n",
    "    msg = \"Enclosing Variable\"\n",
    "\n",
    "    def inner():\n",
    "        print(msg) # -> Accessing enclosing variable\n",
    "    inner()\n",
    "\n",
    "outer()"
   ]
  },
  {
   "cell_type": "markdown",
   "id": "d3c278dc",
   "metadata": {},
   "source": [
    "### **Modifying Enclosing Variables**\n",
    "\n",
    "to change the value of an enclosing variable inside the inner function, you need to declare it as `nonlocal`:"
   ]
  },
  {
   "cell_type": "code",
   "execution_count": null,
   "id": "2ce718ff",
   "metadata": {},
   "outputs": [],
   "source": [
    "def outer():\n",
    "    count = 0\n",
    "\n",
    "    def inner():\n",
    "        nonlocal count # -> Tells Python to use the enclosing 'count'\n",
    "\n",
    "        count += 1\n",
    "        print(count)\n",
    "    \n",
    "    inner()\n",
    "\n",
    "outer()"
   ]
  },
  {
   "cell_type": "markdown",
   "id": "8a0f1114",
   "metadata": {},
   "source": [
    "**Note:** Without `nonlocal`, Python would treat `count` as a new local variable inside `inner()`, and you'd get an error when trying to modify it"
   ]
  },
  {
   "cell_type": "markdown",
   "id": "c3aca784",
   "metadata": {},
   "source": [
    "### **Best Practices for Using Global and Local Variables**\n",
    "\n",
    "- Prefer local variables over global variables to avoid unintended side effects.\n",
    "- Use descriptive names for global variables to avoid confusion.\n",
    "- Use function arguments to pass data instead of relying on global variables."
   ]
  },
  {
   "cell_type": "markdown",
   "id": "2cc96aeb",
   "metadata": {},
   "source": [
    "## **Understanding `is` (Identity Comparison)**\n",
    "The `is` operator checks if two variables point to the same object in memory.\n",
    "\n",
    "Example:"
   ]
  },
  {
   "cell_type": "code",
   "execution_count": null,
   "id": "43827b31",
   "metadata": {},
   "outputs": [
    {
     "name": "stdout",
     "output_type": "stream",
     "text": [
      "True\n",
      "False\n"
     ]
    }
   ],
   "source": [
    "a = ['a', 'b', 'c']\n",
    "b = a # -> both point to the same object\n",
    "c = ['a', 'b', 'c'] # -> different object with same values\n",
    "\n",
    "print(a is b) # -> True\n",
    "print(a is c) # -> False"
   ]
  },
  {
   "cell_type": "markdown",
   "id": "184a2dd4",
   "metadata": {},
   "source": [
    "## **Understanding `==` (Value Comparison)**\n",
    "\n",
    "The `==` operator checks if the values of two variables are equal, regardless of whether they point to the same object in memory."
   ]
  },
  {
   "cell_type": "code",
   "execution_count": null,
   "id": "71b9f5d5",
   "metadata": {},
   "outputs": [
    {
     "name": "stdout",
     "output_type": "stream",
     "text": [
      "True\n",
      "True\n"
     ]
    }
   ],
   "source": [
    "a = ['a', 'b', 'c']\n",
    "b = a \n",
    "c = ['a', 'b', 'c']\n",
    "\n",
    "print(a == b) # -> True\n",
    "print(a == c) # -> True"
   ]
  },
  {
   "cell_type": "markdown",
   "id": "3aacdef2",
   "metadata": {},
   "source": [
    "**Comparing Immutable Objects (`is` works for small integers and strings)**"
   ]
  },
  {
   "cell_type": "code",
   "execution_count": 6,
   "id": "0d8ace3f",
   "metadata": {},
   "outputs": [
    {
     "name": "stdout",
     "output_type": "stream",
     "text": [
      "False\n",
      "True\n"
     ]
    }
   ],
   "source": [
    "x = 4563\n",
    "y = 4563\n",
    "print(x is y) # -> False (different memory location)\n",
    "\n",
    "a = 255\n",
    "b = 255\n",
    "print(a is b) # -> True (same memory location) \n",
    "# reason: Python caches small integers (from -5 to 256)"
   ]
  },
  {
   "cell_type": "markdown",
   "id": "e7c79c4e",
   "metadata": {},
   "source": [
    "**Checking if variable is `None` (`is` is preferred)**"
   ]
  },
  {
   "cell_type": "code",
   "execution_count": 7,
   "id": "a8f5fcd8",
   "metadata": {},
   "outputs": [
    {
     "name": "stdout",
     "output_type": "stream",
     "text": [
      "x is None\n"
     ]
    }
   ],
   "source": [
    "x = None\n",
    "\n",
    "if x is None:\n",
    "    print('x is None')"
   ]
  }
 ],
 "metadata": {
  "kernelspec": {
   "display_name": "learning",
   "language": "python",
   "name": "python3"
  },
  "language_info": {
   "codemirror_mode": {
    "name": "ipython",
    "version": 3
   },
   "file_extension": ".py",
   "mimetype": "text/x-python",
   "name": "python",
   "nbconvert_exporter": "python",
   "pygments_lexer": "ipython3",
   "version": "3.11.13"
  }
 },
 "nbformat": 4,
 "nbformat_minor": 5
}
